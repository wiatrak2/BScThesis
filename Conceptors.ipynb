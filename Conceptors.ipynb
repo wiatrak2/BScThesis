{
  "nbformat": 4,
  "nbformat_minor": 0,
  "metadata": {
    "colab": {
      "name": "Conceptors.ipynb",
      "version": "0.3.2",
      "provenance": [],
      "include_colab_link": true
    },
    "kernelspec": {
      "name": "python3",
      "display_name": "Python 3"
    },
    "accelerator": "GPU"
  },
  "cells": [
    {
      "cell_type": "markdown",
      "metadata": {
        "id": "view-in-github",
        "colab_type": "text"
      },
      "source": [
        "<a href=\"https://colab.research.google.com/github/wiatrak2/BScThesis/blob/master/Conceptors.ipynb\" target=\"_parent\"><img src=\"https://colab.research.google.com/assets/colab-badge.svg\" alt=\"Open In Colab\"/></a>"
      ]
    },
    {
      "metadata": {
        "id": "jMu5OkHBRrR0",
        "colab_type": "code",
        "colab": {
          "base_uri": "https://localhost:8080/",
          "height": 34
        },
        "outputId": "bd2e9b96-76e3-42ed-df8a-7754649060f9"
      },
      "cell_type": "code",
      "source": [
        "from google.colab import drive\n",
        "drive.mount('/content/drive')\n",
        "import sys\n",
        "sys.path.append('BScThesis/')"
      ],
      "execution_count": 31,
      "outputs": [
        {
          "output_type": "stream",
          "text": [
            "Drive already mounted at /content/drive; to attempt to forcibly remount, call drive.mount(\"/content/drive\", force_remount=True).\n"
          ],
          "name": "stdout"
        }
      ]
    },
    {
      "metadata": {
        "id": "TaJTDNgoRwrg",
        "colab_type": "code",
        "colab": {
          "base_uri": "https://localhost:8080/",
          "height": 133
        },
        "outputId": "06adb369-7e34-4cec-a2af-db1a09d97d3d"
      },
      "cell_type": "code",
      "source": [
        "!pip3 install torch torchvision"
      ],
      "execution_count": 32,
      "outputs": [
        {
          "output_type": "stream",
          "text": [
            "Requirement already satisfied: torch in /usr/local/lib/python3.6/dist-packages (0.4.1)\n",
            "Requirement already satisfied: torchvision in /usr/local/lib/python3.6/dist-packages (0.2.1)\n",
            "Requirement already satisfied: numpy in /usr/local/lib/python3.6/dist-packages (from torchvision) (1.14.6)\n",
            "Requirement already satisfied: pillow>=4.1.1 in /usr/local/lib/python3.6/dist-packages (from torchvision) (5.3.0)\n",
            "Requirement already satisfied: six in /usr/local/lib/python3.6/dist-packages (from torchvision) (1.11.0)\n"
          ],
          "name": "stdout"
        }
      ]
    },
    {
      "metadata": {
        "id": "bm1PLqlCRykY",
        "colab_type": "code",
        "colab": {
          "base_uri": "https://localhost:8080/",
          "height": 167
        },
        "outputId": "4f6b16e3-4f36-45e7-a34f-69635a712cf3"
      },
      "cell_type": "code",
      "source": [
        "!git clone https://github.com/wiatrak2/BScThesis"
      ],
      "execution_count": 35,
      "outputs": [
        {
          "output_type": "stream",
          "text": [
            "Cloning into 'BScThesis'...\n",
            "remote: Enumerating objects: 66, done.\u001b[K\n",
            "remote: Counting objects: 100% (66/66), done.\u001b[K\n",
            "remote: Compressing objects: 100% (53/53), done.\u001b[K\n",
            "remote: Total 245 (delta 33), reused 34 (delta 13), pack-reused 179\u001b[K\n",
            "Receiving objects: 100% (245/245), 20.09 MiB | 8.67 MiB/s, done.\n",
            "Resolving deltas: 100% (132/132), done.\n"
          ],
          "name": "stdout"
        }
      ]
    },
    {
      "metadata": {
        "id": "UfY_7oL8R6Dx",
        "colab_type": "code",
        "colab": {}
      },
      "cell_type": "code",
      "source": [
        "import numpy as np\n",
        "import torch\n",
        "import torch.nn as nn\n",
        "import torch.nn.functional as F\n",
        "import torch.optim as optim"
      ],
      "execution_count": 0,
      "outputs": []
    },
    {
      "metadata": {
        "id": "Sf1NVKMuR7x1",
        "colab_type": "code",
        "colab": {}
      },
      "cell_type": "code",
      "source": [
        "import torchvision\n",
        "import torchvision.transforms as transforms"
      ],
      "execution_count": 0,
      "outputs": []
    },
    {
      "metadata": {
        "id": "qITgIR_uR-PG",
        "colab_type": "code",
        "colab": {}
      },
      "cell_type": "code",
      "source": [
        "import matplotlib.pyplot as plt\n",
        "import pickle\n",
        "import sympy\n",
        "from collections import defaultdict, namedtuple\n",
        "import copy"
      ],
      "execution_count": 0,
      "outputs": []
    },
    {
      "metadata": {
        "id": "8rljx3THSB3U",
        "colab_type": "code",
        "colab": {}
      },
      "cell_type": "code",
      "source": [
        "from mnist_m import Mnist_M\n",
        "from datasets_merge import Merge_Datasets\n",
        "import models\n",
        "import trainer\n",
        "import domain_trainer\n",
        "from test_model import test_model\n",
        "import plots\n",
        "import test"
      ],
      "execution_count": 0,
      "outputs": []
    },
    {
      "metadata": {
        "id": "T12eRbAJSCPk",
        "colab_type": "code",
        "colab": {}
      },
      "cell_type": "code",
      "source": [
        "def convertMnist(img):\n",
        "  img = img.squeeze().numpy()\n",
        "  return torch.from_numpy(np.tile(img, (3,1,1)))"
      ],
      "execution_count": 0,
      "outputs": []
    },
    {
      "metadata": {
        "id": "NRZD5VaSSDxU",
        "colab_type": "code",
        "colab": {}
      },
      "cell_type": "code",
      "source": [
        "batch_size=128\n",
        "num_workers=1"
      ],
      "execution_count": 0,
      "outputs": []
    },
    {
      "metadata": {
        "id": "lv_1wmoOSEzQ",
        "colab_type": "code",
        "colab": {}
      },
      "cell_type": "code",
      "source": [
        "transform=transforms.Compose([\n",
        "                           transforms.ToTensor(),\n",
        "                           transforms.Normalize((0.1307,), (0.3081,)),\n",
        "                           transforms.Lambda(convertMnist)\n",
        "                       ])\n",
        "\n",
        "train_set = torchvision.datasets.MNIST(root='./data', train=True, download=True,\n",
        "                                     transform=transform)\n",
        "train_loader = torch.utils.data.DataLoader(train_set, batch_size=batch_size,\n",
        "                                         shuffle=True, num_workers=num_workers)\n",
        "\n",
        "test_set = torchvision.datasets.MNIST(root='./data', train=False, download=True,\n",
        "                                     transform=transform)\n",
        "test_loader = torch.utils.data.DataLoader(test_set, batch_size=batch_size,\n",
        "                                         shuffle=False, num_workers=num_workers)\n",
        "\n"
      ],
      "execution_count": 0,
      "outputs": []
    },
    {
      "metadata": {
        "id": "4cwzACwQSF9z",
        "colab_type": "code",
        "colab": {}
      },
      "cell_type": "code",
      "source": [
        "def printMnist3D(image):\n",
        "  image = image.numpy()\n",
        "  image = image * 0.3081 + 0.1307\n",
        "  plt.imshow(image.transpose(1,2,0), cmap='gray')"
      ],
      "execution_count": 0,
      "outputs": []
    },
    {
      "metadata": {
        "id": "QnKC2Q_rSHxs",
        "colab_type": "code",
        "colab": {
          "base_uri": "https://localhost:8080/",
          "height": 364
        },
        "outputId": "66c89136-e1ea-4f07-94a7-9d389eaf35da"
      },
      "cell_type": "code",
      "source": [
        "trainiter = iter(train_loader)\n",
        "images, labels = trainiter.next()\n",
        "\n",
        "sample = images[0]\n",
        "printMnist3D(sample)\n",
        "print(labels[0].item())"
      ],
      "execution_count": 41,
      "outputs": [
        {
          "output_type": "stream",
          "text": [
            "0\n"
          ],
          "name": "stdout"
        },
        {
          "output_type": "display_data",
          "data": {
            "image/png": "[encoded data removed]",
            "text/plain": [
              "<matplotlib.figure.Figure at 0x7f367fa4d940>"
            ]
          },
          "metadata": {
            "tags": []
          }
        }
      ]
    },
    {
      "metadata": {
        "id": "Es3QCHOzSJVr",
        "colab_type": "code",
        "colab": {}
      },
      "cell_type": "code",
      "source": [
        "log_interval = 100"
      ],
      "execution_count": 0,
      "outputs": []
    },
    {
      "metadata": {
        "id": "v435RCFfSQDK",
        "colab_type": "code",
        "colab": {}
      },
      "cell_type": "code",
      "source": [
        "use_cuda = True\n",
        "use_cuda = use_cuda and torch.cuda.is_available()\n",
        "device = torch.device(\"cuda\" if use_cuda else \"cpu\")"
      ],
      "execution_count": 0,
      "outputs": []
    },
    {
      "metadata": {
        "id": "8Ka-NlBOSQ3i",
        "colab_type": "code",
        "colab": {}
      },
      "cell_type": "code",
      "source": [
        "lr = 0.01\n",
        "momentum=0.9"
      ],
      "execution_count": 0,
      "outputs": []
    },
    {
      "metadata": {
        "id": "rS5kHI7GSRqa",
        "colab_type": "code",
        "colab": {}
      },
      "cell_type": "code",
      "source": [
        "mnist_m_transform = transforms.Compose([\n",
        "                           transforms.Normalize(3*[0.1307], 3*[0.3081]),\n",
        "                       ])\n",
        "mnist_m_train = Mnist_M('drive/My Drive/BScThesis/keras_mnistm.pkl',\n",
        "                        transform=mnist_m_transform)\n",
        "mnist_m_test = Mnist_M('drive/My Drive/BScThesis/keras_mnistm.pkl',train=False,\n",
        "                     transform=mnist_m_transform)\n",
        "mnist_m_train_loader = torch.utils.data.DataLoader(mnist_m_train, \n",
        "                                                   batch_size=batch_size,\n",
        "                                         shuffle=True, num_workers=num_workers)\n",
        "mnist_m_test_loader = torch.utils.data.DataLoader(mnist_m_test,\n",
        "                                                  batch_size=batch_size,\n",
        "                                         shuffle=False, num_workers=num_workers)\n",
        "\n"
      ],
      "execution_count": 0,
      "outputs": []
    },
    {
      "metadata": {
        "id": "5lrW6-ygSSdC",
        "colab_type": "code",
        "colab": {
          "base_uri": "https://localhost:8080/",
          "height": 364
        },
        "outputId": "5e2b1f3f-8e53-45de-d707-14488178a8c4"
      },
      "cell_type": "code",
      "source": [
        "trainiter = iter(mnist_m_train_loader)\n",
        "images, labels = trainiter.next()\n",
        "printMnist3D(images[0])\n",
        "print(labels[0])"
      ],
      "execution_count": 46,
      "outputs": [
        {
          "output_type": "stream",
          "text": [
            "tensor(0)\n"
          ],
          "name": "stdout"
        },
        {
          "output_type": "display_data",
          "data": {
            "image/png": "[encoded data removed]",
            "text/plain": [
              "<matplotlib.figure.Figure at 0x7f367fec75c0>"
            ]
          },
          "metadata": {
            "tags": []
          }
        }
      ]
    },
    {
      "metadata": {
        "id": "X-6kIzcNSWj4",
        "colab_type": "code",
        "colab": {}
      },
      "cell_type": "code",
      "source": [
        "Models = namedtuple('Models', ['model_f', 'model_c', 'model_d'])\n",
        "Optims = namedtuple('Optims', ['optim_f', 'optim_c', 'optim_d'])\n",
        "Criterions = namedtuple('Criterions', ['criterion', 'criterion_domain'])\n",
        "Loaders = namedtuple('Loaders', ['train_loader', 'train_loader_domain',\n",
        "                                'source_test_loader', 'target_test_loader',\n",
        "                                'merged_test_loader'])"
      ],
      "execution_count": 0,
      "outputs": []
    },
    {
      "metadata": {
        "id": "eHSigpO9STLF",
        "colab_type": "code",
        "colab": {}
      },
      "cell_type": "code",
      "source": [
        "mnist_ext_train = Merge_Datasets([train_set, mnist_m_train])\n",
        "mnist_ext_test = Merge_Datasets([test_set, mnist_m_test])\n",
        "mnist_ext_train_loader = torch.utils.data.DataLoader(mnist_ext_train, \n",
        "                                                   batch_size=batch_size,\n",
        "                                         shuffle=True, num_workers=num_workers)\n",
        "mnist_ext_test_loader = torch.utils.data.DataLoader(mnist_ext_test, \n",
        "                                                   batch_size=batch_size,\n",
        "                                         shuffle=True, num_workers=num_workers)\n",
        "\n",
        "\n"
      ],
      "execution_count": 0,
      "outputs": []
    },
    {
      "metadata": {
        "id": "olSM0Kl5SYS4",
        "colab_type": "code",
        "colab": {}
      },
      "cell_type": "code",
      "source": [
        "loaders = Loaders(train_loader, mnist_m_train_loader,\n",
        "                 test_loader, mnist_m_test_loader, mnist_ext_test_loader)"
      ],
      "execution_count": 0,
      "outputs": []
    },
    {
      "metadata": {
        "id": "5TTnmZaxSZOo",
        "colab_type": "code",
        "colab": {}
      },
      "cell_type": "code",
      "source": [
        "criterion = F.nll_loss\n",
        "criterion_domain = F.nll_loss"
      ],
      "execution_count": 0,
      "outputs": []
    },
    {
      "metadata": {
        "id": "RgQPz1ZqSaAx",
        "colab_type": "code",
        "colab": {}
      },
      "cell_type": "code",
      "source": [
        "criterions = Criterions(criterion, criterion_domain)"
      ],
      "execution_count": 0,
      "outputs": []
    },
    {
      "metadata": {
        "id": "beNjnjWkSat5",
        "colab_type": "code",
        "colab": {}
      },
      "cell_type": "code",
      "source": [
        "epochs=10"
      ],
      "execution_count": 0,
      "outputs": []
    },
    {
      "metadata": {
        "id": "Y_0vviH9SbaJ",
        "colab_type": "code",
        "colab": {}
      },
      "cell_type": "code",
      "source": [
        "model_f = models.MnistFeatureExtractor().to(device)\n",
        "model_c = models.MnistClassPredictor().to(device)\n",
        "model_d = models.MnistDomain().to(device)\n",
        "optim_f = optim.SGD(model_f.parameters(), lr=lr, momentum=momentum, nesterov=True)\n",
        "optim_c = optim.SGD(model_c.parameters(), lr=lr, momentum=momentum, nesterov=True)\n",
        "optim_d = optim.SGD(model_d.parameters(), lr=lr, momentum=momentum, nesterov=True)\n",
        "\n",
        "train_models = Models(model_f, model_c, model_d)\n",
        "optims = Optims(optim_f, optim_c, optim_d)"
      ],
      "execution_count": 0,
      "outputs": []
    },
    {
      "metadata": {
        "id": "PQnhQRDoScuo",
        "colab_type": "code",
        "colab": {}
      },
      "cell_type": "code",
      "source": [
        "model_trainer = trainer.Trainer(train_models, optims, criterions, device,\n",
        "                                tune_lr=True)"
      ],
      "execution_count": 0,
      "outputs": []
    },
    {
      "metadata": {
        "id": "9a-WzA51Sds4",
        "colab_type": "code",
        "colab": {
          "base_uri": "https://localhost:8080/",
          "height": 1717
        },
        "outputId": "5a649287-20ec-46a7-c374-40ee0f3e6603"
      },
      "cell_type": "code",
      "source": [
        "test_history = defaultdict(lambda:[])\n",
        "model_trainer.train(epochs, loaders, test_history=test_history)"
      ],
      "execution_count": 55,
      "outputs": [
        {
          "output_type": "stream",
          "text": [
            "Train Epoch: \t\t\t\t\t1 [0/60000 (0%)]\tLoss: 2.357388, lr: 0.01000 lambd: 0.00000\n",
            "Train Epoch: \t\t\t\t\t1 [12800/60000 (21%)]\tLoss: 0.632941, lr: 0.00865 lambd: 0.10626\n",
            "Train Epoch: \t\t\t\t\t1 [25600/60000 (43%)]\tLoss: 0.429548, lr: 0.00766 lambd: 0.21015\n",
            "Train Epoch: \t\t\t\t\t1 [38400/60000 (64%)]\tLoss: 0.250033, lr: 0.00690 lambd: 0.30951\n",
            "Train Epoch: \t\t\t\t\t1 [51200/60000 (85%)]\tLoss: 0.385426, lr: 0.00630 lambd: 0.40253\n",
            "\n",
            "Target Domain Test set: Average loss: 1.2514, Accuracy: 6144/10000 (61%)\n",
            "Source Domain Test set: Average loss: 0.1199, Accuracy: 9655/10000 (97%)\n",
            "Domains predictor:  Accuracy: 14880/20000 (74%)\n",
            "\n",
            "Train Epoch: \t\t\t\t\t2 [0/60000 (0%)]\tLoss: 0.236685, lr: 0.00595 lambd: 0.46212\n",
            "Train Epoch: \t\t\t\t\t2 [12800/60000 (21%)]\tLoss: 0.274808, lr: 0.00551 lambd: 0.54178\n",
            "Train Epoch: \t\t\t\t\t2 [25600/60000 (43%)]\tLoss: 0.328516, lr: 0.00514 lambd: 0.61276\n",
            "Train Epoch: \t\t\t\t\t2 [38400/60000 (64%)]\tLoss: 0.177769, lr: 0.00483 lambd: 0.67507\n",
            "Train Epoch: \t\t\t\t\t2 [51200/60000 (85%)]\tLoss: 0.488962, lr: 0.00455 lambd: 0.72904\n",
            "\n",
            "Target Domain Test set: Average loss: 1.2092, Accuracy: 6039/10000 (60%)\n",
            "Source Domain Test set: Average loss: 0.1405, Accuracy: 9575/10000 (96%)\n",
            "Domains predictor:  Accuracy: 17425/20000 (87%)\n",
            "\n",
            "Train Epoch: \t\t\t\t\t3 [0/60000 (0%)]\tLoss: 0.476889, lr: 0.00439 lambd: 0.76159\n",
            "Train Epoch: \t\t\t\t\t3 [12800/60000 (21%)]\tLoss: 0.341258, lr: 0.00417 lambd: 0.80288\n",
            "Train Epoch: \t\t\t\t\t3 [25600/60000 (43%)]\tLoss: 0.174860, lr: 0.00397 lambd: 0.83768\n",
            "Train Epoch: \t\t\t\t\t3 [38400/60000 (64%)]\tLoss: 0.238815, lr: 0.00379 lambd: 0.86678\n",
            "Train Epoch: \t\t\t\t\t3 [51200/60000 (85%)]\tLoss: 0.183116, lr: 0.00364 lambd: 0.89098\n",
            "\n",
            "Target Domain Test set: Average loss: 0.9728, Accuracy: 7357/10000 (74%)\n",
            "Source Domain Test set: Average loss: 0.0892, Accuracy: 9705/10000 (97%)\n",
            "Domains predictor:  Accuracy: 13198/20000 (66%)\n",
            "\n",
            "Train Epoch: \t\t\t\t\t4 [0/60000 (0%)]\tLoss: 0.223599, lr: 0.00354 lambd: 0.90515\n",
            "Train Epoch: \t\t\t\t\t4 [12800/60000 (21%)]\tLoss: 0.247489, lr: 0.00340 lambd: 0.92267\n",
            "Train Epoch: \t\t\t\t\t4 [25600/60000 (43%)]\tLoss: 0.213965, lr: 0.00328 lambd: 0.93706\n",
            "Train Epoch: \t\t\t\t\t4 [38400/60000 (64%)]\tLoss: 0.204666, lr: 0.00316 lambd: 0.94884\n",
            "Train Epoch: \t\t\t\t\t4 [51200/60000 (85%)]\tLoss: 0.235036, lr: 0.00306 lambd: 0.95846\n",
            "\n",
            "Target Domain Test set: Average loss: 0.9198, Accuracy: 7442/10000 (74%)\n",
            "Source Domain Test set: Average loss: 0.0736, Accuracy: 9774/10000 (98%)\n",
            "Domains predictor:  Accuracy: 13753/20000 (69%)\n",
            "\n",
            "Train Epoch: \t\t\t\t\t5 [0/60000 (0%)]\tLoss: 0.135867, lr: 0.00299 lambd: 0.96403\n",
            "Train Epoch: \t\t\t\t\t5 [12800/60000 (21%)]\tLoss: 0.289250, lr: 0.00290 lambd: 0.97084\n",
            "Train Epoch: \t\t\t\t\t5 [25600/60000 (43%)]\tLoss: 0.183723, lr: 0.00281 lambd: 0.97637\n",
            "Train Epoch: \t\t\t\t\t5 [38400/60000 (64%)]\tLoss: 0.179085, lr: 0.00273 lambd: 0.98087\n",
            "Train Epoch: \t\t\t\t\t5 [51200/60000 (85%)]\tLoss: 0.147465, lr: 0.00266 lambd: 0.98452\n",
            "\n",
            "Target Domain Test set: Average loss: 0.8312, Accuracy: 7624/10000 (76%)\n",
            "Source Domain Test set: Average loss: 0.0775, Accuracy: 9751/10000 (98%)\n",
            "Domains predictor:  Accuracy: 13789/20000 (69%)\n",
            "\n",
            "Train Epoch: \t\t\t\t\t6 [0/60000 (0%)]\tLoss: 0.236992, lr: 0.00261 lambd: 0.98661\n",
            "Train Epoch: \t\t\t\t\t6 [12800/60000 (21%)]\tLoss: 0.188487, lr: 0.00254 lambd: 0.98917\n",
            "Train Epoch: \t\t\t\t\t6 [25600/60000 (43%)]\tLoss: 0.117218, lr: 0.00248 lambd: 0.99124\n",
            "Train Epoch: \t\t\t\t\t6 [38400/60000 (64%)]\tLoss: 0.158275, lr: 0.00242 lambd: 0.99292\n",
            "Train Epoch: \t\t\t\t\t6 [51200/60000 (85%)]\tLoss: 0.179846, lr: 0.00236 lambd: 0.99428\n",
            "\n",
            "Target Domain Test set: Average loss: 0.8014, Accuracy: 7626/10000 (76%)\n",
            "Source Domain Test set: Average loss: 0.0608, Accuracy: 9798/10000 (98%)\n",
            "Domains predictor:  Accuracy: 13527/20000 (68%)\n",
            "\n",
            "Train Epoch: \t\t\t\t\t7 [0/60000 (0%)]\tLoss: 0.124961, lr: 0.00232 lambd: 0.99505\n",
            "Train Epoch: \t\t\t\t\t7 [12800/60000 (21%)]\tLoss: 0.163859, lr: 0.00227 lambd: 0.99600\n",
            "Train Epoch: \t\t\t\t\t7 [25600/60000 (43%)]\tLoss: 0.196226, lr: 0.00222 lambd: 0.99677\n",
            "Train Epoch: \t\t\t\t\t7 [38400/60000 (64%)]\tLoss: 0.139220, lr: 0.00218 lambd: 0.99739\n",
            "Train Epoch: \t\t\t\t\t7 [51200/60000 (85%)]\tLoss: 0.195429, lr: 0.00213 lambd: 0.99789\n",
            "\n",
            "Target Domain Test set: Average loss: 0.7968, Accuracy: 7618/10000 (76%)\n",
            "Source Domain Test set: Average loss: 0.0645, Accuracy: 9812/10000 (98%)\n",
            "Domains predictor:  Accuracy: 14324/20000 (72%)\n",
            "\n",
            "Train Epoch: \t\t\t\t\t8 [0/60000 (0%)]\tLoss: 0.183884, lr: 0.00210 lambd: 0.99818\n",
            "Train Epoch: \t\t\t\t\t8 [12800/60000 (21%)]\tLoss: 0.289342, lr: 0.00206 lambd: 0.99853\n",
            "Train Epoch: \t\t\t\t\t8 [25600/60000 (43%)]\tLoss: 0.172003, lr: 0.00202 lambd: 0.99881\n",
            "Train Epoch: \t\t\t\t\t8 [38400/60000 (64%)]\tLoss: 0.148986, lr: 0.00198 lambd: 0.99904\n",
            "Train Epoch: \t\t\t\t\t8 [51200/60000 (85%)]\tLoss: 0.179956, lr: 0.00195 lambd: 0.99922\n",
            "\n",
            "Target Domain Test set: Average loss: 0.7940, Accuracy: 7630/10000 (76%)\n",
            "Source Domain Test set: Average loss: 0.0540, Accuracy: 9826/10000 (98%)\n",
            "Domains predictor:  Accuracy: 13824/20000 (69%)\n",
            "\n",
            "Train Epoch: \t\t\t\t\t9 [0/60000 (0%)]\tLoss: 0.162919, lr: 0.00192 lambd: 0.99933\n",
            "Train Epoch: \t\t\t\t\t9 [12800/60000 (21%)]\tLoss: 0.235543, lr: 0.00189 lambd: 0.99946\n",
            "Train Epoch: \t\t\t\t\t9 [25600/60000 (43%)]\tLoss: 0.233073, lr: 0.00186 lambd: 0.99956\n",
            "Train Epoch: \t\t\t\t\t9 [38400/60000 (64%)]\tLoss: 0.111542, lr: 0.00183 lambd: 0.99965\n",
            "Train Epoch: \t\t\t\t\t9 [51200/60000 (85%)]\tLoss: 0.173366, lr: 0.00180 lambd: 0.99971\n",
            "\n",
            "Target Domain Test set: Average loss: 0.7236, Accuracy: 7838/10000 (78%)\n",
            "Source Domain Test set: Average loss: 0.0525, Accuracy: 9825/10000 (98%)\n",
            "Domains predictor:  Accuracy: 14355/20000 (72%)\n",
            "\n",
            "Train Epoch: \t\t\t\t\t10 [0/60000 (0%)]\tLoss: 0.261991, lr: 0.00178 lambd: 0.99975\n",
            "Train Epoch: \t\t\t\t\t10 [12800/60000 (21%)]\tLoss: 0.180737, lr: 0.00175 lambd: 0.99980\n",
            "Train Epoch: \t\t\t\t\t10 [25600/60000 (43%)]\tLoss: 0.270345, lr: 0.00172 lambd: 0.99984\n",
            "Train Epoch: \t\t\t\t\t10 [38400/60000 (64%)]\tLoss: 0.155819, lr: 0.00170 lambd: 0.99987\n",
            "Train Epoch: \t\t\t\t\t10 [51200/60000 (85%)]\tLoss: 0.094219, lr: 0.00167 lambd: 0.99989\n",
            "\n",
            "Target Domain Test set: Average loss: 0.7119, Accuracy: 7856/10000 (79%)\n",
            "Source Domain Test set: Average loss: 0.0516, Accuracy: 9843/10000 (98%)\n",
            "Domains predictor:  Accuracy: 14144/20000 (71%)\n",
            "\n"
          ],
          "name": "stdout"
        }
      ]
    },
    {
      "metadata": {
        "id": "1EDKCssokaXH",
        "colab_type": "code",
        "colab": {}
      },
      "cell_type": "code",
      "source": [
        "def get_input_mtx(loader, model, c_size):\n",
        "  X = np.zeros(c_size).T\n",
        "  for batch_idx, (data, labels) in enumerate(loader):\n",
        "    data = data.to(device)\n",
        "    idx = batch_idx * loader.batch_size\n",
        "    X[idx:idx+loader.batch_size] = model(data).cpu().detach().numpy()\n",
        "  return X.T"
      ],
      "execution_count": 0,
      "outputs": []
    },
    {
      "metadata": {
        "id": "WYGHKwYlrcPD",
        "colab_type": "code",
        "colab": {}
      },
      "cell_type": "code",
      "source": [
        "def get_conceptor(X, alpha):\n",
        "  R = np.matmul(X, X.T) * (1/X.shape[0])\n",
        "  IdX = np.identity(X.shape[0])\n",
        "  return np.matmul(R, np.linalg.inv((R + alpha**(-2) * IdX)))"
      ],
      "execution_count": 0,
      "outputs": []
    },
    {
      "metadata": {
        "id": "3n5_CrUkzxuk",
        "colab_type": "code",
        "colab": {}
      },
      "cell_type": "code",
      "source": [
        "def get_not_conceptor(C):\n",
        "  return np.identity(C.shape[0]) - C"
      ],
      "execution_count": 0,
      "outputs": []
    },
    {
      "metadata": {
        "id": "mpjiSsCGytJO",
        "colab_type": "code",
        "colab": {}
      },
      "cell_type": "code",
      "source": [
        "def get_or_from_X(X_i, X_j, alpha):\n",
        "  IdX = np.identity(X_i.shape[0])\n",
        "  R_i = np.matmul(X_i, X_i.T) * (1/X_i.shape[0])\n",
        "  R_j = np.matmul(X_j, X_j.T) * (1/X_j.shape[0])\n",
        "  return np.matmul(R_i + R_j, np.linalg.inv((R_i + R_j + alpha**(-2) * IdX)))"
      ],
      "execution_count": 0,
      "outputs": []
    },
    {
      "metadata": {
        "id": "99eJtWJX5Kmx",
        "colab_type": "code",
        "colab": {}
      },
      "cell_type": "code",
      "source": [
        "def get_R(C, alpha):\n",
        "  U, S, U_T = np.linalg.svd(C)\n",
        "  Sigma = (S * alpha**(-2)) / (1 - S)\n",
        "  return U.dot(np.diag(Sigma).dot(U_T))"
      ],
      "execution_count": 0,
      "outputs": []
    },
    {
      "metadata": {
        "id": "KoBVFXLS60Lx",
        "colab_type": "code",
        "colab": {}
      },
      "cell_type": "code",
      "source": [
        "def get_or_conceptor(C_i, C_j, alpha):\n",
        "  R_i, R_j = get_R(C_i, alpha), get_R(C_j, alpha)\n",
        "  IdX = np.identity(C_i.shape[0])\n",
        "  return np.matmul(R_i + R_j, np.linalg.inv((R_i + R_j + alpha**(-2) * IdX)))"
      ],
      "execution_count": 0,
      "outputs": []
    },
    {
      "metadata": {
        "id": "d3JwCYHwz5LK",
        "colab_type": "code",
        "colab": {}
      },
      "cell_type": "code",
      "source": [
        "def get_and_conceptor(C_i, C_j, alpha):\n",
        "  not_C_i, not_C_j = get_not_conceptor(C_i), get_not_conceptor(C_j)\n",
        "  or_not_C = get_or_conceptor(not_C_i, not_C_j, alpha)\n",
        "  return get_not_conceptor(or_not_C)"
      ],
      "execution_count": 0,
      "outputs": []
    },
    {
      "metadata": {
        "id": "Hn69bT0flqiK",
        "colab_type": "code",
        "colab": {}
      },
      "cell_type": "code",
      "source": [
        "X_mnist = get_input_mtx(train_loader, model_f, (320, len(train_set)))"
      ],
      "execution_count": 0,
      "outputs": []
    },
    {
      "metadata": {
        "id": "-HIPy4h3v_Ci",
        "colab_type": "code",
        "colab": {}
      },
      "cell_type": "code",
      "source": [
        "alpha=9."
      ],
      "execution_count": 0,
      "outputs": []
    },
    {
      "metadata": {
        "id": "pMUhQI_mpYkX",
        "colab_type": "code",
        "colab": {}
      },
      "cell_type": "code",
      "source": [
        "C_mnist = get_conceptor(X_mnist, alpha)"
      ],
      "execution_count": 0,
      "outputs": []
    },
    {
      "metadata": {
        "id": "QnjG0BTwr4oC",
        "colab_type": "code",
        "colab": {
          "base_uri": "https://localhost:8080/",
          "height": 34
        },
        "outputId": "7f1382e2-7b29-4295-e91b-29d0d2300d40"
      },
      "cell_type": "code",
      "source": [
        "C_mnist.shape"
      ],
      "execution_count": 72,
      "outputs": [
        {
          "output_type": "execute_result",
          "data": {
            "text/plain": [
              "(320, 320)"
            ]
          },
          "metadata": {
            "tags": []
          },
          "execution_count": 72
        }
      ]
    },
    {
      "metadata": {
        "id": "_lji0df0r-iZ",
        "colab_type": "code",
        "colab": {}
      },
      "cell_type": "code",
      "source": [
        "X_mnist_m = get_input_mtx(mnist_m_train_loader, model_f, (320, len(train_set)))"
      ],
      "execution_count": 0,
      "outputs": []
    },
    {
      "metadata": {
        "id": "Kz8x-hehsNDf",
        "colab_type": "code",
        "colab": {}
      },
      "cell_type": "code",
      "source": [
        "C_mnist_m = get_conceptor(X_mnist_m, alpha)"
      ],
      "execution_count": 0,
      "outputs": []
    },
    {
      "metadata": {
        "id": "6ITimC0OuAsG",
        "colab_type": "code",
        "colab": {}
      },
      "cell_type": "code",
      "source": [
        "C_or = get_or_conceptor(C_mnist, C_mnist_m, alpha)"
      ],
      "execution_count": 0,
      "outputs": []
    },
    {
      "metadata": {
        "id": "cC9BLxTs7hwz",
        "colab_type": "code",
        "colab": {}
      },
      "cell_type": "code",
      "source": [
        "C_and = get_and_conceptor(C_mnist, C_mnist_m, alpha)"
      ],
      "execution_count": 0,
      "outputs": []
    },
    {
      "metadata": {
        "id": "27rWyf0d92nU",
        "colab_type": "code",
        "colab": {
          "base_uri": "https://localhost:8080/",
          "height": 238
        },
        "outputId": "52141e73-4892-43a3-c466-3fda197c8b43"
      },
      "cell_type": "code",
      "source": [
        "C_and"
      ],
      "execution_count": 161,
      "outputs": [
        {
          "output_type": "execute_result",
          "data": {
            "text/plain": [
              "array([[ 9.99659299e-01,  4.29783510e-05, -9.93177907e-06, ...,\n",
              "         7.71344374e-06,  1.00222110e-06,  3.86476956e-06],\n",
              "       [ 4.29783510e-05,  9.99730957e-01,  8.26380208e-05, ...,\n",
              "        -2.61621550e-06, -6.03509470e-07, -6.85824403e-06],\n",
              "       [-9.93177907e-06,  8.26380208e-05,  9.99769482e-01, ...,\n",
              "         1.25965123e-06, -1.90210440e-06, -3.34028605e-06],\n",
              "       ...,\n",
              "       [ 7.71344374e-06, -2.61621548e-06,  1.25965123e-06, ...,\n",
              "         9.99578921e-01,  1.52518296e-04, -2.74671989e-05],\n",
              "       [ 1.00222110e-06, -6.03509472e-07, -1.90210440e-06, ...,\n",
              "         1.52518296e-04,  9.99576541e-01,  1.21770159e-04],\n",
              "       [ 3.86476956e-06, -6.85824404e-06, -3.34028605e-06, ...,\n",
              "        -2.74671989e-05,  1.21770159e-04,  9.99369819e-01]])"
            ]
          },
          "metadata": {
            "tags": []
          },
          "execution_count": 161
        }
      ]
    },
    {
      "metadata": {
        "id": "weaffd1794rc",
        "colab_type": "code",
        "colab": {
          "base_uri": "https://localhost:8080/",
          "height": 238
        },
        "outputId": "4ec3f5aa-f6ad-4f51-abb0-198f08a7e67a"
      },
      "cell_type": "code",
      "source": [
        "C_or"
      ],
      "execution_count": 162,
      "outputs": [
        {
          "output_type": "execute_result",
          "data": {
            "text/plain": [
              "array([[ 9.99926449e-01,  9.61939424e-06, -2.98423987e-06, ...,\n",
              "         1.21490363e-06, -2.78440523e-07,  6.61513752e-08],\n",
              "       [ 9.61939424e-06,  9.99940282e-01,  1.89438153e-05, ...,\n",
              "        -1.09769426e-06, -3.71269157e-07, -1.40773845e-06],\n",
              "       [-2.98423987e-06,  1.89438153e-05,  9.99949223e-01, ...,\n",
              "         4.21290392e-07, -4.61538053e-07, -9.19200107e-07],\n",
              "       ...,\n",
              "       [ 1.21490363e-06, -1.09769427e-06,  4.21290389e-07, ...,\n",
              "         9.99903339e-01,  3.84448091e-05, -6.91624353e-06],\n",
              "       [-2.78440523e-07, -3.71269157e-07, -4.61538055e-07, ...,\n",
              "         3.84448091e-05,  9.99903402e-01,  3.00607910e-05],\n",
              "       [ 6.61513748e-08, -1.40773846e-06, -9.19200108e-07, ...,\n",
              "        -6.91624353e-06,  3.00607910e-05,  9.99864417e-01]])"
            ]
          },
          "metadata": {
            "tags": []
          },
          "execution_count": 162
        }
      ]
    },
    {
      "metadata": {
        "id": "u_dWD_h-96pj",
        "colab_type": "code",
        "colab": {}
      },
      "cell_type": "code",
      "source": [
        ""
      ],
      "execution_count": 0,
      "outputs": []
    }
  ]
}
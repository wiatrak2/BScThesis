{
  "nbformat": 4,
  "nbformat_minor": 0,
  "metadata": {
    "colab": {
      "name": "mnist.ipynb",
      "version": "0.3.2",
      "provenance": [],
      "collapsed_sections": [],
      "toc_visible": true,
      "include_colab_link": true
    },
    "kernelspec": {
      "name": "python3",
      "display_name": "Python 3"
    },
    "accelerator": "GPU"
  },
  "cells": [
    {
      "cell_type": "markdown",
      "metadata": {
        "id": "view-in-github",
        "colab_type": "text"
      },
      "source": [
        "[View in Colaboratory](https://colab.research.google.com/github/wiatrak2/BScThesis/blob/master/mnist.ipynb)"
      ]
    },
    {
      "metadata": {
        "id": "6HZnglZEZtG4",
        "colab_type": "code",
        "colab": {
          "base_uri": "https://localhost:8080/",
          "height": 1020
        },
        "outputId": "7737b8af-15de-48bf-9fb0-9fc707960952"
      },
      "cell_type": "code",
      "source": [
        "!pip3 install torch torchvision"
      ],
      "execution_count": 1,
      "outputs": [
        {
          "output_type": "stream",
          "text": [
            "Collecting torch\n",
            "\u001b[?25l  Downloading https://files.pythonhosted.org/packages/49/0e/e382bcf1a6ae8225f50b99cc26effa2d4cc6d66975ccf3fa9590efcbedce/torch-0.4.1-cp36-cp36m-manylinux1_x86_64.whl (519.5MB)\n",
            "\u001b[K    100% |████████████████████████████████| 519.5MB 32kB/s \n",
            "tcmalloc: large alloc 1073750016 bytes == 0x585c8000 @  0x7f1db4dd31c4 0x46d6a4 0x5fcbcc 0x4c494d 0x54f3c4 0x553aaf 0x54e4c8 0x54f4f6 0x553aaf 0x54efc1 0x54f24d 0x553aaf 0x54efc1 0x54f24d 0x553aaf 0x54efc1 0x54f24d 0x551ee0 0x54e4c8 0x54f4f6 0x553aaf 0x54efc1 0x54f24d 0x551ee0 0x54efc1 0x54f24d 0x551ee0 0x54e4c8 0x54f4f6 0x553aaf 0x54e4c8\n",
            "\u001b[?25hCollecting torchvision\n",
            "\u001b[?25l  Downloading https://files.pythonhosted.org/packages/ca/0d/f00b2885711e08bd71242ebe7b96561e6f6d01fdb4b9dcf4d37e2e13c5e1/torchvision-0.2.1-py2.py3-none-any.whl (54kB)\n",
            "\u001b[K    100% |████████████████████████████████| 61kB 11.9MB/s \n",
            "\u001b[?25hCollecting pillow>=4.1.1 (from torchvision)\n",
            "\u001b[?25l  Downloading https://files.pythonhosted.org/packages/62/94/5430ebaa83f91cc7a9f687ff5238e26164a779cca2ef9903232268b0a318/Pillow-5.3.0-cp36-cp36m-manylinux1_x86_64.whl (2.0MB)\n",
            "\u001b[K    100% |████████████████████████████████| 2.0MB 3.8MB/s \n",
            "\u001b[?25hRequirement already satisfied: numpy in /usr/local/lib/python3.6/dist-packages (from torchvision) (1.14.6)\n",
            "Requirement already satisfied: six in /usr/local/lib/python3.6/dist-packages (from torchvision) (1.11.0)\n",
            "Installing collected packages: torch, pillow, torchvision\n",
            "  Found existing installation: Pillow 4.0.0\n",
            "    Uninstalling Pillow-4.0.0:\n",
            "      Successfully uninstalled Pillow-4.0.0\n",
            "Successfully installed pillow-5.3.0 torch-0.4.1 torchvision-0.2.1\n"
          ],
          "name": "stdout"
        }
      ]
    },
    {
      "metadata": {
        "id": "rXP4GwZHZYLk",
        "colab_type": "code",
        "colab": {}
      },
      "cell_type": "code",
      "source": [
        "import numpy as np\n",
        "import torch\n",
        "import torch.nn as nn\n",
        "import torch.nn.functional as F\n",
        "import torch.optim as optim"
      ],
      "execution_count": 0,
      "outputs": []
    },
    {
      "metadata": {
        "id": "UNfT9MQmZcBu",
        "colab_type": "code",
        "colab": {}
      },
      "cell_type": "code",
      "source": [
        "import torchvision\n",
        "import torchvision.transforms as transforms"
      ],
      "execution_count": 0,
      "outputs": []
    },
    {
      "metadata": {
        "id": "bO_GcetxEshC",
        "colab_type": "code",
        "colab": {}
      },
      "cell_type": "code",
      "source": [
        "batch_size=64\n",
        "num_workers=1"
      ],
      "execution_count": 0,
      "outputs": []
    },
    {
      "metadata": {
        "id": "EJEy7VzQjnRo",
        "colab_type": "code",
        "colab": {}
      },
      "cell_type": "code",
      "source": [
        "def convertMnist(img):\n",
        "  img = img.squeeze().numpy()\n",
        "  img = np.array([img, img, img])\n",
        "  return torch.from_numpy(img)"
      ],
      "execution_count": 0,
      "outputs": []
    },
    {
      "metadata": {
        "id": "wV2owoYODr6X",
        "colab_type": "code",
        "colab": {
          "base_uri": "https://localhost:8080/",
          "height": 119
        },
        "outputId": "c7b760e6-3ba2-4741-8b98-2552db5c8f26"
      },
      "cell_type": "code",
      "source": [
        "transform=transforms.Compose([\n",
        "                           transforms.ToTensor(),\n",
        "                           transforms.Normalize((0.1307,), (0.3081,)),\n",
        "                           transforms.Lambda(convertMnist)\n",
        "                       ])\n",
        "\n",
        "train_set = torchvision.datasets.MNIST(root='./data', train=True, download=True,\n",
        "                                     transform=transform)\n",
        "train_loader = torch.utils.data.DataLoader(train_set, batch_size=batch_size,\n",
        "                                         shuffle=True, num_workers=num_workers)\n",
        "\n",
        "test_set = torchvision.datasets.MNIST(root='./data', train=False, download=True,\n",
        "                                     transform=transform)\n",
        "test_loader = torch.utils.data.DataLoader(test_set, batch_size=batch_size,\n",
        "                                         shuffle=False, num_workers=num_workers)\n"
      ],
      "execution_count": 6,
      "outputs": [
        {
          "output_type": "stream",
          "text": [
            "Downloading http://yann.lecun.com/exdb/mnist/train-images-idx3-ubyte.gz\n",
            "Downloading http://yann.lecun.com/exdb/mnist/train-labels-idx1-ubyte.gz\n",
            "Downloading http://yann.lecun.com/exdb/mnist/t10k-images-idx3-ubyte.gz\n",
            "Downloading http://yann.lecun.com/exdb/mnist/t10k-labels-idx1-ubyte.gz\n",
            "Processing...\n",
            "Done!\n"
          ],
          "name": "stdout"
        }
      ]
    },
    {
      "metadata": {
        "id": "Pzv8RO1sg9pB",
        "colab_type": "code",
        "colab": {}
      },
      "cell_type": "code",
      "source": [
        "def printMnist3D(image):\n",
        "  image = image.numpy()\n",
        "  image = image * 0.3081 + 0.1307\n",
        "  plt.imshow(image.transpose(1,2,0), cmap='gray')"
      ],
      "execution_count": 0,
      "outputs": []
    },
    {
      "metadata": {
        "id": "Gv4Fi3GAGh3j",
        "colab_type": "code",
        "colab": {
          "base_uri": "https://localhost:8080/",
          "height": 364
        },
        "outputId": "83ce8633-6e59-425e-d17b-3ec62074bc62"
      },
      "cell_type": "code",
      "source": [
        "import matplotlib.pyplot as plt\n",
        "\n",
        "trainiter = iter(train_loader)\n",
        "images, labels = trainiter.next()\n",
        "\n",
        "sample = images[0]\n",
        "printMnist3D(sample)\n",
        "print(labels[0].item())"
      ],
      "execution_count": 8,
      "outputs": [
        {
          "output_type": "stream",
          "text": [
            "0\n"
          ],
          "name": "stdout"
        },
        {
          "output_type": "display_data",
          "data": {
            "image/png": "[encoded data removed]",
            "text/plain": [
              "<matplotlib.figure.Figure at 0x7f1089d033c8>"
            ]
          },
          "metadata": {
            "tags": []
          }
        }
      ]
    },
    {
      "metadata": {
        "id": "pdFSLoXpFpUV",
        "colab_type": "code",
        "colab": {}
      },
      "cell_type": "code",
      "source": [
        "class MnistNET(nn.Module):\n",
        "  def __init__(self):\n",
        "    super(MnistNET, self).__init__()\n",
        "    self.conv1 = nn.Conv2d(3, 10, kernel_size=5)\n",
        "    self.conv2 = nn.Conv2d(10, 20, kernel_size=5)\n",
        "    self.conv2_drop = nn.Dropout2d()\n",
        "    self.fc1 = nn.Linear(320, 50)\n",
        "    self.fc2 = nn.Linear(50, 10)\n",
        "  def forward(self, x):\n",
        "    x = F.leaky_relu(F.max_pool2d(self.conv1(x), 2))\n",
        "    x = F.leaky_relu(F.max_pool2d(self.conv2_drop(self.conv2(x)), 2))\n",
        "    x = x.view(-1, 320)\n",
        "    x = F.leaky_relu(self.fc1(x))\n",
        "    x = F.dropout(x, training=self.training)\n",
        "    x = self.fc2(x)\n",
        "    return F.log_softmax(x, dim=1)    \n",
        "  "
      ],
      "execution_count": 0,
      "outputs": []
    },
    {
      "metadata": {
        "id": "nrfYSBracTNj",
        "colab_type": "code",
        "colab": {}
      },
      "cell_type": "code",
      "source": [
        "criterion = F.nll_loss"
      ],
      "execution_count": 0,
      "outputs": []
    },
    {
      "metadata": {
        "id": "1FTNw092conE",
        "colab_type": "code",
        "colab": {}
      },
      "cell_type": "code",
      "source": [
        "log_interval = 100\n",
        "epochs = 5\n",
        "use_cuda = True"
      ],
      "execution_count": 0,
      "outputs": []
    },
    {
      "metadata": {
        "id": "lgY552Rjboh7",
        "colab_type": "code",
        "colab": {}
      },
      "cell_type": "code",
      "source": [
        "def train(model, device, train_loader, optimizer, epoch):\n",
        "  model.train()\n",
        "  for batch_idx, (data, target) in enumerate(train_loader):\n",
        "    data, target = data.to(device), target.to(device)\n",
        "    optimizer.zero_grad()\n",
        "    output = model(data)\n",
        "    loss = criterion(output, target)\n",
        "    loss.backward()\n",
        "    optimizer.step()\n",
        "    if batch_idx % log_interval == 0:\n",
        "        print('Train Epoch: {} [{}/{} ({:.0f}%)]\\tLoss: {:.6f}'.format(\n",
        "            epoch, batch_idx * len(data), len(train_loader.dataset),\n",
        "            100. * batch_idx / len(train_loader), loss.item()))"
      ],
      "execution_count": 0,
      "outputs": []
    },
    {
      "metadata": {
        "id": "fLWongQbczXS",
        "colab_type": "code",
        "colab": {}
      },
      "cell_type": "code",
      "source": [
        "def test(model, device, test_loader):\n",
        "  model.eval()\n",
        "  test_loss = 0\n",
        "  correct = 0\n",
        "  with torch.no_grad():\n",
        "    for data, target in test_loader:\n",
        "      data, target = data.to(device), target.to(device)\n",
        "      output = model(data)\n",
        "      test_loss += criterion(output, target, reduction='sum').item()\n",
        "      pred = output.max(1, keepdim=True)[1] \n",
        "      correct += pred.eq(target.view_as(pred)).sum().item()\n",
        "\n",
        "  test_loss /= len(test_loader.dataset)\n",
        "  print('\\nTest set: Average loss: {:.4f}, Accuracy: {}/{} ({:.0f}%)\\n'.format(\n",
        "      test_loss, correct, len(test_loader.dataset),\n",
        "      100. * correct / len(test_loader.dataset)))"
      ],
      "execution_count": 0,
      "outputs": []
    },
    {
      "metadata": {
        "id": "FzAkntIwdUCM",
        "colab_type": "code",
        "colab": {}
      },
      "cell_type": "code",
      "source": [
        "use_cuda = use_cuda and torch.cuda.is_available()\n",
        "device = torch.device(\"cuda\" if use_cuda else \"cpu\")"
      ],
      "execution_count": 0,
      "outputs": []
    },
    {
      "metadata": {
        "id": "8y1y2YJ0dt9i",
        "colab_type": "code",
        "colab": {}
      },
      "cell_type": "code",
      "source": [
        "lr = 0.01\n",
        "momentum=0.9"
      ],
      "execution_count": 0,
      "outputs": []
    },
    {
      "metadata": {
        "id": "dnJSFyF_dfL6",
        "colab_type": "code",
        "colab": {}
      },
      "cell_type": "code",
      "source": [
        "model = MnistNET().to(device)\n",
        "optimizer = optim.SGD(model.parameters(), lr=lr, momentum=momentum)"
      ],
      "execution_count": 0,
      "outputs": []
    },
    {
      "metadata": {
        "id": "3xyJMdhKd4d2",
        "colab_type": "code",
        "colab": {
          "base_uri": "https://localhost:8080/",
          "height": 1122
        },
        "outputId": "0a76f8f1-cca6-4732-abb5-f7888e406db4"
      },
      "cell_type": "code",
      "source": [
        "for epoch in range(1, epochs+1):\n",
        "  train(model, device, train_loader, optimizer, epoch)\n",
        "  test(model, device, test_loader)"
      ],
      "execution_count": 17,
      "outputs": [
        {
          "output_type": "stream",
          "text": [
            "Train Epoch: 1 [0/60000 (0%)]\tLoss: 2.329213\n",
            "Train Epoch: 1 [6400/60000 (11%)]\tLoss: 0.771444\n",
            "Train Epoch: 1 [12800/60000 (21%)]\tLoss: 0.429976\n",
            "Train Epoch: 1 [19200/60000 (32%)]\tLoss: 0.514194\n",
            "Train Epoch: 1 [25600/60000 (43%)]\tLoss: 0.317814\n",
            "Train Epoch: 1 [32000/60000 (53%)]\tLoss: 0.574781\n",
            "Train Epoch: 1 [38400/60000 (64%)]\tLoss: 0.472450\n",
            "Train Epoch: 1 [44800/60000 (75%)]\tLoss: 0.429098\n",
            "Train Epoch: 1 [51200/60000 (85%)]\tLoss: 0.274499\n",
            "Train Epoch: 1 [57600/60000 (96%)]\tLoss: 0.499237\n",
            "\n",
            "Test set: Average loss: 0.0991, Accuracy: 9709/10000 (97%)\n",
            "\n",
            "Train Epoch: 2 [0/60000 (0%)]\tLoss: 0.189880\n",
            "Train Epoch: 2 [6400/60000 (11%)]\tLoss: 0.209816\n",
            "Train Epoch: 2 [12800/60000 (21%)]\tLoss: 0.335993\n",
            "Train Epoch: 2 [19200/60000 (32%)]\tLoss: 0.425428\n",
            "Train Epoch: 2 [25600/60000 (43%)]\tLoss: 0.406732\n",
            "Train Epoch: 2 [32000/60000 (53%)]\tLoss: 0.294616\n",
            "Train Epoch: 2 [38400/60000 (64%)]\tLoss: 0.141817\n",
            "Train Epoch: 2 [44800/60000 (75%)]\tLoss: 0.279252\n",
            "Train Epoch: 2 [51200/60000 (85%)]\tLoss: 0.175103\n",
            "Train Epoch: 2 [57600/60000 (96%)]\tLoss: 0.431415\n",
            "\n",
            "Test set: Average loss: 0.0687, Accuracy: 9787/10000 (98%)\n",
            "\n",
            "Train Epoch: 3 [0/60000 (0%)]\tLoss: 0.153512\n",
            "Train Epoch: 3 [6400/60000 (11%)]\tLoss: 0.140776\n",
            "Train Epoch: 3 [12800/60000 (21%)]\tLoss: 0.301405\n",
            "Train Epoch: 3 [19200/60000 (32%)]\tLoss: 0.293290\n",
            "Train Epoch: 3 [25600/60000 (43%)]\tLoss: 0.188690\n",
            "Train Epoch: 3 [32000/60000 (53%)]\tLoss: 0.232875\n",
            "Train Epoch: 3 [38400/60000 (64%)]\tLoss: 0.102080\n",
            "Train Epoch: 3 [44800/60000 (75%)]\tLoss: 0.157148\n",
            "Train Epoch: 3 [51200/60000 (85%)]\tLoss: 0.247149\n",
            "Train Epoch: 3 [57600/60000 (96%)]\tLoss: 0.253201\n",
            "\n",
            "Test set: Average loss: 0.0617, Accuracy: 9803/10000 (98%)\n",
            "\n",
            "Train Epoch: 4 [0/60000 (0%)]\tLoss: 0.184236\n",
            "Train Epoch: 4 [6400/60000 (11%)]\tLoss: 0.194187\n",
            "Train Epoch: 4 [12800/60000 (21%)]\tLoss: 0.201783\n",
            "Train Epoch: 4 [19200/60000 (32%)]\tLoss: 0.250030\n",
            "Train Epoch: 4 [25600/60000 (43%)]\tLoss: 0.146808\n",
            "Train Epoch: 4 [32000/60000 (53%)]\tLoss: 0.138719\n",
            "Train Epoch: 4 [38400/60000 (64%)]\tLoss: 0.251617\n",
            "Train Epoch: 4 [44800/60000 (75%)]\tLoss: 0.119356\n",
            "Train Epoch: 4 [51200/60000 (85%)]\tLoss: 0.110254\n",
            "Train Epoch: 4 [57600/60000 (96%)]\tLoss: 0.145887\n",
            "\n",
            "Test set: Average loss: 0.0598, Accuracy: 9823/10000 (98%)\n",
            "\n",
            "Train Epoch: 5 [0/60000 (0%)]\tLoss: 0.222054\n",
            "Train Epoch: 5 [6400/60000 (11%)]\tLoss: 0.081389\n",
            "Train Epoch: 5 [12800/60000 (21%)]\tLoss: 0.040945\n",
            "Train Epoch: 5 [19200/60000 (32%)]\tLoss: 0.205804\n",
            "Train Epoch: 5 [25600/60000 (43%)]\tLoss: 0.391472\n",
            "Train Epoch: 5 [32000/60000 (53%)]\tLoss: 0.129919\n",
            "Train Epoch: 5 [38400/60000 (64%)]\tLoss: 0.089459\n",
            "Train Epoch: 5 [44800/60000 (75%)]\tLoss: 0.301462\n",
            "Train Epoch: 5 [51200/60000 (85%)]\tLoss: 0.200891\n",
            "Train Epoch: 5 [57600/60000 (96%)]\tLoss: 0.096089\n",
            "\n",
            "Test set: Average loss: 0.0502, Accuracy: 9857/10000 (99%)\n",
            "\n"
          ],
          "name": "stdout"
        }
      ]
    },
    {
      "metadata": {
        "id": "FZern7T4oSS5",
        "colab_type": "code",
        "colab": {}
      },
      "cell_type": "code",
      "source": [
        "def printIncorrect(model, set):\n",
        "  print_img = 6\n",
        "  fig = plt.figure()\n",
        "  for sample in set:\n",
        "    inp = sample[0].unsqueeze(0)\n",
        "    out = model(inp.to(device)).max(1)[1][0]\n",
        "    if out != sample[1].to(device):\n",
        "\n",
        "      plt.subplot(2,3,7 - print_img)\n",
        "      plt.tight_layout()\n",
        "      image = sample[0]\n",
        "      image = image.numpy()\n",
        "      image = image * 0.3081 + 0.1307\n",
        "      plt.imshow(image.transpose(1,2,0), cmap='gray')\n",
        "      plt.title(\"Ground Truth: {} Pred: {}\".format(sample[1], out))\n",
        "      plt.xticks([])\n",
        "      plt.yticks([])\n",
        "\n",
        "      print_img -= 1\n",
        "      if print_img == 0: break\n",
        "\n"
      ],
      "execution_count": 0,
      "outputs": []
    },
    {
      "metadata": {
        "id": "hiaxEEMwHNRU",
        "colab_type": "code",
        "colab": {
          "base_uri": "https://localhost:8080/",
          "height": 384
        },
        "outputId": "cd75cc0e-8e1d-49f3-b8c1-88aef92701d2"
      },
      "cell_type": "code",
      "source": [
        "printIncorrect(model, test_set)"
      ],
      "execution_count": 19,
      "outputs": [
        {
          "output_type": "display_data",
          "data": {
            "image/png": "[encoded data removed]",
            "text/plain": [
              "<matplotlib.figure.Figure at 0x7f10865a7518>"
            ]
          },
          "metadata": {
            "tags": []
          }
        }
      ]
    },
    {
      "metadata": {
        "id": "xovDxj4lGDpa",
        "colab_type": "code",
        "colab": {
          "base_uri": "https://localhost:8080/",
          "height": 251
        },
        "outputId": "63c3d678-2d97-4e75-9ea8-43eb9c88a5ea"
      },
      "cell_type": "code",
      "source": [
        "from google.colab import drive\n",
        "drive.mount('/content/drive')"
      ],
      "execution_count": 20,
      "outputs": [
        {
          "output_type": "stream",
          "text": [
            "Go to this URL in a browser: https://accounts.google.com/o/oauth2/auth?client_id=947318989803-6bn6qk8qdgf4n4g3pfee6491hc0brc4i.apps.googleusercontent.com&redirect_uri=urn%3Aietf%3Awg%3Aoauth%3A2.0%3Aoob&scope=email%20https%3A%2F%2Fwww.googleapis.com%2Fauth%2Fdocs.test%20https%3A%2F%2Fwww.googleapis.com%2Fauth%2Fdrive%20https%3A%2F%2Fwww.googleapis.com%2Fauth%2Fdrive.photos.readonly%20https%3A%2F%2Fwww.googleapis.com%2Fauth%2Fpeopleapi.readonly&response_type=code\n",
            "\n",
            "Enter your authorization code:\n",
            "··········\n",
            "Mounted at /content/drive\n"
          ],
          "name": "stdout"
        }
      ]
    },
    {
      "metadata": {
        "id": "2T58UelKGYq6",
        "colab_type": "code",
        "colab": {
          "base_uri": "https://localhost:8080/",
          "height": 473
        },
        "outputId": "0fb3c23b-42f3-46fd-a658-de8430d9617e"
      },
      "cell_type": "code",
      "source": [
        "!ls \"drive/My Drive\""
      ],
      "execution_count": 21,
      "outputs": [
        {
          "output_type": "stream",
          "text": [
            "10 wroactiv\n",
            "anglia\n",
            "backup\n",
            "codeSyn.key\n",
            "codeSyn.pdf\n",
            "Colab Notebooks\n",
            "Dokument aplikacji Scannable dnia 13.06.2017, 23_17_38.pdf\n",
            "ekonomia.gdoc\n",
            "empik_fotoksiazka.exe\n",
            "Italia.gmap\n",
            "keras_mnistm.pkl\n",
            "Koszulka \n",
            "Listy od Joli.gdoc\n",
            "mnist_m.tar.gz\n",
            "Nasze przepisy.gdoc\n",
            "Neural Networks - BF Generator.gdoc\n",
            "private.gsheet\n",
            "project report.gdoc\n",
            "public.gsheet\n",
            "skanowanie0001.jpg\n",
            "Slovenia 🇸🇮.gdoc\n",
            "Święta 2017\n",
            "Ubuntu-OSX\n",
            "zdj usa my\n",
            "zegar.html\n"
          ],
          "name": "stdout"
        }
      ]
    },
    {
      "metadata": {
        "id": "CtIbOwfLHECn",
        "colab_type": "code",
        "colab": {}
      },
      "cell_type": "code",
      "source": [
        "import pickle"
      ],
      "execution_count": 0,
      "outputs": []
    },
    {
      "metadata": {
        "id": "Q5QSJjOxUo55",
        "colab_type": "code",
        "colab": {}
      },
      "cell_type": "code",
      "source": [
        "class Mnist_M(torch.utils.data.Dataset):\n",
        "  \n",
        "  def __init__(self, train=True, transform=None):\n",
        "    \n",
        "    self.train = train\n",
        "    self.transform = transform\n",
        "    \n",
        "    with open('drive/My Drive/keras_mnistm.pkl', 'rb') as mnist_m:\n",
        "      mnist_m_data = pickle.load(mnist_m, encoding='bytes')\n",
        "    mnist_m_train_data = torch.ByteTensor(mnist_m_data[b'train'])\n",
        "    mnist_m_test_data = torch.ByteTensor(mnist_m_data[b'test'])\n",
        "    if train:\n",
        "      mnist_m_train_labels = torchvision.datasets.MNIST(\n",
        "          root='./data', train=True, download=True).train_labels\n",
        "      self.mnist_m_set = list(zip(mnist_m_train_data, mnist_m_train_labels))\n",
        "    else:\n",
        "      mnist_m_test_labels = torchvision.datasets.MNIST(\n",
        "          root='./data', train=False, download=True).test_labels\n",
        "      self.mnist_m_set = list(zip(mnist_m_test_data, mnist_m_test_labels))\n",
        "    self.len = len(self.mnist_m_set)\n",
        "  \n",
        "  def __len__(self):\n",
        "    return self.len\n",
        "  \n",
        "  def __getitem__(self, index):\n",
        "    label = self.mnist_m_set[index][1]\n",
        "    sample = self.mnist_m_set[index][0].permute(2,0,1).float()\n",
        "    sample = sample / 255\n",
        "    \n",
        "    if self.transform: \n",
        "      #sample = self.transform(sample)\n",
        "      sample = (sample - 0.1307) / 0.3081\n",
        "      \n",
        "    return (sample, label)"
      ],
      "execution_count": 0,
      "outputs": []
    },
    {
      "metadata": {
        "id": "_OTdSAPfbGx-",
        "colab_type": "code",
        "colab": {}
      },
      "cell_type": "code",
      "source": [
        "mnist_m_transform = transforms.Compose([\n",
        "                           transforms.Normalize((0.1307,), (0.3081,)),\n",
        "                       ])\n",
        "mnist_m_train = Mnist_M(transform=mnist_m_transform)\n",
        "mnist_m_test = Mnist_M(train=False,\n",
        "                     transform=mnist_m_transform)\n",
        "mnist_m_train_loader = torch.utils.data.DataLoader(mnist_m_train, \n",
        "                                                   batch_size=batch_size,\n",
        "                                         shuffle=True, num_workers=num_workers)\n",
        "mnist_m_test_loader = torch.utils.data.DataLoader(mnist_m_test,\n",
        "                                                  batch_size=batch_size,\n",
        "                                         shuffle=False, num_workers=num_workers)\n"
      ],
      "execution_count": 0,
      "outputs": []
    },
    {
      "metadata": {
        "id": "Kbe2O3dmdfGS",
        "colab_type": "code",
        "colab": {
          "base_uri": "https://localhost:8080/",
          "height": 889
        },
        "outputId": "e29f2516-8abe-437b-f53c-dc98c15234db"
      },
      "cell_type": "code",
      "source": [
        "trainiter = iter(mnist_m_train_loader)\n",
        "images, labels = trainiter.next()\n",
        "printMnist3D(images[0])\n",
        "print(labels[0])"
      ],
      "execution_count": 25,
      "outputs": [
        {
          "output_type": "stream",
          "text": [
            "Exception ignored in: <bound method _DataLoaderIter.__del__ of <torch.utils.data.dataloader._DataLoaderIter object at 0x7f1089d158d0>>\n",
            "Traceback (most recent call last):\n",
            "  File \"/usr/local/lib/python3.6/dist-packages/torch/utils/data/dataloader.py\", line 399, in __del__\n",
            "    self._shutdown_workers()\n",
            "  File \"/usr/local/lib/python3.6/dist-packages/torch/utils/data/dataloader.py\", line 378, in _shutdown_workers\n",
            "    self.worker_result_queue.get()\n",
            "  File \"/usr/lib/python3.6/multiprocessing/queues.py\", line 337, in get\n",
            "    return _ForkingPickler.loads(res)\n",
            "  File \"/usr/local/lib/python3.6/dist-packages/torch/multiprocessing/reductions.py\", line 151, in rebuild_storage_fd\n",
            "    fd = df.detach()\n",
            "  File \"/usr/lib/python3.6/multiprocessing/resource_sharer.py\", line 57, in detach\n",
            "    with _resource_sharer.get_connection(self._id) as conn:\n",
            "  File \"/usr/lib/python3.6/multiprocessing/resource_sharer.py\", line 87, in get_connection\n",
            "    c = Client(address, authkey=process.current_process().authkey)\n",
            "  File \"/usr/lib/python3.6/multiprocessing/connection.py\", line 493, in Client\n",
            "    answer_challenge(c, authkey)\n",
            "  File \"/usr/lib/python3.6/multiprocessing/connection.py\", line 737, in answer_challenge\n",
            "    response = connection.recv_bytes(256)        # reject large message\n",
            "  File \"/usr/lib/python3.6/multiprocessing/connection.py\", line 216, in recv_bytes\n",
            "    buf = self._recv_bytes(maxlength)\n",
            "  File \"/usr/lib/python3.6/multiprocessing/connection.py\", line 407, in _recv_bytes\n",
            "    buf = self._recv(4)\n",
            "  File \"/usr/lib/python3.6/multiprocessing/connection.py\", line 379, in _recv\n",
            "    chunk = read(handle, remaining)\n",
            "ConnectionResetError: [Errno 104] Connection reset by peer\n"
          ],
          "name": "stderr"
        },
        {
          "output_type": "stream",
          "text": [
            "tensor(5)\n"
          ],
          "name": "stdout"
        },
        {
          "output_type": "display_data",
          "data": {
            "image/png": "[encoded data removed]",
            "text/plain": [
              "<matplotlib.figure.Figure at 0x7f104791a978>"
            ]
          },
          "metadata": {
            "tags": []
          }
        }
      ]
    },
    {
      "metadata": {
        "id": "u6AGVJbXY3XK",
        "colab_type": "code",
        "colab": {
          "base_uri": "https://localhost:8080/",
          "height": 68
        },
        "outputId": "502f82b0-f349-4480-beb6-0098b90b0cb8"
      },
      "cell_type": "code",
      "source": [
        "test(model, device, mnist_m_test_loader)"
      ],
      "execution_count": 26,
      "outputs": [
        {
          "output_type": "stream",
          "text": [
            "\n",
            "Test set: Average loss: 1.5843, Accuracy: 4669/10000 (47%)\n",
            "\n"
          ],
          "name": "stdout"
        }
      ]
    },
    {
      "metadata": {
        "id": "ZEez9Cb7emPR",
        "colab_type": "code",
        "colab": {
          "base_uri": "https://localhost:8080/",
          "height": 384
        },
        "outputId": "8ac0859f-409b-4936-873f-27902be7f2ae"
      },
      "cell_type": "code",
      "source": [
        "printIncorrect(model, mnist_m_test)"
      ],
      "execution_count": 27,
      "outputs": [
        {
          "output_type": "display_data",
          "data": {
            "image/png": "[encoded data removed]",
            "text/plain": [
              "<matplotlib.figure.Figure at 0x7f1047975f98>"
            ]
          },
          "metadata": {
            "tags": []
          }
        }
      ]
    },
    {
      "metadata": {
        "id": "in4wjnoU9lnb",
        "colab_type": "code",
        "colab": {}
      },
      "cell_type": "code",
      "source": [
        "class Mnist_Ext(torch.utils.data.Dataset):\n",
        "  def __init__(self, datasets):\n",
        "    self.datasets = datasets\n",
        "    self.lengths = [len(ds) for ds in datasets]\n",
        "    self.offsets = np.cumsum(self.lengths)\n",
        "    self.len = np.sum(self.lengths)\n",
        "    \n",
        "  def __len__(self):\n",
        "    return self.len\n",
        "  \n",
        "  def __getitem__(self, index):\n",
        "    for dset_num, dset_offset in enumerate(self.offsets):\n",
        "      if index < dset_offset:\n",
        "        index -= np.append([0], self.offsets)[dset_num]\n",
        "        sample, label = self.datasets[dset_num][index]\n",
        "        domain = torch.tensor(dset_num)\n",
        "        return (sample, (label, domain))\n",
        "  "
      ],
      "execution_count": 0,
      "outputs": []
    },
    {
      "metadata": {
        "id": "FHyl40CC_BF7",
        "colab_type": "code",
        "colab": {}
      },
      "cell_type": "code",
      "source": [
        "mnist_ext_train = Mnist_Ext([train_set, mnist_m_train])\n",
        "mnist_ext_test = Mnist_Ext([test_set, mnist_m_test])\n",
        "mnist_ext_train_loader = torch.utils.data.DataLoader(mnist_ext_train, \n",
        "                                                   batch_size=batch_size,\n",
        "                                         shuffle=True, num_workers=num_workers)\n",
        "mnist_ext_test_loader = torch.utils.data.DataLoader(mnist_ext_test, \n",
        "                                                   batch_size=batch_size,\n",
        "                                         shuffle=True, num_workers=num_workers)\n",
        "\n"
      ],
      "execution_count": 0,
      "outputs": []
    },
    {
      "metadata": {
        "id": "dUsdgDM_EtJ5",
        "colab_type": "code",
        "colab": {
          "base_uri": "https://localhost:8080/",
          "height": 364
        },
        "outputId": "04b25c06-ad6a-4cc0-d616-70a4bfbf72be"
      },
      "cell_type": "code",
      "source": [
        "trainiter = iter(mnist_ext_train_loader)\n",
        "images, labels = trainiter.next()\n",
        "labels = torch.tensor(list(zip(labels[0], labels[1])))\n",
        "printMnist3D(images[0])\n",
        "print(labels[0])"
      ],
      "execution_count": 102,
      "outputs": [
        {
          "output_type": "stream",
          "text": [
            "tensor([3, 0])\n"
          ],
          "name": "stdout"
        },
        {
          "output_type": "display_data",
          "data": {
            "image/png": "[encoded data removed]",
            "text/plain": [
              "<matplotlib.figure.Figure at 0x7f10205e4f60>"
            ]
          },
          "metadata": {
            "tags": []
          }
        }
      ]
    },
    {
      "metadata": {
        "id": "L8-yi_xpUm3t",
        "colab_type": "code",
        "colab": {
          "base_uri": "https://localhost:8080/",
          "height": 34
        },
        "outputId": "8d579fff-09d4-4272-97a7-77e3f9f56647"
      },
      "cell_type": "code",
      "source": [
        "train_loader.dataset.__len__()"
      ],
      "execution_count": 82,
      "outputs": [
        {
          "output_type": "execute_result",
          "data": {
            "text/plain": [
              "60000"
            ]
          },
          "metadata": {
            "tags": []
          },
          "execution_count": 82
        }
      ]
    },
    {
      "metadata": {
        "id": "a2ehvBCle7iq",
        "colab_type": "code",
        "colab": {}
      },
      "cell_type": "code",
      "source": [
        "class GradReverse(torch.autograd.Function):\n",
        "    def __init__(self, lambd=1.):\n",
        "      self.lambd = lambd\n",
        "    \n",
        "    def forward(self, x):\n",
        "        return x.view_as(x)\n",
        "\n",
        "    def backward(self, grad_output):\n",
        "        return (grad_output * -self.lambd)\n",
        "\n",
        "def grad_reverse(x, lambd):\n",
        "    return GradReverse(lambd)(x)"
      ],
      "execution_count": 0,
      "outputs": []
    },
    {
      "metadata": {
        "id": "I3LNIeZbx-Gi",
        "colab_type": "code",
        "colab": {}
      },
      "cell_type": "code",
      "source": [
        "class MnistDomain(nn.Module):\n",
        "  def __init__(self):\n",
        "    super(MnistDomain, self).__init__()\n",
        "    self.fc1 = nn.Linear(320, 100)\n",
        "    self.fc2 = nn.Linear(100, 2)\n",
        "\n",
        "  def forward(self, x, lambd=1.):\n",
        "    x = grad_reverse(x, lambd)\n",
        "    x = F.leaky_relu(self.fc1(x))\n",
        "    x = F.dropout(x, training=self.training)\n",
        "    x = self.fc2(x)\n",
        "    return F.log_softmax(x, dim=1) \n",
        "    "
      ],
      "execution_count": 0,
      "outputs": []
    },
    {
      "metadata": {
        "id": "ltFDl3rN6-_u",
        "colab_type": "code",
        "colab": {}
      },
      "cell_type": "code",
      "source": [
        "class MnistFeatureExtractor(nn.Module):\n",
        "  def __init__(self):\n",
        "    super(MnistFeatureExtractor, self).__init__()\n",
        "    self.conv1 = nn.Conv2d(3, 10, kernel_size=5)\n",
        "    self.conv2 = nn.Conv2d(10, 20, kernel_size=5)\n",
        "    self.conv2_drop = nn.Dropout2d()\n",
        "  def forward(self, x):\n",
        "    x = F.leaky_relu(F.max_pool2d(self.conv1(x), 2))\n",
        "    x = F.leaky_relu(F.max_pool2d(self.conv2_drop(self.conv2(x)), 2))\n",
        "    return x.view(-1, 320) "
      ],
      "execution_count": 0,
      "outputs": []
    },
    {
      "metadata": {
        "id": "AGYgmKUvAwHz",
        "colab_type": "code",
        "colab": {}
      },
      "cell_type": "code",
      "source": [
        "class MnistClassPredictor(nn.Module):\n",
        "  def __init__(self):\n",
        "    super(MnistClassPredictor, self).__init__()\n",
        "    self.fc1 = nn.Linear(320, 50)\n",
        "    self.fc2 = nn.Linear(50, 10)\n",
        "  def forward(self, x):\n",
        "    x = F.leaky_relu(self.fc1(x))\n",
        "    x = F.dropout(x, training=self.training)\n",
        "    x = self.fc2(x)\n",
        "    return F.log_softmax(x, dim=1)    "
      ],
      "execution_count": 0,
      "outputs": []
    },
    {
      "metadata": {
        "id": "z11N2hmNOkEe",
        "colab_type": "code",
        "colab": {}
      },
      "cell_type": "code",
      "source": [
        "criterion = F.nll_loss\n",
        "criterion_domain = F.nll_loss"
      ],
      "execution_count": 0,
      "outputs": []
    },
    {
      "metadata": {
        "id": "iRz3kir3A_Aa",
        "colab_type": "code",
        "colab": {}
      },
      "cell_type": "code",
      "source": [
        "def trainWithDomain(model_f, model_c, model_d, device, train_loader_class, \n",
        "                    train_loader_domain, optim_f, optim_c, optim_d, \n",
        "                    epoch, epochs, use_lambd=True, train_domain=True):\n",
        "  model_f.train()\n",
        "  model_c.train()\n",
        "  model_d.train()\n",
        "  if train_domain:\n",
        "    domain_iter = iter(train_loader_domain)\n",
        "  lambd = -1.\n",
        "  batch_num = len(train_loader.dataset) / train_loader.batch_size\n",
        "  for batch_idx, (data, labels) in enumerate(train_loader):\n",
        "    \n",
        "    p = ((epoch-1) * batch_num + batch_idx) / (epochs * batch_num)\n",
        "    lr = 0.01 / (1. + 10. * p)**0.75\n",
        "    optim_f.lr = lr\n",
        "    optim_c.lr = lr\n",
        "    optim_d.lr = lr\n",
        "    \n",
        "    data = data.to(device)\n",
        "    labels = labels.to(device)\n",
        "    optim_f.zero_grad()\n",
        "    optim_c.zero_grad()\n",
        "    output = model_c(model_f(data))\n",
        "    loss = criterion(output, labels)\n",
        "    loss.backward()\n",
        "    \n",
        "    optim_f.step()\n",
        "    optim_c.step()\n",
        "    if train_domain:\n",
        "      data, (_, domains) = domain_iter.next()\n",
        "      data, domains = data.to(device), domains.to(device)\n",
        "      optim_f.zero_grad()\n",
        "      optim_d.zero_grad()\n",
        "      \n",
        "      if use_lambd:\n",
        "        lambd = 2. / (1. + np.exp(-10. * p)) - 1.   \n",
        "      else:\n",
        "        lambd = 1.\n",
        "      output = model_d(model_f(data), lambd)\n",
        "      loss_domain = criterion_domain(output, domains)\n",
        "      loss_domain.backward()\n",
        "      optim_f.step()\n",
        "      optim_d.step()\n",
        "    \n",
        "    if batch_idx % log_interval == 0:\n",
        "        print('Train Epoch: \\\n",
        "              {} [{}/{} ({:.0f}%)]\\tLoss: {:.6f}, lr: {:.5f} lambd: {:.5f}'\n",
        "            .format(epoch, batch_idx * len(data), len(train_loader.dataset),\n",
        "            100. * batch_idx / len(train_loader), loss.item(), lr, lambd))"
      ],
      "execution_count": 0,
      "outputs": []
    },
    {
      "metadata": {
        "id": "q3m1CsTvC10c",
        "colab_type": "code",
        "colab": {}
      },
      "cell_type": "code",
      "source": [
        "def testWithDomain(model_f, model_c, model_d, device, test_loader):\n",
        "  model_f.eval()\n",
        "  model_c.eval()\n",
        "  test_loss = 0\n",
        "  correct = 0\n",
        "  domainsCorrect = 0\n",
        "  with torch.no_grad():\n",
        "    for data, target in test_loader:\n",
        "      data = data.to(device)\n",
        "      labels, domains = target\n",
        "      labels, domains = labels.to(device), domains.to(device)\n",
        "      output = model_c(model_f(data))\n",
        "      test_loss += criterion(output, labels, reduction='sum').item()\n",
        "      pred = output.max(1, keepdim=True)[1] \n",
        "      correct += pred.eq(labels.view_as(pred)).sum().item()\n",
        "      \n",
        "      domainsOut = model_d(model_f(data))\n",
        "      domainsPred = domainsOut.max(1, keepdim=True)[1] \n",
        "      domainsCorrect += domainsPred.eq(domains.view_as(pred)).sum().item()\n",
        "      \n",
        "  test_loss /= len(test_loader.dataset)\n",
        "  print('\\nTest set: Average loss: {:.4f}, Accuracy: {}/{} ({:.0f}%)'.format(\n",
        "      test_loss, correct, len(test_loader.dataset),\n",
        "      100. * correct / len(test_loader.dataset)))\n",
        "  print('\\nDomains: Test set:  Accuracy: {}/{} ({:.0f}%)\\n'.format(\n",
        "      domainsCorrect, len(test_loader.dataset),\n",
        "      100. * domainsCorrect / len(test_loader.dataset)))"
      ],
      "execution_count": 0,
      "outputs": []
    },
    {
      "metadata": {
        "id": "Gi495iqhDD0_",
        "colab_type": "code",
        "colab": {}
      },
      "cell_type": "code",
      "source": [
        "model_f = MnistFeatureExtractor().to(device)\n",
        "model_c = MnistClassPredictor().to(device)\n",
        "model_d = MnistDomain().to(device)\n",
        "optim_f = optim.SGD(model_f.parameters(), lr=lr, momentum=momentum)\n",
        "optim_c = optim.SGD(model_c.parameters(), lr=lr, momentum=momentum)\n",
        "optim_d = optim.SGD(model_d.parameters(), lr=lr, momentum=momentum)\n"
      ],
      "execution_count": 0,
      "outputs": []
    },
    {
      "metadata": {
        "id": "_omFSxWaOm8i",
        "colab_type": "code",
        "colab": {}
      },
      "cell_type": "code",
      "source": [
        "epochs=10"
      ],
      "execution_count": 0,
      "outputs": []
    },
    {
      "metadata": {
        "id": "NJUqNq-m7LGD",
        "colab_type": "code",
        "colab": {
          "base_uri": "https://localhost:8080/",
          "height": 34
        },
        "outputId": "29b56013-0733-40e4-8824-6d6defa64d24"
      },
      "cell_type": "code",
      "source": [
        "trainiter = iter(mnist_ext_train_loader)\n",
        "images, labels = trainiter.next()\n",
        "model_d(model_f(images[1].to(device).unsqueeze(0)))"
      ],
      "execution_count": 112,
      "outputs": [
        {
          "output_type": "execute_result",
          "data": {
            "text/plain": [
              "tensor([[-0.7148, -0.6719]], device='cuda:0', grad_fn=<LogSoftmaxBackward>)"
            ]
          },
          "metadata": {
            "tags": []
          },
          "execution_count": 112
        }
      ]
    },
    {
      "metadata": {
        "id": "fp4hXCAwDpPh",
        "colab_type": "code",
        "colab": {
          "base_uri": "https://localhost:8080/",
          "height": 3726
        },
        "outputId": "a28fd6cc-7b66-4277-acad-69195b151508"
      },
      "cell_type": "code",
      "source": [
        "for epoch in range(1, epochs+1):\n",
        "  trainWithDomain(model_f, model_c, model_d, device,train_loader,\n",
        "                  mnist_ext_train_loader, optim_f, optim_c,\n",
        "                  optim_d, epoch, epochs, train_domain=True)\n",
        "  testWithDomain(model_f, model_c, model_d, device, mnist_ext_test_loader)"
      ],
      "execution_count": 115,
      "outputs": [
        {
          "output_type": "stream",
          "text": [
            "Train Epoch:               1 [0/60000 (0%)]\tLoss: 0.449218, lr: 0.01000 lambd: 0.00000\n",
            "Train Epoch:               1 [6400/60000 (11%)]\tLoss: 0.293657, lr: 0.00927 lambd: 0.05328\n",
            "Train Epoch:               1 [12800/60000 (21%)]\tLoss: 0.348805, lr: 0.00865 lambd: 0.10626\n",
            "Train Epoch:               1 [19200/60000 (32%)]\tLoss: 0.234833, lr: 0.00812 lambd: 0.15865\n",
            "Train Epoch:               1 [25600/60000 (43%)]\tLoss: 0.406811, lr: 0.00766 lambd: 0.21015\n",
            "Train Epoch:               1 [32000/60000 (53%)]\tLoss: 0.214260, lr: 0.00726 lambd: 0.26052\n",
            "Train Epoch:               1 [38400/60000 (64%)]\tLoss: 0.195266, lr: 0.00690 lambd: 0.30951\n",
            "Train Epoch:               1 [44800/60000 (75%)]\tLoss: 0.438495, lr: 0.00658 lambd: 0.35690\n",
            "Train Epoch:               1 [51200/60000 (85%)]\tLoss: 0.411766, lr: 0.00630 lambd: 0.40253\n",
            "Train Epoch:               1 [57600/60000 (96%)]\tLoss: 0.210000, lr: 0.00604 lambd: 0.44624\n",
            "\n",
            "Test set: Average loss: 0.5529, Accuracy: 16538/20000 (83%)\n",
            "\n",
            "Domains: Test set:  Accuracy: 12481/20000 (62%)\n",
            "\n",
            "Train Epoch:               2 [0/60000 (0%)]\tLoss: 0.307306, lr: 0.00595 lambd: 0.46212\n",
            "Train Epoch:               2 [6400/60000 (11%)]\tLoss: 0.300233, lr: 0.00572 lambd: 0.50301\n",
            "Train Epoch:               2 [12800/60000 (21%)]\tLoss: 0.214885, lr: 0.00551 lambd: 0.54178\n",
            "Train Epoch:               2 [19200/60000 (32%)]\tLoss: 0.309558, lr: 0.00532 lambd: 0.57836\n",
            "Train Epoch:               2 [25600/60000 (43%)]\tLoss: 0.155795, lr: 0.00514 lambd: 0.61276\n",
            "Train Epoch:               2 [32000/60000 (53%)]\tLoss: 0.204366, lr: 0.00498 lambd: 0.64499\n",
            "Train Epoch:               2 [38400/60000 (64%)]\tLoss: 0.110148, lr: 0.00483 lambd: 0.67507\n",
            "Train Epoch:               2 [44800/60000 (75%)]\tLoss: 0.107981, lr: 0.00469 lambd: 0.70306\n",
            "Train Epoch:               2 [51200/60000 (85%)]\tLoss: 0.159251, lr: 0.00455 lambd: 0.72904\n",
            "Train Epoch:               2 [57600/60000 (96%)]\tLoss: 0.325798, lr: 0.00443 lambd: 0.75307\n"
          ],
          "name": "stdout"
        },
        {
          "output_type": "stream",
          "text": [
            "Exception ignored in: <bound method _DataLoaderIter.__del__ of <torch.utils.data.dataloader._DataLoaderIter object at 0x7f10200543c8>>\n",
            "Traceback (most recent call last):\n",
            "  File \"/usr/local/lib/python3.6/dist-packages/torch/utils/data/dataloader.py\", line 399, in __del__\n",
            "    self._shutdown_workers()\n",
            "  File \"/usr/local/lib/python3.6/dist-packages/torch/utils/data/dataloader.py\", line 378, in _shutdown_workers\n",
            "    self.worker_result_queue.get()\n",
            "  File \"/usr/lib/python3.6/multiprocessing/queues.py\", line 337, in get\n",
            "    return _ForkingPickler.loads(res)\n",
            "  File \"/usr/local/lib/python3.6/dist-packages/torch/multiprocessing/reductions.py\", line 151, in rebuild_storage_fd\n",
            "    fd = df.detach()\n",
            "  File \"/usr/lib/python3.6/multiprocessing/resource_sharer.py\", line 57, in detach\n",
            "    with _resource_sharer.get_connection(self._id) as conn:\n",
            "  File \"/usr/lib/python3.6/multiprocessing/resource_sharer.py\", line 87, in get_connection\n",
            "    c = Client(address, authkey=process.current_process().authkey)\n",
            "  File \"/usr/lib/python3.6/multiprocessing/connection.py\", line 494, in Client\n",
            "    deliver_challenge(c, authkey)\n",
            "  File \"/usr/lib/python3.6/multiprocessing/connection.py\", line 722, in deliver_challenge\n",
            "    response = connection.recv_bytes(256)        # reject large message\n",
            "  File \"/usr/lib/python3.6/multiprocessing/connection.py\", line 216, in recv_bytes\n",
            "    buf = self._recv_bytes(maxlength)\n",
            "  File \"/usr/lib/python3.6/multiprocessing/connection.py\", line 407, in _recv_bytes\n",
            "    buf = self._recv(4)\n",
            "  File \"/usr/lib/python3.6/multiprocessing/connection.py\", line 379, in _recv\n",
            "    chunk = read(handle, remaining)\n",
            "ConnectionResetError: [Errno 104] Connection reset by peer\n"
          ],
          "name": "stderr"
        },
        {
          "output_type": "stream",
          "text": [
            "\n",
            "Test set: Average loss: 0.4412, Accuracy: 17406/20000 (87%)\n",
            "\n",
            "Domains: Test set:  Accuracy: 11588/20000 (58%)\n",
            "\n",
            "Train Epoch:               3 [0/60000 (0%)]\tLoss: 0.260760, lr: 0.00439 lambd: 0.76159\n",
            "Train Epoch:               3 [6400/60000 (11%)]\tLoss: 0.126809, lr: 0.00427 lambd: 0.78310\n",
            "Train Epoch:               3 [12800/60000 (21%)]\tLoss: 0.281031, lr: 0.00417 lambd: 0.80288\n",
            "Train Epoch:               3 [19200/60000 (32%)]\tLoss: 0.247028, lr: 0.00407 lambd: 0.82104\n",
            "Train Epoch:               3 [25600/60000 (43%)]\tLoss: 0.177198, lr: 0.00397 lambd: 0.83768\n",
            "Train Epoch:               3 [32000/60000 (53%)]\tLoss: 0.354462, lr: 0.00388 lambd: 0.85289\n",
            "Train Epoch:               3 [38400/60000 (64%)]\tLoss: 0.356366, lr: 0.00379 lambd: 0.86678\n",
            "Train Epoch:               3 [44800/60000 (75%)]\tLoss: 0.127902, lr: 0.00371 lambd: 0.87945\n",
            "Train Epoch:               3 [51200/60000 (85%)]\tLoss: 0.368573, lr: 0.00364 lambd: 0.89098\n",
            "Train Epoch:               3 [57600/60000 (96%)]\tLoss: 0.222537, lr: 0.00356 lambd: 0.90147\n",
            "\n",
            "Test set: Average loss: 0.4159, Accuracy: 17496/20000 (87%)\n",
            "\n",
            "Domains: Test set:  Accuracy: 11824/20000 (59%)\n",
            "\n",
            "Train Epoch:               4 [0/60000 (0%)]\tLoss: 0.188340, lr: 0.00354 lambd: 0.90515\n",
            "Train Epoch:               4 [6400/60000 (11%)]\tLoss: 0.171925, lr: 0.00347 lambd: 0.91433\n",
            "Train Epoch:               4 [12800/60000 (21%)]\tLoss: 0.558416, lr: 0.00340 lambd: 0.92267\n",
            "Train Epoch:               4 [19200/60000 (32%)]\tLoss: 0.261997, lr: 0.00334 lambd: 0.93022\n",
            "Train Epoch:               4 [25600/60000 (43%)]\tLoss: 0.299951, lr: 0.00328 lambd: 0.93706\n",
            "Train Epoch:               4 [32000/60000 (53%)]\tLoss: 0.227642, lr: 0.00322 lambd: 0.94324\n",
            "Train Epoch:               4 [38400/60000 (64%)]\tLoss: 0.085671, lr: 0.00316 lambd: 0.94884\n",
            "Train Epoch:               4 [44800/60000 (75%)]\tLoss: 0.283612, lr: 0.00311 lambd: 0.95390\n",
            "Train Epoch:               4 [51200/60000 (85%)]\tLoss: 0.233261, lr: 0.00306 lambd: 0.95846\n",
            "Train Epoch:               4 [57600/60000 (96%)]\tLoss: 0.152460, lr: 0.00301 lambd: 0.96259\n"
          ],
          "name": "stdout"
        },
        {
          "output_type": "stream",
          "text": [
            "Exception ignored in: <bound method _DataLoaderIter.__del__ of <torch.utils.data.dataloader._DataLoaderIter object at 0x7f10200543c8>>\n",
            "Traceback (most recent call last):\n",
            "  File \"/usr/local/lib/python3.6/dist-packages/torch/utils/data/dataloader.py\", line 399, in __del__\n",
            "    self._shutdown_workers()\n",
            "  File \"/usr/local/lib/python3.6/dist-packages/torch/utils/data/dataloader.py\", line 378, in _shutdown_workers\n",
            "    self.worker_result_queue.get()\n",
            "  File \"/usr/lib/python3.6/multiprocessing/queues.py\", line 337, in get\n",
            "    return _ForkingPickler.loads(res)\n",
            "  File \"/usr/local/lib/python3.6/dist-packages/torch/multiprocessing/reductions.py\", line 151, in rebuild_storage_fd\n",
            "    fd = df.detach()\n",
            "  File \"/usr/lib/python3.6/multiprocessing/resource_sharer.py\", line 57, in detach\n",
            "    with _resource_sharer.get_connection(self._id) as conn:\n",
            "  File \"/usr/lib/python3.6/multiprocessing/resource_sharer.py\", line 87, in get_connection\n",
            "    c = Client(address, authkey=process.current_process().authkey)\n",
            "  File \"/usr/lib/python3.6/multiprocessing/connection.py\", line 494, in Client\n",
            "    deliver_challenge(c, authkey)\n",
            "  File \"/usr/lib/python3.6/multiprocessing/connection.py\", line 722, in deliver_challenge\n",
            "    response = connection.recv_bytes(256)        # reject large message\n",
            "  File \"/usr/lib/python3.6/multiprocessing/connection.py\", line 216, in recv_bytes\n",
            "    buf = self._recv_bytes(maxlength)\n",
            "  File \"/usr/lib/python3.6/multiprocessing/connection.py\", line 407, in _recv_bytes\n",
            "    buf = self._recv(4)\n",
            "  File \"/usr/lib/python3.6/multiprocessing/connection.py\", line 379, in _recv\n",
            "    chunk = read(handle, remaining)\n",
            "ConnectionResetError: [Errno 104] Connection reset by peer\n"
          ],
          "name": "stderr"
        },
        {
          "output_type": "stream",
          "text": [
            "\n",
            "Test set: Average loss: 0.4163, Accuracy: 17336/20000 (87%)\n",
            "\n",
            "Domains: Test set:  Accuracy: 12687/20000 (63%)\n",
            "\n",
            "Train Epoch:               5 [0/60000 (0%)]\tLoss: 0.107972, lr: 0.00299 lambd: 0.96403\n",
            "Train Epoch:               5 [6400/60000 (11%)]\tLoss: 0.144726, lr: 0.00294 lambd: 0.96761\n",
            "Train Epoch:               5 [12800/60000 (21%)]\tLoss: 0.191077, lr: 0.00290 lambd: 0.97084\n",
            "Train Epoch:               5 [19200/60000 (32%)]\tLoss: 0.124090, lr: 0.00285 lambd: 0.97375\n",
            "Train Epoch:               5 [25600/60000 (43%)]\tLoss: 0.235582, lr: 0.00281 lambd: 0.97637\n",
            "Train Epoch:               5 [32000/60000 (53%)]\tLoss: 0.238492, lr: 0.00277 lambd: 0.97874\n",
            "Train Epoch:               5 [38400/60000 (64%)]\tLoss: 0.386473, lr: 0.00273 lambd: 0.98087\n",
            "Train Epoch:               5 [44800/60000 (75%)]\tLoss: 0.157270, lr: 0.00269 lambd: 0.98279\n",
            "Train Epoch:               5 [51200/60000 (85%)]\tLoss: 0.089599, lr: 0.00266 lambd: 0.98452\n",
            "Train Epoch:               5 [57600/60000 (96%)]\tLoss: 0.122926, lr: 0.00262 lambd: 0.98607\n",
            "\n",
            "Test set: Average loss: 0.4049, Accuracy: 17397/20000 (87%)\n",
            "\n",
            "Domains: Test set:  Accuracy: 12253/20000 (61%)\n",
            "\n",
            "Train Epoch:               6 [0/60000 (0%)]\tLoss: 0.213542, lr: 0.00261 lambd: 0.98661\n",
            "Train Epoch:               6 [6400/60000 (11%)]\tLoss: 0.337970, lr: 0.00257 lambd: 0.98796\n",
            "Train Epoch:               6 [12800/60000 (21%)]\tLoss: 0.199820, lr: 0.00254 lambd: 0.98917\n",
            "Train Epoch:               6 [19200/60000 (32%)]\tLoss: 0.133443, lr: 0.00251 lambd: 0.99026\n",
            "Train Epoch:               6 [25600/60000 (43%)]\tLoss: 0.154232, lr: 0.00248 lambd: 0.99124\n",
            "Train Epoch:               6 [32000/60000 (53%)]\tLoss: 0.210055, lr: 0.00245 lambd: 0.99213\n",
            "Train Epoch:               6 [38400/60000 (64%)]\tLoss: 0.097336, lr: 0.00242 lambd: 0.99292\n",
            "Train Epoch:               6 [44800/60000 (75%)]\tLoss: 0.273400, lr: 0.00239 lambd: 0.99363\n",
            "Train Epoch:               6 [51200/60000 (85%)]\tLoss: 0.154470, lr: 0.00236 lambd: 0.99428\n",
            "Train Epoch:               6 [57600/60000 (96%)]\tLoss: 0.366981, lr: 0.00233 lambd: 0.99485\n",
            "\n",
            "Test set: Average loss: 0.4055, Accuracy: 17423/20000 (87%)\n",
            "\n",
            "Domains: Test set:  Accuracy: 12242/20000 (61%)\n",
            "\n",
            "Train Epoch:               7 [0/60000 (0%)]\tLoss: 0.178178, lr: 0.00232 lambd: 0.99505\n",
            "Train Epoch:               7 [6400/60000 (11%)]\tLoss: 0.124774, lr: 0.00230 lambd: 0.99555\n",
            "Train Epoch:               7 [12800/60000 (21%)]\tLoss: 0.100836, lr: 0.00227 lambd: 0.99600\n",
            "Train Epoch:               7 [19200/60000 (32%)]\tLoss: 0.201867, lr: 0.00225 lambd: 0.99641\n",
            "Train Epoch:               7 [25600/60000 (43%)]\tLoss: 0.265253, lr: 0.00222 lambd: 0.99677\n",
            "Train Epoch:               7 [32000/60000 (53%)]\tLoss: 0.253936, lr: 0.00220 lambd: 0.99710\n",
            "Train Epoch:               7 [38400/60000 (64%)]\tLoss: 0.105690, lr: 0.00218 lambd: 0.99739\n",
            "Train Epoch:               7 [44800/60000 (75%)]\tLoss: 0.303454, lr: 0.00215 lambd: 0.99765\n",
            "Train Epoch:               7 [51200/60000 (85%)]\tLoss: 0.108331, lr: 0.00213 lambd: 0.99789\n",
            "Train Epoch:               7 [57600/60000 (96%)]\tLoss: 0.267428, lr: 0.00211 lambd: 0.99810\n"
          ],
          "name": "stdout"
        },
        {
          "output_type": "stream",
          "text": [
            "Exception ignored in: <bound method _DataLoaderIter.__del__ of <torch.utils.data.dataloader._DataLoaderIter object at 0x7f101d0595f8>>\n",
            "Traceback (most recent call last):\n",
            "  File \"/usr/local/lib/python3.6/dist-packages/torch/utils/data/dataloader.py\", line 399, in __del__\n",
            "    self._shutdown_workers()\n",
            "  File \"/usr/local/lib/python3.6/dist-packages/torch/utils/data/dataloader.py\", line 378, in _shutdown_workers\n",
            "    self.worker_result_queue.get()\n",
            "  File \"/usr/lib/python3.6/multiprocessing/queues.py\", line 337, in get\n",
            "    return _ForkingPickler.loads(res)\n",
            "  File \"/usr/local/lib/python3.6/dist-packages/torch/multiprocessing/reductions.py\", line 151, in rebuild_storage_fd\n",
            "    fd = df.detach()\n",
            "  File \"/usr/lib/python3.6/multiprocessing/resource_sharer.py\", line 58, in detach\n",
            "    return reduction.recv_handle(conn)\n",
            "  File \"/usr/lib/python3.6/multiprocessing/reduction.py\", line 182, in recv_handle\n",
            "    return recvfds(s, 1)[0]\n",
            "  File \"/usr/lib/python3.6/multiprocessing/reduction.py\", line 153, in recvfds\n",
            "    msg, ancdata, flags, addr = sock.recvmsg(1, socket.CMSG_LEN(bytes_size))\n",
            "ConnectionResetError: [Errno 104] Connection reset by peer\n"
          ],
          "name": "stderr"
        },
        {
          "output_type": "stream",
          "text": [
            "\n",
            "Test set: Average loss: 0.4056, Accuracy: 17370/20000 (87%)\n",
            "\n",
            "Domains: Test set:  Accuracy: 12604/20000 (63%)\n",
            "\n",
            "Train Epoch:               8 [0/60000 (0%)]\tLoss: 0.280843, lr: 0.00210 lambd: 0.99818\n",
            "Train Epoch:               8 [6400/60000 (11%)]\tLoss: 0.226655, lr: 0.00208 lambd: 0.99836\n",
            "Train Epoch:               8 [12800/60000 (21%)]\tLoss: 0.048736, lr: 0.00206 lambd: 0.99853\n",
            "Train Epoch:               8 [19200/60000 (32%)]\tLoss: 0.062130, lr: 0.00204 lambd: 0.99868\n",
            "Train Epoch:               8 [25600/60000 (43%)]\tLoss: 0.419836, lr: 0.00202 lambd: 0.99881\n",
            "Train Epoch:               8 [32000/60000 (53%)]\tLoss: 0.093627, lr: 0.00200 lambd: 0.99893\n",
            "Train Epoch:               8 [38400/60000 (64%)]\tLoss: 0.186284, lr: 0.00198 lambd: 0.99904\n",
            "Train Epoch:               8 [44800/60000 (75%)]\tLoss: 0.086126, lr: 0.00197 lambd: 0.99914\n",
            "Train Epoch:               8 [51200/60000 (85%)]\tLoss: 0.125293, lr: 0.00195 lambd: 0.99922\n",
            "Train Epoch:               8 [57600/60000 (96%)]\tLoss: 0.170409, lr: 0.00193 lambd: 0.99930\n",
            "\n",
            "Test set: Average loss: 0.4592, Accuracy: 17141/20000 (86%)\n",
            "\n",
            "Domains: Test set:  Accuracy: 12209/20000 (61%)\n",
            "\n",
            "Train Epoch:               9 [0/60000 (0%)]\tLoss: 0.572096, lr: 0.00192 lambd: 0.99933\n",
            "Train Epoch:               9 [6400/60000 (11%)]\tLoss: 0.194336, lr: 0.00191 lambd: 0.99940\n",
            "Train Epoch:               9 [12800/60000 (21%)]\tLoss: 0.035952, lr: 0.00189 lambd: 0.99946\n",
            "Train Epoch:               9 [19200/60000 (32%)]\tLoss: 0.234680, lr: 0.00187 lambd: 0.99951\n",
            "Train Epoch:               9 [25600/60000 (43%)]\tLoss: 0.262353, lr: 0.00186 lambd: 0.99956\n",
            "Train Epoch:               9 [32000/60000 (53%)]\tLoss: 0.260025, lr: 0.00184 lambd: 0.99961\n",
            "Train Epoch:               9 [38400/60000 (64%)]\tLoss: 0.118741, lr: 0.00183 lambd: 0.99965\n",
            "Train Epoch:               9 [44800/60000 (75%)]\tLoss: 0.074873, lr: 0.00181 lambd: 0.99968\n",
            "Train Epoch:               9 [51200/60000 (85%)]\tLoss: 0.142098, lr: 0.00180 lambd: 0.99971\n",
            "Train Epoch:               9 [57600/60000 (96%)]\tLoss: 0.158785, lr: 0.00178 lambd: 0.99974\n",
            "\n",
            "Test set: Average loss: 0.4343, Accuracy: 17305/20000 (87%)\n",
            "\n",
            "Domains: Test set:  Accuracy: 12508/20000 (63%)\n",
            "\n",
            "Train Epoch:               10 [0/60000 (0%)]\tLoss: 0.386962, lr: 0.00178 lambd: 0.99975\n",
            "Train Epoch:               10 [6400/60000 (11%)]\tLoss: 0.220780, lr: 0.00176 lambd: 0.99978\n",
            "Train Epoch:               10 [12800/60000 (21%)]\tLoss: 0.314780, lr: 0.00175 lambd: 0.99980\n",
            "Train Epoch:               10 [19200/60000 (32%)]\tLoss: 0.246081, lr: 0.00174 lambd: 0.99982\n",
            "Train Epoch:               10 [25600/60000 (43%)]\tLoss: 0.416580, lr: 0.00172 lambd: 0.99984\n",
            "Train Epoch:               10 [32000/60000 (53%)]\tLoss: 0.271040, lr: 0.00171 lambd: 0.99986\n",
            "Train Epoch:               10 [38400/60000 (64%)]\tLoss: 0.072056, lr: 0.00170 lambd: 0.99987\n",
            "Train Epoch:               10 [44800/60000 (75%)]\tLoss: 0.080795, lr: 0.00168 lambd: 0.99988\n",
            "Train Epoch:               10 [51200/60000 (85%)]\tLoss: 0.247175, lr: 0.00167 lambd: 0.99989\n",
            "Train Epoch:               10 [57600/60000 (96%)]\tLoss: 0.143125, lr: 0.00166 lambd: 0.99991\n",
            "\n",
            "Test set: Average loss: 0.4631, Accuracy: 17134/20000 (86%)\n",
            "\n",
            "Domains: Test set:  Accuracy: 12760/20000 (64%)\n",
            "\n"
          ],
          "name": "stdout"
        }
      ]
    },
    {
      "metadata": {
        "id": "-O0rF7gxWI50",
        "colab_type": "code",
        "colab": {}
      },
      "cell_type": "code",
      "source": [
        "def testDomainModel(model_f, model_c, device, test_loader):\n",
        "  model_f.eval()\n",
        "  model_c.eval()\n",
        "  test_loss = 0\n",
        "  correct = 0\n",
        "  with torch.no_grad():\n",
        "    for data, labels in test_loader:\n",
        "      data, labels = data.to(device), labels.to(device)\n",
        "      output = model_c(model_f(data))\n",
        "      test_loss += criterion(output, labels, reduction='sum').item()\n",
        "      pred = output.max(1, keepdim=True)[1].long() \n",
        "      correct += pred.eq(labels.view_as(pred)).sum().item()\n",
        "\n",
        "  test_loss /= len(test_loader.dataset)\n",
        "  print('\\nTest set: Average loss: {:.4f}, Accuracy: {}/{} ({:.0f}%)\\n'.format(\n",
        "      test_loss, correct, len(test_loader.dataset),\n",
        "      100. * correct / len(test_loader.dataset)))"
      ],
      "execution_count": 0,
      "outputs": []
    },
    {
      "metadata": {
        "id": "nHeW62laD_yC",
        "colab_type": "code",
        "colab": {
          "base_uri": "https://localhost:8080/",
          "height": 68
        },
        "outputId": "dcbd77bd-dba1-4872-87cb-24183a32d093"
      },
      "cell_type": "code",
      "source": [
        "testDomainModel(model_f, model_c, device, test_loader)"
      ],
      "execution_count": 117,
      "outputs": [
        {
          "output_type": "stream",
          "text": [
            "\n",
            "Test set: Average loss: 0.0643, Accuracy: 9810/10000 (98%)\n",
            "\n"
          ],
          "name": "stdout"
        }
      ]
    },
    {
      "metadata": {
        "id": "ZnYCgnpvEUtO",
        "colab_type": "code",
        "colab": {
          "base_uri": "https://localhost:8080/",
          "height": 384
        },
        "outputId": "cbd87e46-d8fa-42f9-bc06-fa7dd83671ff"
      },
      "cell_type": "code",
      "source": [
        "printIncorrect(lambda x: model_c(model_f(x)), test_set)"
      ],
      "execution_count": 118,
      "outputs": [
        {
          "output_type": "display_data",
          "data": {
            "image/png": "[encoded data removed]",
            "text/plain": [
              "<matplotlib.figure.Figure at 0x7f1020712320>"
            ]
          },
          "metadata": {
            "tags": []
          }
        }
      ]
    },
    {
      "metadata": {
        "id": "NJ1ewETAEJfY",
        "colab_type": "code",
        "colab": {
          "base_uri": "https://localhost:8080/",
          "height": 68
        },
        "outputId": "c676af19-d927-45a1-b086-ca093eb37736"
      },
      "cell_type": "code",
      "source": [
        "testDomainModel(model_f, model_c, device, mnist_m_test_loader)"
      ],
      "execution_count": 119,
      "outputs": [
        {
          "output_type": "stream",
          "text": [
            "\n",
            "Test set: Average loss: 0.8619, Accuracy: 7324/10000 (73%)\n",
            "\n"
          ],
          "name": "stdout"
        }
      ]
    },
    {
      "metadata": {
        "id": "JInRMFesEf2F",
        "colab_type": "code",
        "colab": {
          "base_uri": "https://localhost:8080/",
          "height": 384
        },
        "outputId": "7d374e0e-52c9-4229-85ee-b844d79f7d95"
      },
      "cell_type": "code",
      "source": [
        "printIncorrect(lambda x: model_c(model_f(x)), mnist_m_test)"
      ],
      "execution_count": 120,
      "outputs": [
        {
          "output_type": "display_data",
          "data": {
            "image/png": "[encoded data removed]",
            "text/plain": [
              "<matplotlib.figure.Figure at 0x7f10207120b8>"
            ]
          },
          "metadata": {
            "tags": []
          }
        }
      ]
    },
    {
      "metadata": {
        "id": "0iHLLO8BLgH8",
        "colab_type": "code",
        "colab": {}
      },
      "cell_type": "code",
      "source": [
        "def trainDomain(model_f, model_d, device, train_loader, optimizer, epoch):\n",
        "  model_d.train()\n",
        "  model_f.eval()\n",
        "  for batch_idx, (data, (_, domains)) in enumerate(train_loader):\n",
        "    data, domains = data.to(device), domains.to(device)\n",
        "    optimizer.zero_grad()\n",
        "    output = model_d(model_f(data))\n",
        "    loss = criterion_domain(output, domains)\n",
        "    loss.backward()\n",
        "    optimizer.step()\n",
        "    if batch_idx % log_interval == 0:\n",
        "        print('Train Epoch: {} [{}/{} ({:.0f}%)]\\tLoss: {:.6f}'.format(\n",
        "            epoch, batch_idx * len(data), len(train_loader.dataset),\n",
        "            100. * batch_idx / len(train_loader), loss.item()))\n",
        "  model_f.zero_grad()"
      ],
      "execution_count": 0,
      "outputs": []
    },
    {
      "metadata": {
        "id": "OtlG-edxrlM3",
        "colab_type": "code",
        "colab": {}
      },
      "cell_type": "code",
      "source": [
        "class Domain(nn.Module):\n",
        "  def __init__(self):\n",
        "    super(Domain, self).__init__()\n",
        "    self.fc1 = nn.Linear(320, 100)\n",
        "    self.fc2 = nn.Linear(100, 2)\n",
        "\n",
        "  def forward(self, x):\n",
        "    x = F.leaky_relu(self.fc1(x))\n",
        "    x = F.dropout(x, training=self.training)\n",
        "    x = self.fc2(x)\n",
        "    return F.log_softmax(x, dim=1)"
      ],
      "execution_count": 0,
      "outputs": []
    },
    {
      "metadata": {
        "id": "CtzINrcUtkFK",
        "colab_type": "code",
        "colab": {
          "base_uri": "https://localhost:8080/",
          "height": 4097
        },
        "outputId": "e50ba605-dd3f-4797-f7f8-b82af8962f84"
      },
      "cell_type": "code",
      "source": [
        "domain_pred = Domain().to(device)\n",
        "lr = 0.01\n",
        "optim_domain = optim.SGD(domain_pred.parameters(), lr=lr, momentum=momentum)\n",
        "for epoch in range(1, epochs+1):\n",
        "  trainDomain(model_f, domain_pred, device, mnist_ext_train_loader, optim_domain, epoch)\n",
        "  testWithDomain(model_f, model_c, domain_pred, device, mnist_ext_test_loader)"
      ],
      "execution_count": 123,
      "outputs": [
        {
          "output_type": "stream",
          "text": [
            "Train Epoch: 1 [0/120000 (0%)]\tLoss: 0.849574\n",
            "Train Epoch: 1 [6400/120000 (5%)]\tLoss: 0.401518\n",
            "Train Epoch: 1 [12800/120000 (11%)]\tLoss: 0.264456\n",
            "Train Epoch: 1 [19200/120000 (16%)]\tLoss: 0.326798\n",
            "Train Epoch: 1 [25600/120000 (21%)]\tLoss: 0.310575\n",
            "Train Epoch: 1 [32000/120000 (27%)]\tLoss: 0.291059\n",
            "Train Epoch: 1 [38400/120000 (32%)]\tLoss: 0.184107\n",
            "Train Epoch: 1 [44800/120000 (37%)]\tLoss: 0.368143\n",
            "Train Epoch: 1 [51200/120000 (43%)]\tLoss: 0.279994\n",
            "Train Epoch: 1 [57600/120000 (48%)]\tLoss: 0.464063\n",
            "Train Epoch: 1 [64000/120000 (53%)]\tLoss: 0.135489\n",
            "Train Epoch: 1 [70400/120000 (59%)]\tLoss: 0.211884\n",
            "Train Epoch: 1 [76800/120000 (64%)]\tLoss: 0.141459\n",
            "Train Epoch: 1 [83200/120000 (69%)]\tLoss: 0.252600\n",
            "Train Epoch: 1 [89600/120000 (75%)]\tLoss: 0.189620\n",
            "Train Epoch: 1 [96000/120000 (80%)]\tLoss: 0.209754\n",
            "Train Epoch: 1 [102400/120000 (85%)]\tLoss: 0.200708\n",
            "Train Epoch: 1 [108800/120000 (91%)]\tLoss: 0.158257\n",
            "Train Epoch: 1 [115200/120000 (96%)]\tLoss: 0.215222\n",
            "\n",
            "Test set: Average loss: 0.4631, Accuracy: 17134/20000 (86%)\n",
            "\n",
            "Domains: Test set:  Accuracy: 18355/20000 (92%)\n",
            "\n",
            "Train Epoch: 2 [0/120000 (0%)]\tLoss: 0.205431\n",
            "Train Epoch: 2 [6400/120000 (5%)]\tLoss: 0.348198\n",
            "Train Epoch: 2 [12800/120000 (11%)]\tLoss: 0.192003\n",
            "Train Epoch: 2 [19200/120000 (16%)]\tLoss: 0.132670\n",
            "Train Epoch: 2 [25600/120000 (21%)]\tLoss: 0.242761\n",
            "Train Epoch: 2 [32000/120000 (27%)]\tLoss: 0.258296\n",
            "Train Epoch: 2 [38400/120000 (32%)]\tLoss: 0.243921\n",
            "Train Epoch: 2 [44800/120000 (37%)]\tLoss: 0.137188\n",
            "Train Epoch: 2 [51200/120000 (43%)]\tLoss: 0.198008\n",
            "Train Epoch: 2 [57600/120000 (48%)]\tLoss: 0.212840\n",
            "Train Epoch: 2 [64000/120000 (53%)]\tLoss: 0.224651\n",
            "Train Epoch: 2 [70400/120000 (59%)]\tLoss: 0.216570\n",
            "Train Epoch: 2 [76800/120000 (64%)]\tLoss: 0.139191\n",
            "Train Epoch: 2 [83200/120000 (69%)]\tLoss: 0.273104\n",
            "Train Epoch: 2 [89600/120000 (75%)]\tLoss: 0.205062\n",
            "Train Epoch: 2 [96000/120000 (80%)]\tLoss: 0.188947\n",
            "Train Epoch: 2 [102400/120000 (85%)]\tLoss: 0.196472\n",
            "Train Epoch: 2 [108800/120000 (91%)]\tLoss: 0.164313\n",
            "Train Epoch: 2 [115200/120000 (96%)]\tLoss: 0.162793\n",
            "\n",
            "Test set: Average loss: 0.4631, Accuracy: 17134/20000 (86%)\n",
            "\n",
            "Domains: Test set:  Accuracy: 18494/20000 (92%)\n",
            "\n",
            "Train Epoch: 3 [0/120000 (0%)]\tLoss: 0.172671\n",
            "Train Epoch: 3 [6400/120000 (5%)]\tLoss: 0.246552\n",
            "Train Epoch: 3 [12800/120000 (11%)]\tLoss: 0.091797\n",
            "Train Epoch: 3 [19200/120000 (16%)]\tLoss: 0.192202\n",
            "Train Epoch: 3 [25600/120000 (21%)]\tLoss: 0.502502\n",
            "Train Epoch: 3 [32000/120000 (27%)]\tLoss: 0.282654\n",
            "Train Epoch: 3 [38400/120000 (32%)]\tLoss: 0.109101\n",
            "Train Epoch: 3 [44800/120000 (37%)]\tLoss: 0.280446\n",
            "Train Epoch: 3 [51200/120000 (43%)]\tLoss: 0.096984\n",
            "Train Epoch: 3 [57600/120000 (48%)]\tLoss: 0.297187\n",
            "Train Epoch: 3 [64000/120000 (53%)]\tLoss: 0.126060\n",
            "Train Epoch: 3 [70400/120000 (59%)]\tLoss: 0.123070\n",
            "Train Epoch: 3 [76800/120000 (64%)]\tLoss: 0.142344\n",
            "Train Epoch: 3 [83200/120000 (69%)]\tLoss: 0.103701\n",
            "Train Epoch: 3 [89600/120000 (75%)]\tLoss: 0.211245\n",
            "Train Epoch: 3 [96000/120000 (80%)]\tLoss: 0.201059\n",
            "Train Epoch: 3 [102400/120000 (85%)]\tLoss: 0.464942\n",
            "Train Epoch: 3 [108800/120000 (91%)]\tLoss: 0.159109\n",
            "Train Epoch: 3 [115200/120000 (96%)]\tLoss: 0.168860\n",
            "\n",
            "Test set: Average loss: 0.4631, Accuracy: 17134/20000 (86%)\n",
            "\n",
            "Domains: Test set:  Accuracy: 18623/20000 (93%)\n",
            "\n",
            "Train Epoch: 4 [0/120000 (0%)]\tLoss: 0.178761\n",
            "Train Epoch: 4 [6400/120000 (5%)]\tLoss: 0.203008\n",
            "Train Epoch: 4 [12800/120000 (11%)]\tLoss: 0.040971\n",
            "Train Epoch: 4 [19200/120000 (16%)]\tLoss: 0.125087\n",
            "Train Epoch: 4 [25600/120000 (21%)]\tLoss: 0.098785\n",
            "Train Epoch: 4 [32000/120000 (27%)]\tLoss: 0.206705\n",
            "Train Epoch: 4 [38400/120000 (32%)]\tLoss: 0.328075\n",
            "Train Epoch: 4 [44800/120000 (37%)]\tLoss: 0.152423\n",
            "Train Epoch: 4 [51200/120000 (43%)]\tLoss: 0.170909\n",
            "Train Epoch: 4 [57600/120000 (48%)]\tLoss: 0.161928\n",
            "Train Epoch: 4 [64000/120000 (53%)]\tLoss: 0.214106\n",
            "Train Epoch: 4 [70400/120000 (59%)]\tLoss: 0.041774\n",
            "Train Epoch: 4 [76800/120000 (64%)]\tLoss: 0.202992\n",
            "Train Epoch: 4 [83200/120000 (69%)]\tLoss: 0.123402\n",
            "Train Epoch: 4 [89600/120000 (75%)]\tLoss: 0.167393\n",
            "Train Epoch: 4 [96000/120000 (80%)]\tLoss: 0.179910\n",
            "Train Epoch: 4 [102400/120000 (85%)]\tLoss: 0.058453\n",
            "Train Epoch: 4 [108800/120000 (91%)]\tLoss: 0.149811\n",
            "Train Epoch: 4 [115200/120000 (96%)]\tLoss: 0.201688\n",
            "\n",
            "Test set: Average loss: 0.4631, Accuracy: 17134/20000 (86%)\n",
            "\n",
            "Domains: Test set:  Accuracy: 18717/20000 (94%)\n",
            "\n",
            "Train Epoch: 5 [0/120000 (0%)]\tLoss: 0.157085\n",
            "Train Epoch: 5 [6400/120000 (5%)]\tLoss: 0.252441\n",
            "Train Epoch: 5 [12800/120000 (11%)]\tLoss: 0.243803\n",
            "Train Epoch: 5 [19200/120000 (16%)]\tLoss: 0.174632\n",
            "Train Epoch: 5 [25600/120000 (21%)]\tLoss: 0.144655\n",
            "Train Epoch: 5 [32000/120000 (27%)]\tLoss: 0.164907\n",
            "Train Epoch: 5 [38400/120000 (32%)]\tLoss: 0.100400\n",
            "Train Epoch: 5 [44800/120000 (37%)]\tLoss: 0.192140\n",
            "Train Epoch: 5 [51200/120000 (43%)]\tLoss: 0.170027\n",
            "Train Epoch: 5 [57600/120000 (48%)]\tLoss: 0.182616\n",
            "Train Epoch: 5 [64000/120000 (53%)]\tLoss: 0.133941\n",
            "Train Epoch: 5 [70400/120000 (59%)]\tLoss: 0.149657\n",
            "Train Epoch: 5 [76800/120000 (64%)]\tLoss: 0.227012\n",
            "Train Epoch: 5 [83200/120000 (69%)]\tLoss: 0.127552\n",
            "Train Epoch: 5 [89600/120000 (75%)]\tLoss: 0.026221\n",
            "Train Epoch: 5 [96000/120000 (80%)]\tLoss: 0.252182\n",
            "Train Epoch: 5 [102400/120000 (85%)]\tLoss: 0.171274\n",
            "Train Epoch: 5 [108800/120000 (91%)]\tLoss: 0.373086\n",
            "Train Epoch: 5 [115200/120000 (96%)]\tLoss: 0.178597\n",
            "\n",
            "Test set: Average loss: 0.4631, Accuracy: 17134/20000 (86%)\n",
            "\n",
            "Domains: Test set:  Accuracy: 18746/20000 (94%)\n",
            "\n",
            "Train Epoch: 6 [0/120000 (0%)]\tLoss: 0.193449\n",
            "Train Epoch: 6 [6400/120000 (5%)]\tLoss: 0.131281\n",
            "Train Epoch: 6 [12800/120000 (11%)]\tLoss: 0.078036\n",
            "Train Epoch: 6 [19200/120000 (16%)]\tLoss: 0.165206\n",
            "Train Epoch: 6 [25600/120000 (21%)]\tLoss: 0.142231\n",
            "Train Epoch: 6 [32000/120000 (27%)]\tLoss: 0.153410\n",
            "Train Epoch: 6 [38400/120000 (32%)]\tLoss: 0.159988\n",
            "Train Epoch: 6 [44800/120000 (37%)]\tLoss: 0.198771\n",
            "Train Epoch: 6 [51200/120000 (43%)]\tLoss: 0.186964\n",
            "Train Epoch: 6 [57600/120000 (48%)]\tLoss: 0.085626\n",
            "Train Epoch: 6 [64000/120000 (53%)]\tLoss: 0.082275\n",
            "Train Epoch: 6 [70400/120000 (59%)]\tLoss: 0.130826\n",
            "Train Epoch: 6 [76800/120000 (64%)]\tLoss: 0.313521\n",
            "Train Epoch: 6 [83200/120000 (69%)]\tLoss: 0.150612\n",
            "Train Epoch: 6 [89600/120000 (75%)]\tLoss: 0.167120\n",
            "Train Epoch: 6 [96000/120000 (80%)]\tLoss: 0.257485\n",
            "Train Epoch: 6 [102400/120000 (85%)]\tLoss: 0.212163\n",
            "Train Epoch: 6 [108800/120000 (91%)]\tLoss: 0.228467\n",
            "Train Epoch: 6 [115200/120000 (96%)]\tLoss: 0.260574\n",
            "\n",
            "Test set: Average loss: 0.4631, Accuracy: 17134/20000 (86%)\n",
            "\n",
            "Domains: Test set:  Accuracy: 18810/20000 (94%)\n",
            "\n",
            "Train Epoch: 7 [0/120000 (0%)]\tLoss: 0.114310\n",
            "Train Epoch: 7 [6400/120000 (5%)]\tLoss: 0.165894\n",
            "Train Epoch: 7 [12800/120000 (11%)]\tLoss: 0.231155\n",
            "Train Epoch: 7 [19200/120000 (16%)]\tLoss: 0.123675\n",
            "Train Epoch: 7 [25600/120000 (21%)]\tLoss: 0.082859\n",
            "Train Epoch: 7 [32000/120000 (27%)]\tLoss: 0.111812\n",
            "Train Epoch: 7 [38400/120000 (32%)]\tLoss: 0.095120\n",
            "Train Epoch: 7 [44800/120000 (37%)]\tLoss: 0.078110\n",
            "Train Epoch: 7 [51200/120000 (43%)]\tLoss: 0.192038\n",
            "Train Epoch: 7 [57600/120000 (48%)]\tLoss: 0.098400\n",
            "Train Epoch: 7 [64000/120000 (53%)]\tLoss: 0.196413\n",
            "Train Epoch: 7 [70400/120000 (59%)]\tLoss: 0.078271\n",
            "Train Epoch: 7 [76800/120000 (64%)]\tLoss: 0.108508\n",
            "Train Epoch: 7 [83200/120000 (69%)]\tLoss: 0.257592\n",
            "Train Epoch: 7 [89600/120000 (75%)]\tLoss: 0.151108\n",
            "Train Epoch: 7 [96000/120000 (80%)]\tLoss: 0.155544\n",
            "Train Epoch: 7 [102400/120000 (85%)]\tLoss: 0.201560\n",
            "Train Epoch: 7 [108800/120000 (91%)]\tLoss: 0.111945\n",
            "Train Epoch: 7 [115200/120000 (96%)]\tLoss: 0.101757\n",
            "\n",
            "Test set: Average loss: 0.4631, Accuracy: 17134/20000 (86%)\n",
            "\n",
            "Domains: Test set:  Accuracy: 18847/20000 (94%)\n",
            "\n",
            "Train Epoch: 8 [0/120000 (0%)]\tLoss: 0.054673\n",
            "Train Epoch: 8 [6400/120000 (5%)]\tLoss: 0.081827\n",
            "Train Epoch: 8 [12800/120000 (11%)]\tLoss: 0.087334\n",
            "Train Epoch: 8 [19200/120000 (16%)]\tLoss: 0.162621\n",
            "Train Epoch: 8 [25600/120000 (21%)]\tLoss: 0.103214\n",
            "Train Epoch: 8 [32000/120000 (27%)]\tLoss: 0.275408\n",
            "Train Epoch: 8 [38400/120000 (32%)]\tLoss: 0.178438\n",
            "Train Epoch: 8 [44800/120000 (37%)]\tLoss: 0.062859\n",
            "Train Epoch: 8 [51200/120000 (43%)]\tLoss: 0.187125\n",
            "Train Epoch: 8 [57600/120000 (48%)]\tLoss: 0.166374\n",
            "Train Epoch: 8 [64000/120000 (53%)]\tLoss: 0.190041\n",
            "Train Epoch: 8 [70400/120000 (59%)]\tLoss: 0.166970\n",
            "Train Epoch: 8 [76800/120000 (64%)]\tLoss: 0.078609\n",
            "Train Epoch: 8 [83200/120000 (69%)]\tLoss: 0.083744\n",
            "Train Epoch: 8 [89600/120000 (75%)]\tLoss: 0.065756\n",
            "Train Epoch: 8 [96000/120000 (80%)]\tLoss: 0.059205\n",
            "Train Epoch: 8 [102400/120000 (85%)]\tLoss: 0.100835\n",
            "Train Epoch: 8 [108800/120000 (91%)]\tLoss: 0.155507\n",
            "Train Epoch: 8 [115200/120000 (96%)]\tLoss: 0.096529\n",
            "\n",
            "Test set: Average loss: 0.4631, Accuracy: 17134/20000 (86%)\n",
            "\n",
            "Domains: Test set:  Accuracy: 18844/20000 (94%)\n",
            "\n",
            "Train Epoch: 9 [0/120000 (0%)]\tLoss: 0.173537\n",
            "Train Epoch: 9 [6400/120000 (5%)]\tLoss: 0.115717\n",
            "Train Epoch: 9 [12800/120000 (11%)]\tLoss: 0.092248\n",
            "Train Epoch: 9 [19200/120000 (16%)]\tLoss: 0.060455\n",
            "Train Epoch: 9 [25600/120000 (21%)]\tLoss: 0.163899\n",
            "Train Epoch: 9 [32000/120000 (27%)]\tLoss: 0.073081\n",
            "Train Epoch: 9 [38400/120000 (32%)]\tLoss: 0.276816\n",
            "Train Epoch: 9 [44800/120000 (37%)]\tLoss: 0.195683\n",
            "Train Epoch: 9 [51200/120000 (43%)]\tLoss: 0.156072\n",
            "Train Epoch: 9 [57600/120000 (48%)]\tLoss: 0.091874\n",
            "Train Epoch: 9 [64000/120000 (53%)]\tLoss: 0.207149\n",
            "Train Epoch: 9 [70400/120000 (59%)]\tLoss: 0.141364\n",
            "Train Epoch: 9 [76800/120000 (64%)]\tLoss: 0.200518\n",
            "Train Epoch: 9 [83200/120000 (69%)]\tLoss: 0.155409\n",
            "Train Epoch: 9 [89600/120000 (75%)]\tLoss: 0.123465\n",
            "Train Epoch: 9 [96000/120000 (80%)]\tLoss: 0.075504\n",
            "Train Epoch: 9 [102400/120000 (85%)]\tLoss: 0.202871\n",
            "Train Epoch: 9 [108800/120000 (91%)]\tLoss: 0.075760\n",
            "Train Epoch: 9 [115200/120000 (96%)]\tLoss: 0.139680\n",
            "\n",
            "Test set: Average loss: 0.4631, Accuracy: 17134/20000 (86%)\n",
            "\n",
            "Domains: Test set:  Accuracy: 18879/20000 (94%)\n",
            "\n",
            "Train Epoch: 10 [0/120000 (0%)]\tLoss: 0.135565\n",
            "Train Epoch: 10 [6400/120000 (5%)]\tLoss: 0.102256\n",
            "Train Epoch: 10 [12800/120000 (11%)]\tLoss: 0.069084\n",
            "Train Epoch: 10 [19200/120000 (16%)]\tLoss: 0.129786\n",
            "Train Epoch: 10 [25600/120000 (21%)]\tLoss: 0.181756\n",
            "Train Epoch: 10 [32000/120000 (27%)]\tLoss: 0.225385\n",
            "Train Epoch: 10 [38400/120000 (32%)]\tLoss: 0.206082\n",
            "Train Epoch: 10 [44800/120000 (37%)]\tLoss: 0.121974\n",
            "Train Epoch: 10 [51200/120000 (43%)]\tLoss: 0.068860\n",
            "Train Epoch: 10 [57600/120000 (48%)]\tLoss: 0.205832\n",
            "Train Epoch: 10 [64000/120000 (53%)]\tLoss: 0.112613\n",
            "Train Epoch: 10 [70400/120000 (59%)]\tLoss: 0.114325\n",
            "Train Epoch: 10 [76800/120000 (64%)]\tLoss: 0.187924\n",
            "Train Epoch: 10 [83200/120000 (69%)]\tLoss: 0.100044\n",
            "Train Epoch: 10 [89600/120000 (75%)]\tLoss: 0.068202\n",
            "Train Epoch: 10 [96000/120000 (80%)]\tLoss: 0.097586\n",
            "Train Epoch: 10 [102400/120000 (85%)]\tLoss: 0.068210\n",
            "Train Epoch: 10 [108800/120000 (91%)]\tLoss: 0.121458\n",
            "Train Epoch: 10 [115200/120000 (96%)]\tLoss: 0.187967\n",
            "\n",
            "Test set: Average loss: 0.4631, Accuracy: 17134/20000 (86%)\n",
            "\n",
            "Domains: Test set:  Accuracy: 18920/20000 (95%)\n",
            "\n"
          ],
          "name": "stdout"
        }
      ]
    },
    {
      "metadata": {
        "id": "NCwa9ZXMtqSP",
        "colab_type": "code",
        "colab": {
          "base_uri": "https://localhost:8080/",
          "height": 187
        },
        "outputId": "c091d428-6546-4822-e6c8-82bff490e02e"
      },
      "cell_type": "code",
      "source": [
        "testWithDomain(model_f, model_c, domain_pred, device, mnist_ext_test_loader)\n",
        "testWithDomain(model_f, model_c, model_d, device, mnist_ext_test_loader)"
      ],
      "execution_count": 124,
      "outputs": [
        {
          "output_type": "stream",
          "text": [
            "\n",
            "Test set: Average loss: 0.4631, Accuracy: 17134/20000 (86%)\n",
            "\n",
            "Domains: Test set:  Accuracy: 18891/20000 (94%)\n",
            "\n",
            "\n",
            "Test set: Average loss: 0.4631, Accuracy: 17134/20000 (86%)\n",
            "\n",
            "Domains: Test set:  Accuracy: 12741/20000 (64%)\n",
            "\n"
          ],
          "name": "stdout"
        }
      ]
    },
    {
      "metadata": {
        "id": "678vUfiy6I1M",
        "colab_type": "code",
        "colab": {}
      },
      "cell_type": "code",
      "source": [
        ""
      ],
      "execution_count": 0,
      "outputs": []
    }
  ]
}
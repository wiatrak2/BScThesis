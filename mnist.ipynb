{
  "nbformat": 4,
  "nbformat_minor": 0,
  "metadata": {
    "colab": {
      "name": "mnist.ipynb",
      "version": "0.3.2",
      "provenance": [],
      "collapsed_sections": [],
      "toc_visible": true,
      "include_colab_link": true
    },
    "kernelspec": {
      "name": "python3",
      "display_name": "Python 3"
    },
    "accelerator": "GPU"
  },
  "cells": [
    {
      "cell_type": "markdown",
      "metadata": {
        "id": "view-in-github",
        "colab_type": "text"
      },
      "source": [
        "[View in Colaboratory](https://colab.research.google.com/github/wiatrak2/BScThesis/blob/master/mnist.ipynb)"
      ]
    },
    {
      "metadata": {
        "id": "6HZnglZEZtG4",
        "colab_type": "code",
        "colab": {
          "base_uri": "https://localhost:8080/",
          "height": 133
        },
        "outputId": "5db96ccf-8ce6-41c5-bf5a-ec7bf27ef291"
      },
      "cell_type": "code",
      "source": [
        "!pip3 install torch torchvision"
      ],
      "execution_count": 1,
      "outputs": [
        {
          "output_type": "stream",
          "text": [
            "Requirement already satisfied: torch in /usr/local/lib/python3.6/dist-packages (0.4.1)\n",
            "Requirement already satisfied: torchvision in /usr/local/lib/python3.6/dist-packages (0.2.1)\n",
            "Requirement already satisfied: six in /usr/local/lib/python3.6/dist-packages (from torchvision) (1.11.0)\n",
            "Requirement already satisfied: numpy in /usr/local/lib/python3.6/dist-packages (from torchvision) (1.14.6)\n",
            "Requirement already satisfied: pillow>=4.1.1 in /usr/local/lib/python3.6/dist-packages (from torchvision) (5.3.0)\n"
          ],
          "name": "stdout"
        }
      ]
    },
    {
      "metadata": {
        "id": "rXP4GwZHZYLk",
        "colab_type": "code",
        "colab": {}
      },
      "cell_type": "code",
      "source": [
        "import numpy as np\n",
        "import torch\n",
        "import torch.nn as nn\n",
        "import torch.nn.functional as F\n",
        "import torch.optim as optim"
      ],
      "execution_count": 0,
      "outputs": []
    },
    {
      "metadata": {
        "id": "UNfT9MQmZcBu",
        "colab_type": "code",
        "colab": {}
      },
      "cell_type": "code",
      "source": [
        "import torchvision\n",
        "import torchvision.transforms as transforms"
      ],
      "execution_count": 0,
      "outputs": []
    },
    {
      "metadata": {
        "id": "bO_GcetxEshC",
        "colab_type": "code",
        "colab": {}
      },
      "cell_type": "code",
      "source": [
        "batch_size=64\n",
        "num_workers=1"
      ],
      "execution_count": 0,
      "outputs": []
    },
    {
      "metadata": {
        "id": "EJEy7VzQjnRo",
        "colab_type": "code",
        "colab": {}
      },
      "cell_type": "code",
      "source": [
        "def convertMnist(img):\n",
        "  img = img.squeeze().numpy()\n",
        "  img = np.array([img, img, img])\n",
        "  return torch.from_numpy(img)"
      ],
      "execution_count": 0,
      "outputs": []
    },
    {
      "metadata": {
        "id": "wV2owoYODr6X",
        "colab_type": "code",
        "colab": {}
      },
      "cell_type": "code",
      "source": [
        "transform=transforms.Compose([\n",
        "                           transforms.ToTensor(),\n",
        "                           transforms.Normalize((0.1307,), (0.3081,)),\n",
        "                           transforms.Lambda(convertMnist)\n",
        "                       ])\n",
        "\n",
        "train_set = torchvision.datasets.MNIST(root='./data', train=True, download=True,\n",
        "                                     transform=transform)\n",
        "train_loader = torch.utils.data.DataLoader(train_set, batch_size=batch_size,\n",
        "                                         shuffle=True, num_workers=num_workers)\n",
        "\n",
        "test_set = torchvision.datasets.MNIST(root='./data', train=False, download=True,\n",
        "                                     transform=transform)\n",
        "test_loader = torch.utils.data.DataLoader(test_set, batch_size=batch_size,\n",
        "                                         shuffle=False, num_workers=num_workers)\n"
      ],
      "execution_count": 0,
      "outputs": []
    },
    {
      "metadata": {
        "id": "Pzv8RO1sg9pB",
        "colab_type": "code",
        "colab": {}
      },
      "cell_type": "code",
      "source": [
        "def printMnist3D(image):\n",
        "  image = image.numpy()\n",
        "  image = image * 0.3081 + 0.1307\n",
        "  plt.imshow(image.transpose(1,2,0), cmap='gray')"
      ],
      "execution_count": 0,
      "outputs": []
    },
    {
      "metadata": {
        "id": "Gv4Fi3GAGh3j",
        "colab_type": "code",
        "colab": {
          "base_uri": "https://localhost:8080/",
          "height": 364
        },
        "outputId": "31be36e5-e730-4c96-85ac-3b790c72fcfe"
      },
      "cell_type": "code",
      "source": [
        "import matplotlib.pyplot as plt\n",
        "\n",
        "trainiter = iter(train_loader)\n",
        "images, labels = trainiter.next()\n",
        "\n",
        "sample = images[0]\n",
        "printMnist3D(sample)\n",
        "print(labels[0].item())"
      ],
      "execution_count": 8,
      "outputs": [
        {
          "output_type": "stream",
          "text": [
            "0\n"
          ],
          "name": "stdout"
        },
        {
          "output_type": "display_data",
          "data": {
            "image/png": "[encoded data removed]",
            "text/plain": [
              "<matplotlib.figure.Figure at 0x7f8fc5c45cc0>"
            ]
          },
          "metadata": {
            "tags": []
          }
        }
      ]
    },
    {
      "metadata": {
        "id": "pdFSLoXpFpUV",
        "colab_type": "code",
        "colab": {}
      },
      "cell_type": "code",
      "source": [
        "class MnistNET(nn.Module):\n",
        "  def __init__(self):\n",
        "    super(MnistNET, self).__init__()\n",
        "    self.conv1 = nn.Conv2d(3, 10, kernel_size=5)\n",
        "    self.conv2 = nn.Conv2d(10, 20, kernel_size=5)\n",
        "    self.conv2_drop = nn.Dropout2d()\n",
        "    self.fc1 = nn.Linear(320, 50)\n",
        "    self.fc2 = nn.Linear(50, 10)\n",
        "  def forward(self, x):\n",
        "    x = F.leaky_relu(F.max_pool2d(self.conv1(x), 2))\n",
        "    x = F.leaky_relu(F.max_pool2d(self.conv2_drop(self.conv2(x)), 2))\n",
        "    x = x.view(-1, 320)\n",
        "    x = F.leaky_relu(self.fc1(x))\n",
        "    x = F.dropout(x, training=self.training)\n",
        "    x = self.fc2(x)\n",
        "    return F.log_softmax(x, dim=1)    \n",
        "  "
      ],
      "execution_count": 0,
      "outputs": []
    },
    {
      "metadata": {
        "id": "nrfYSBracTNj",
        "colab_type": "code",
        "colab": {}
      },
      "cell_type": "code",
      "source": [
        "criterion = F.nll_loss"
      ],
      "execution_count": 0,
      "outputs": []
    },
    {
      "metadata": {
        "id": "1FTNw092conE",
        "colab_type": "code",
        "colab": {}
      },
      "cell_type": "code",
      "source": [
        "log_interval = 100\n",
        "epochs = 10\n",
        "use_cuda = True"
      ],
      "execution_count": 0,
      "outputs": []
    },
    {
      "metadata": {
        "id": "lgY552Rjboh7",
        "colab_type": "code",
        "colab": {}
      },
      "cell_type": "code",
      "source": [
        "def train(model, device, train_loader, optimizer, epoch):\n",
        "  model.train()\n",
        "  for batch_idx, (data, target) in enumerate(train_loader):\n",
        "    data, target = data.to(device), target.to(device)\n",
        "    optimizer.zero_grad()\n",
        "    output = model(data)\n",
        "    loss = criterion(output, target)\n",
        "    loss.backward()\n",
        "    optimizer.step()\n",
        "    if batch_idx % log_interval == 0:\n",
        "        print('Train Epoch: {} [{}/{} ({:.0f}%)]\\tLoss: {:.6f}'.format(\n",
        "            epoch, batch_idx * len(data), len(train_loader.dataset),\n",
        "            100. * batch_idx / len(train_loader), loss.item()))"
      ],
      "execution_count": 0,
      "outputs": []
    },
    {
      "metadata": {
        "id": "fLWongQbczXS",
        "colab_type": "code",
        "colab": {}
      },
      "cell_type": "code",
      "source": [
        "def test(model, device, test_loader):\n",
        "  model.eval()\n",
        "  test_loss = 0\n",
        "  correct = 0\n",
        "  with torch.no_grad():\n",
        "    for data, target in test_loader:\n",
        "      data, target = data.to(device), target.to(device)\n",
        "      output = model(data)\n",
        "      test_loss += criterion(output, target, reduction='sum').item()\n",
        "      pred = output.max(1, keepdim=True)[1] \n",
        "      correct += pred.eq(target.view_as(pred)).sum().item()\n",
        "\n",
        "  test_loss /= len(test_loader.dataset)\n",
        "  print('\\nTest set: Average loss: {:.4f}, Accuracy: {}/{} ({:.0f}%)\\n'.format(\n",
        "      test_loss, correct, len(test_loader.dataset),\n",
        "      100. * correct / len(test_loader.dataset)))"
      ],
      "execution_count": 0,
      "outputs": []
    },
    {
      "metadata": {
        "id": "FzAkntIwdUCM",
        "colab_type": "code",
        "colab": {}
      },
      "cell_type": "code",
      "source": [
        "use_cuda = use_cuda and torch.cuda.is_available()\n",
        "device = torch.device(\"cuda\" if use_cuda else \"cpu\")"
      ],
      "execution_count": 0,
      "outputs": []
    },
    {
      "metadata": {
        "id": "8y1y2YJ0dt9i",
        "colab_type": "code",
        "colab": {}
      },
      "cell_type": "code",
      "source": [
        "lr = 0.01\n",
        "momentum=0.5"
      ],
      "execution_count": 0,
      "outputs": []
    },
    {
      "metadata": {
        "id": "dnJSFyF_dfL6",
        "colab_type": "code",
        "colab": {}
      },
      "cell_type": "code",
      "source": [
        "model = MnistNET().to(device)\n",
        "optimizer = optim.SGD(model.parameters(), lr=lr, momentum=momentum)"
      ],
      "execution_count": 0,
      "outputs": []
    },
    {
      "metadata": {
        "id": "3xyJMdhKd4d2",
        "colab_type": "code",
        "colab": {}
      },
      "cell_type": "code",
      "source": [
        "for epoch in range(1, epochs+1):\n",
        "  train(model, device, train_loader, optimizer, epoch)\n",
        "  test(model, device, test_loader)"
      ],
      "execution_count": 0,
      "outputs": []
    },
    {
      "metadata": {
        "id": "FZern7T4oSS5",
        "colab_type": "code",
        "colab": {}
      },
      "cell_type": "code",
      "source": [
        "def printIncorrect(model, set):\n",
        "  print_img = 6\n",
        "  fig = plt.figure()\n",
        "  for sample in set:\n",
        "    inp = sample[0].unsqueeze(0)\n",
        "    out = model(inp.to(device)).max(1)[1][0]\n",
        "    if out != sample[1].to(device):\n",
        "\n",
        "      plt.subplot(2,3,7 - print_img)\n",
        "      plt.tight_layout()\n",
        "      image = sample[0]\n",
        "      image = image.numpy()\n",
        "      image = image * 0.3081 + 0.1307\n",
        "      plt.imshow(image.transpose(1,2,0), cmap='gray')\n",
        "      plt.title(\"Ground Truth: {} Pred: {}\".format(sample[1], out))\n",
        "      plt.xticks([])\n",
        "      plt.yticks([])\n",
        "\n",
        "      print_img -= 1\n",
        "      if print_img == 0: break\n",
        "\n"
      ],
      "execution_count": 0,
      "outputs": []
    },
    {
      "metadata": {
        "id": "hiaxEEMwHNRU",
        "colab_type": "code",
        "colab": {
          "base_uri": "https://localhost:8080/",
          "height": 384
        },
        "outputId": "82cbca8e-8ca1-43ca-9f13-415d75abccd3"
      },
      "cell_type": "code",
      "source": [
        "printIncorrect(model, test_set)"
      ],
      "execution_count": 19,
      "outputs": [
        {
          "output_type": "display_data",
          "data": {
            "image/png": "[encoded data removed]",
            "text/plain": [
              "<matplotlib.figure.Figure at 0x7f8fc28ee160>"
            ]
          },
          "metadata": {
            "tags": []
          }
        }
      ]
    },
    {
      "metadata": {
        "id": "xovDxj4lGDpa",
        "colab_type": "code",
        "colab": {
          "base_uri": "https://localhost:8080/",
          "height": 34
        },
        "outputId": "5b19dc67-20e0-4eaf-e007-41c914f2ce34"
      },
      "cell_type": "code",
      "source": [
        "from google.colab import drive\n",
        "drive.mount('/content/drive')"
      ],
      "execution_count": 20,
      "outputs": [
        {
          "output_type": "stream",
          "text": [
            "Mounted at /content/drive\n"
          ],
          "name": "stdout"
        }
      ]
    },
    {
      "metadata": {
        "id": "2T58UelKGYq6",
        "colab_type": "code",
        "colab": {}
      },
      "cell_type": "code",
      "source": [
        "!ls \"drive/My Drive\""
      ],
      "execution_count": 0,
      "outputs": []
    },
    {
      "metadata": {
        "id": "CtIbOwfLHECn",
        "colab_type": "code",
        "colab": {}
      },
      "cell_type": "code",
      "source": [
        "import pickle"
      ],
      "execution_count": 0,
      "outputs": []
    },
    {
      "metadata": {
        "id": "Q5QSJjOxUo55",
        "colab_type": "code",
        "colab": {}
      },
      "cell_type": "code",
      "source": [
        "class Mnist_M(torch.utils.data.Dataset):\n",
        "  \n",
        "  def __init__(self, train=True, transform=None):\n",
        "    \n",
        "    self.train = train\n",
        "    self.transform = transform\n",
        "    \n",
        "    with open('drive/My Drive/keras_mnistm.pkl', 'rb') as mnist_m:\n",
        "      mnist_m_data = pickle.load(mnist_m, encoding='bytes')\n",
        "    mnist_m_train_data = torch.ByteTensor(mnist_m_data[b'train'])\n",
        "    mnist_m_test_data = torch.ByteTensor(mnist_m_data[b'test'])\n",
        "    if train:\n",
        "      mnist_m_train_labels = torchvision.datasets.MNIST(\n",
        "          root='./data', train=True, download=True).train_labels\n",
        "      self.mnist_m_set = list(zip(mnist_m_train_data, mnist_m_train_labels))\n",
        "    else:\n",
        "      mnist_m_test_labels = torchvision.datasets.MNIST(\n",
        "          root='./data', train=False, download=True).test_labels\n",
        "      self.mnist_m_set = list(zip(mnist_m_test_data, mnist_m_test_labels))\n",
        "    self.len = len(self.mnist_m_set)\n",
        "  \n",
        "  def __len__(self):\n",
        "    return self.len\n",
        "  \n",
        "  def __getitem__(self, index):\n",
        "    label = self.mnist_m_set[index][1]\n",
        "    sample = self.mnist_m_set[index][0].permute(2,0,1).float()\n",
        "    sample = sample / 255\n",
        "    \n",
        "    if self.transform: \n",
        "      #sample = self.transform(sample)\n",
        "      sample = (sample - 0.1307) / 0.3081\n",
        "      \n",
        "    return (sample, label)"
      ],
      "execution_count": 0,
      "outputs": []
    },
    {
      "metadata": {
        "id": "_OTdSAPfbGx-",
        "colab_type": "code",
        "colab": {}
      },
      "cell_type": "code",
      "source": [
        "mnist_m_transform = transforms.Compose([\n",
        "                           transforms.Normalize((0.1307,), (0.3081,)),\n",
        "                       ])\n",
        "mnist_m_train = Mnist_M(transform=mnist_m_transform)\n",
        "mnist_m_test = Mnist_M(train=False,\n",
        "                     transform=mnist_m_transform)\n",
        "mnist_m_train_loader = torch.utils.data.DataLoader(mnist_m_train, \n",
        "                                                   batch_size=batch_size,\n",
        "                                         shuffle=True, num_workers=num_workers)\n",
        "mnist_m_test_loader = torch.utils.data.DataLoader(mnist_m_test,\n",
        "                                                  batch_size=batch_size,\n",
        "                                         shuffle=False, num_workers=num_workers)\n"
      ],
      "execution_count": 0,
      "outputs": []
    },
    {
      "metadata": {
        "id": "Kbe2O3dmdfGS",
        "colab_type": "code",
        "colab": {
          "base_uri": "https://localhost:8080/",
          "height": 364
        },
        "outputId": "48f7822f-0213-4b44-ff17-97e7d84b182e"
      },
      "cell_type": "code",
      "source": [
        "trainiter = iter(mnist_m_train_loader)\n",
        "images, labels = trainiter.next()\n",
        "printMnist3D(images[0])\n",
        "print(labels[0])"
      ],
      "execution_count": 108,
      "outputs": [
        {
          "output_type": "stream",
          "text": [
            "tensor(0)\n"
          ],
          "name": "stdout"
        },
        {
          "output_type": "display_data",
          "data": {
            "image/png": "[encoded data removed]",
            "text/plain": [
              "<matplotlib.figure.Figure at 0x7f8f5cd91b00>"
            ]
          },
          "metadata": {
            "tags": []
          }
        }
      ]
    },
    {
      "metadata": {
        "id": "u6AGVJbXY3XK",
        "colab_type": "code",
        "colab": {
          "base_uri": "https://localhost:8080/",
          "height": 68
        },
        "outputId": "13fa8568-45f0-44ba-aa2f-f363b8e679d6"
      },
      "cell_type": "code",
      "source": [
        "test(model, device, mnist_m_test_loader)"
      ],
      "execution_count": 26,
      "outputs": [
        {
          "output_type": "stream",
          "text": [
            "\n",
            "Test set: Average loss: 1.6478, Accuracy: 4825/10000 (48%)\n",
            "\n"
          ],
          "name": "stdout"
        }
      ]
    },
    {
      "metadata": {
        "id": "ZEez9Cb7emPR",
        "colab_type": "code",
        "colab": {
          "base_uri": "https://localhost:8080/",
          "height": 384
        },
        "outputId": "b70a9c79-a0d5-40e5-ea0f-049ed760e206"
      },
      "cell_type": "code",
      "source": [
        "printIncorrect(model, mnist_m_test)"
      ],
      "execution_count": 27,
      "outputs": [
        {
          "output_type": "display_data",
          "data": {
            "image/png": "[encoded data removed]",
            "text/plain": [
              "<matplotlib.figure.Figure at 0x7f8f84be20b8>"
            ]
          },
          "metadata": {
            "tags": []
          }
        }
      ]
    },
    {
      "metadata": {
        "id": "in4wjnoU9lnb",
        "colab_type": "code",
        "colab": {}
      },
      "cell_type": "code",
      "source": [
        "class Mnist_Ext(torch.utils.data.Dataset):\n",
        "  def __init__(self, datasets):\n",
        "    self.datasets = datasets\n",
        "    self.lengths = [len(ds) for ds in datasets]\n",
        "    self.offsets = np.cumsum(self.lengths)\n",
        "    self.len = np.sum(self.lengths)\n",
        "    \n",
        "  def __len__(self):\n",
        "    return self.len\n",
        "  \n",
        "  def __getitem__(self, index):\n",
        "    for dset_num, dset_offset in enumerate(self.offsets):\n",
        "      if index < dset_offset:\n",
        "        index -= np.append([0], self.offsets)[dset_num]\n",
        "        sample, label = self.datasets[dset_num][index]\n",
        "        domain = torch.tensor(dset_num).float()\n",
        "        return (sample, (label, domain))\n",
        "  "
      ],
      "execution_count": 0,
      "outputs": []
    },
    {
      "metadata": {
        "id": "FHyl40CC_BF7",
        "colab_type": "code",
        "colab": {}
      },
      "cell_type": "code",
      "source": [
        "mnist_ext_train = Mnist_Ext([train_set, mnist_m_train])\n",
        "mnist_ext_test = Mnist_Ext([test_set, mnist_m_test])\n",
        "mnist_ext_train_loader = torch.utils.data.DataLoader(mnist_ext_train, \n",
        "                                                   batch_size=batch_size,\n",
        "                                         shuffle=True, num_workers=num_workers)\n",
        "mnist_ext_test_loader = torch.utils.data.DataLoader(mnist_ext_test, \n",
        "                                                   batch_size=batch_size,\n",
        "                                         shuffle=True, num_workers=num_workers)\n",
        "\n"
      ],
      "execution_count": 0,
      "outputs": []
    },
    {
      "metadata": {
        "id": "dUsdgDM_EtJ5",
        "colab_type": "code",
        "colab": {
          "base_uri": "https://localhost:8080/",
          "height": 364
        },
        "outputId": "5e9e5280-b5d6-4d8e-def2-88b428924abe"
      },
      "cell_type": "code",
      "source": [
        "trainiter = iter(mnist_ext_train_loader)\n",
        "images, labels = trainiter.next()\n",
        "labels = torch.tensor(list(zip(labels[0], labels[1])))\n",
        "printMnist3D(images[0])\n",
        "print(labels[0])"
      ],
      "execution_count": 104,
      "outputs": [
        {
          "output_type": "stream",
          "text": [
            "tensor([2., 1.])\n"
          ],
          "name": "stdout"
        },
        {
          "output_type": "display_data",
          "data": {
            "image/png": "[encoded data removed]",
            "text/plain": [
              "<matplotlib.figure.Figure at 0x7f8f84c3e828>"
            ]
          },
          "metadata": {
            "tags": []
          }
        }
      ]
    },
    {
      "metadata": {
        "id": "L8-yi_xpUm3t",
        "colab_type": "code",
        "colab": {
          "base_uri": "https://localhost:8080/",
          "height": 34
        },
        "outputId": "dff4ac3b-d904-4c11-859d-a3525dc30b12"
      },
      "cell_type": "code",
      "source": [
        "train_loader.dataset.__len__()"
      ],
      "execution_count": 31,
      "outputs": [
        {
          "output_type": "execute_result",
          "data": {
            "text/plain": [
              "60000"
            ]
          },
          "metadata": {
            "tags": []
          },
          "execution_count": 31
        }
      ]
    },
    {
      "metadata": {
        "id": "a2ehvBCle7iq",
        "colab_type": "code",
        "colab": {}
      },
      "cell_type": "code",
      "source": [
        "class GradReverse(torch.autograd.Function):\n",
        "    def __init__(self, lambd=1.):\n",
        "      self.lambd = lambd\n",
        "    \n",
        "    def forward(self, x):\n",
        "        return x.view_as(x)\n",
        "\n",
        "    def backward(self, grad_output):\n",
        "        return (grad_output * -self.lambd)\n",
        "\n",
        "def grad_reverse(x, lambd):\n",
        "    return GradReverse(lambd)(x)"
      ],
      "execution_count": 0,
      "outputs": []
    },
    {
      "metadata": {
        "id": "I3LNIeZbx-Gi",
        "colab_type": "code",
        "colab": {}
      },
      "cell_type": "code",
      "source": [
        "class MnistDomain(nn.Module):\n",
        "  def __init__(self):\n",
        "    super(MnistDomain, self).__init__()\n",
        "    self.fc1 = nn.Linear(320, 100)\n",
        "    self.fc2 = nn.Linear(100, 1)\n",
        "\n",
        "  def forward(self, x, lambd=1.):\n",
        "    x = grad_reverse(x, lambd)\n",
        "    x = F.leaky_relu(self.fc1(x))\n",
        "    x = F.dropout(x, training=self.training)\n",
        "    x = self.fc2(x)\n",
        "    return torch.sigmoid(x)\n",
        "    "
      ],
      "execution_count": 0,
      "outputs": []
    },
    {
      "metadata": {
        "id": "ltFDl3rN6-_u",
        "colab_type": "code",
        "colab": {}
      },
      "cell_type": "code",
      "source": [
        "class MnistFeatureExtractor(nn.Module):\n",
        "  def __init__(self):\n",
        "    super(MnistFeatureExtractor, self).__init__()\n",
        "    self.conv1 = nn.Conv2d(3, 10, kernel_size=5)\n",
        "    self.conv2 = nn.Conv2d(10, 20, kernel_size=5)\n",
        "    self.conv2_drop = nn.Dropout2d()\n",
        "  def forward(self, x):\n",
        "    x = F.leaky_relu(F.max_pool2d(self.conv1(x), 2))\n",
        "    x = F.leaky_relu(F.max_pool2d(self.conv2_drop(self.conv2(x)), 2))\n",
        "    return x.view(-1, 320) "
      ],
      "execution_count": 0,
      "outputs": []
    },
    {
      "metadata": {
        "id": "AGYgmKUvAwHz",
        "colab_type": "code",
        "colab": {}
      },
      "cell_type": "code",
      "source": [
        "class MnistClassPredictor(nn.Module):\n",
        "  def __init__(self):\n",
        "    super(MnistClassPredictor, self).__init__()\n",
        "    self.fc1 = nn.Linear(320, 50)\n",
        "    self.fc2 = nn.Linear(50, 10)\n",
        "  def forward(self, x):\n",
        "    x = F.leaky_relu(self.fc1(x))\n",
        "    x = F.dropout(x, training=self.training)\n",
        "    x = self.fc2(x)\n",
        "    return F.log_softmax(x, dim=1)    "
      ],
      "execution_count": 0,
      "outputs": []
    },
    {
      "metadata": {
        "id": "z11N2hmNOkEe",
        "colab_type": "code",
        "colab": {}
      },
      "cell_type": "code",
      "source": [
        "criterion = F.nll_loss\n",
        "criterion_domain = F.binary_cross_entropy"
      ],
      "execution_count": 0,
      "outputs": []
    },
    {
      "metadata": {
        "id": "iRz3kir3A_Aa",
        "colab_type": "code",
        "colab": {}
      },
      "cell_type": "code",
      "source": [
        "def trainWithDomain(model_f, model_c, model_d, device, train_loader_class, \n",
        "                    train_loader_domain, optim_f, optim_c, optim_d, \n",
        "                    epoch, epochs, use_lambd=True, train_domain=True):\n",
        "  model_f.train()\n",
        "  model_c.train()\n",
        "  model_d.train()\n",
        "  if train_domain:\n",
        "    domain_iter = iter(train_loader_domain)\n",
        "  lambd = -1.\n",
        "  batch_num = len(train_loader.dataset) / train_loader.batch_size\n",
        "  for batch_idx, (data, labels) in enumerate(train_loader):\n",
        "    \n",
        "    p = ((epoch-1) * batch_num + batch_idx) / (epochs * batch_num)\n",
        "    lr = 0.01 / (1. + 10. * p)**0.75\n",
        "    optim_f.lr = lr\n",
        "    optim_c.lr = lr\n",
        "    optim_d.lr = lr\n",
        "    \n",
        "    data = data.to(device)\n",
        "    labels = labels.to(device)\n",
        "    optim_f.zero_grad()\n",
        "    optim_c.zero_grad()\n",
        "    output = model_c(model_f(data))\n",
        "    loss = criterion(output, labels)\n",
        "    loss.backward()\n",
        "    \n",
        "    optim_f.step()\n",
        "    optim_c.step()\n",
        "    if train_domain:\n",
        "      data, (_, domains) = domain_iter.next()\n",
        "      data, domains = data.to(device), domains.unsqueeze(1).to(device)\n",
        "      optim_f.zero_grad()\n",
        "      optim_d.zero_grad()\n",
        "      \n",
        "      if use_lambd:\n",
        "        lambd = 2. / (1. + np.exp(-10. * p)) - 1.   \n",
        "      else:\n",
        "        lambd = 1.\n",
        "      output = model_d(model_f(data), lambd)\n",
        "      loss_domain = criterion_domain(output, domains)\n",
        "      loss_domain.backward()\n",
        "      optim_f.step()\n",
        "      optim_d.step()\n",
        "    \n",
        "    if batch_idx % log_interval == 0:\n",
        "        print('Train Epoch: \\\n",
        "              {} [{}/{} ({:.0f}%)]\\tLoss: {:.6f}, lr: {:.5f} lambd: {:.5f}'\n",
        "            .format(epoch, batch_idx * len(data), len(train_loader.dataset),\n",
        "            100. * batch_idx / len(train_loader), loss.item(), lr, lambd))"
      ],
      "execution_count": 0,
      "outputs": []
    },
    {
      "metadata": {
        "id": "q3m1CsTvC10c",
        "colab_type": "code",
        "colab": {}
      },
      "cell_type": "code",
      "source": [
        "def testWithDomain(model_f, model_c, model_d, device, test_loader):\n",
        "  model_f.eval()\n",
        "  model_c.eval()\n",
        "  test_loss = 0\n",
        "  correct = 0\n",
        "  domainsCorrect = 0\n",
        "  with torch.no_grad():\n",
        "    for data, target in test_loader:\n",
        "      data = data.to(device)\n",
        "      labels, domains = target\n",
        "      labels, domains = labels.to(device), domains.to(device)\n",
        "      output = model_c(model_f(data))\n",
        "      test_loss += criterion(output, labels, reduction='sum').item()\n",
        "      pred = output.max(1, keepdim=True)[1] \n",
        "      correct += pred.eq(labels.view_as(pred)).sum().item()\n",
        "      \n",
        "      domainsOut = model_d(model_f(data))\n",
        "      domainsPred = (domainsOut >= 0.5).float()\n",
        "      domainsCorrect += domainsPred.eq(domains.view_as(domainsPred)).sum().item()\n",
        "      \n",
        "  test_loss /= len(test_loader.dataset)\n",
        "  print('\\nTest set: Average loss: {:.4f}, Accuracy: {}/{} ({:.0f}%)'.format(\n",
        "      test_loss, correct, len(test_loader.dataset),\n",
        "      100. * correct / len(test_loader.dataset)))\n",
        "  print('\\nDomains: Test set:  Accuracy: {}/{} ({:.0f}%)\\n'.format(\n",
        "      domainsCorrect, len(test_loader.dataset),\n",
        "      100. * domainsCorrect / len(test_loader.dataset)))"
      ],
      "execution_count": 0,
      "outputs": []
    },
    {
      "metadata": {
        "id": "Gi495iqhDD0_",
        "colab_type": "code",
        "colab": {}
      },
      "cell_type": "code",
      "source": [
        "model_f = MnistFeatureExtractor().to(device)\n",
        "model_c = MnistClassPredictor().to(device)\n",
        "model_d = MnistDomain().to(device)\n",
        "optim_f = optim.SGD(model_f.parameters(), lr=lr, momentum=momentum)\n",
        "optim_c = optim.SGD(model_c.parameters(), lr=lr, momentum=momentum)\n",
        "optim_d = optim.SGD(model_d.parameters(), lr=lr, momentum=momentum)\n"
      ],
      "execution_count": 0,
      "outputs": []
    },
    {
      "metadata": {
        "id": "_omFSxWaOm8i",
        "colab_type": "code",
        "colab": {}
      },
      "cell_type": "code",
      "source": [
        "epochs=10"
      ],
      "execution_count": 0,
      "outputs": []
    },
    {
      "metadata": {
        "id": "fp4hXCAwDpPh",
        "colab_type": "code",
        "colab": {
          "base_uri": "https://localhost:8080/",
          "height": 3417
        },
        "outputId": "8a270ea3-6ed9-4d5d-d568-3fefad7e573d"
      },
      "cell_type": "code",
      "source": [
        "for epoch in range(1, epochs+1):\n",
        "  trainWithDomain(model_f, model_c, model_d, device,train_loader,\n",
        "                  mnist_ext_train_loader, optim_f, optim_c,\n",
        "                  optim_d, epoch, epochs, train_domain=True)\n",
        "  testWithDomain(model_f, model_c, model_d, device, mnist_ext_test_loader)"
      ],
      "execution_count": 114,
      "outputs": [
        {
          "output_type": "stream",
          "text": [
            "Train Epoch:               1 [0/60000 (0%)]\tLoss: 2.279404, lr: 0.01000 lambd: 0.00000\n",
            "Train Epoch:               1 [6400/60000 (11%)]\tLoss: 1.679851, lr: 0.00927 lambd: 0.05328\n",
            "Train Epoch:               1 [12800/60000 (21%)]\tLoss: 0.987897, lr: 0.00865 lambd: 0.10626\n",
            "Train Epoch:               1 [19200/60000 (32%)]\tLoss: 0.616388, lr: 0.00812 lambd: 0.15865\n",
            "Train Epoch:               1 [25600/60000 (43%)]\tLoss: 0.574381, lr: 0.00766 lambd: 0.21015\n",
            "Train Epoch:               1 [32000/60000 (53%)]\tLoss: 0.575408, lr: 0.00726 lambd: 0.26052\n",
            "Train Epoch:               1 [38400/60000 (64%)]\tLoss: 0.724970, lr: 0.00690 lambd: 0.30951\n",
            "Train Epoch:               1 [44800/60000 (75%)]\tLoss: 0.443620, lr: 0.00658 lambd: 0.35690\n",
            "Train Epoch:               1 [51200/60000 (85%)]\tLoss: 0.678575, lr: 0.00630 lambd: 0.40253\n",
            "Train Epoch:               1 [57600/60000 (96%)]\tLoss: 0.428401, lr: 0.00604 lambd: 0.44624\n"
          ],
          "name": "stdout"
        },
        {
          "output_type": "stream",
          "text": [
            "Exception ignored in: <bound method _DataLoaderIter.__del__ of <torch.utils.data.dataloader._DataLoaderIter object at 0x7f8f5d73f080>>\n",
            "Traceback (most recent call last):\n",
            "  File \"/usr/local/lib/python3.6/dist-packages/torch/utils/data/dataloader.py\", line 399, in __del__\n",
            "    self._shutdown_workers()\n",
            "  File \"/usr/local/lib/python3.6/dist-packages/torch/utils/data/dataloader.py\", line 378, in _shutdown_workers\n",
            "    self.worker_result_queue.get()\n",
            "  File \"/usr/lib/python3.6/multiprocessing/queues.py\", line 337, in get\n",
            "    return _ForkingPickler.loads(res)\n",
            "  File \"/usr/local/lib/python3.6/dist-packages/torch/multiprocessing/reductions.py\", line 151, in rebuild_storage_fd\n",
            "    fd = df.detach()\n",
            "  File \"/usr/lib/python3.6/multiprocessing/resource_sharer.py\", line 57, in detach\n",
            "    with _resource_sharer.get_connection(self._id) as conn:\n",
            "  File \"/usr/lib/python3.6/multiprocessing/resource_sharer.py\", line 87, in get_connection\n",
            "    c = Client(address, authkey=process.current_process().authkey)\n",
            "  File \"/usr/lib/python3.6/multiprocessing/connection.py\", line 494, in Client\n",
            "    deliver_challenge(c, authkey)\n",
            "  File \"/usr/lib/python3.6/multiprocessing/connection.py\", line 722, in deliver_challenge\n",
            "    response = connection.recv_bytes(256)        # reject large message\n",
            "  File \"/usr/lib/python3.6/multiprocessing/connection.py\", line 216, in recv_bytes\n",
            "    buf = self._recv_bytes(maxlength)\n",
            "  File \"/usr/lib/python3.6/multiprocessing/connection.py\", line 407, in _recv_bytes\n",
            "    buf = self._recv(4)\n",
            "  File \"/usr/lib/python3.6/multiprocessing/connection.py\", line 379, in _recv\n",
            "    chunk = read(handle, remaining)\n",
            "ConnectionResetError: [Errno 104] Connection reset by peer\n"
          ],
          "name": "stderr"
        },
        {
          "output_type": "stream",
          "text": [
            "\n",
            "Test set: Average loss: 0.9036, Accuracy: 14800/20000 (74%)\n",
            "\n",
            "Domains: Test set:  Accuracy: 17484/20000 (87%)\n",
            "\n",
            "Train Epoch:               2 [0/60000 (0%)]\tLoss: 0.443641, lr: 0.00595 lambd: 0.46212\n",
            "Train Epoch:               2 [6400/60000 (11%)]\tLoss: 0.491801, lr: 0.00572 lambd: 0.50301\n",
            "Train Epoch:               2 [12800/60000 (21%)]\tLoss: 0.376946, lr: 0.00551 lambd: 0.54178\n",
            "Train Epoch:               2 [19200/60000 (32%)]\tLoss: 0.264215, lr: 0.00532 lambd: 0.57836\n",
            "Train Epoch:               2 [25600/60000 (43%)]\tLoss: 0.403637, lr: 0.00514 lambd: 0.61276\n",
            "Train Epoch:               2 [32000/60000 (53%)]\tLoss: 0.256624, lr: 0.00498 lambd: 0.64499\n",
            "Train Epoch:               2 [38400/60000 (64%)]\tLoss: 0.265492, lr: 0.00483 lambd: 0.67507\n",
            "Train Epoch:               2 [44800/60000 (75%)]\tLoss: 0.529917, lr: 0.00469 lambd: 0.70306\n",
            "Train Epoch:               2 [51200/60000 (85%)]\tLoss: 0.239560, lr: 0.00455 lambd: 0.72904\n",
            "Train Epoch:               2 [57600/60000 (96%)]\tLoss: 0.306134, lr: 0.00443 lambd: 0.75307\n",
            "\n",
            "Test set: Average loss: 0.7730, Accuracy: 15494/20000 (77%)\n",
            "\n",
            "Domains: Test set:  Accuracy: 14877/20000 (74%)\n",
            "\n",
            "Train Epoch:               3 [0/60000 (0%)]\tLoss: 0.230264, lr: 0.00439 lambd: 0.76159\n",
            "Train Epoch:               3 [6400/60000 (11%)]\tLoss: 0.320198, lr: 0.00427 lambd: 0.78310\n",
            "Train Epoch:               3 [12800/60000 (21%)]\tLoss: 0.285685, lr: 0.00417 lambd: 0.80288\n",
            "Train Epoch:               3 [19200/60000 (32%)]\tLoss: 0.478228, lr: 0.00407 lambd: 0.82104\n",
            "Train Epoch:               3 [25600/60000 (43%)]\tLoss: 0.294853, lr: 0.00397 lambd: 0.83768\n",
            "Train Epoch:               3 [32000/60000 (53%)]\tLoss: 0.214966, lr: 0.00388 lambd: 0.85289\n",
            "Train Epoch:               3 [38400/60000 (64%)]\tLoss: 0.216508, lr: 0.00379 lambd: 0.86678\n",
            "Train Epoch:               3 [44800/60000 (75%)]\tLoss: 0.492421, lr: 0.00371 lambd: 0.87945\n",
            "Train Epoch:               3 [51200/60000 (85%)]\tLoss: 0.282506, lr: 0.00364 lambd: 0.89098\n",
            "Train Epoch:               3 [57600/60000 (96%)]\tLoss: 0.609358, lr: 0.00356 lambd: 0.90147\n",
            "\n",
            "Test set: Average loss: 0.7745, Accuracy: 16008/20000 (80%)\n",
            "\n",
            "Domains: Test set:  Accuracy: 13331/20000 (67%)\n",
            "\n",
            "Train Epoch:               4 [0/60000 (0%)]\tLoss: 0.118645, lr: 0.00354 lambd: 0.90515\n",
            "Train Epoch:               4 [6400/60000 (11%)]\tLoss: 0.351683, lr: 0.00347 lambd: 0.91433\n",
            "Train Epoch:               4 [12800/60000 (21%)]\tLoss: 0.267148, lr: 0.00340 lambd: 0.92267\n",
            "Train Epoch:               4 [19200/60000 (32%)]\tLoss: 0.263223, lr: 0.00334 lambd: 0.93022\n",
            "Train Epoch:               4 [25600/60000 (43%)]\tLoss: 0.285739, lr: 0.00328 lambd: 0.93706\n",
            "Train Epoch:               4 [32000/60000 (53%)]\tLoss: 0.312707, lr: 0.00322 lambd: 0.94324\n",
            "Train Epoch:               4 [38400/60000 (64%)]\tLoss: 0.389869, lr: 0.00316 lambd: 0.94884\n",
            "Train Epoch:               4 [44800/60000 (75%)]\tLoss: 0.329475, lr: 0.00311 lambd: 0.95390\n",
            "Train Epoch:               4 [51200/60000 (85%)]\tLoss: 0.393514, lr: 0.00306 lambd: 0.95846\n",
            "Train Epoch:               4 [57600/60000 (96%)]\tLoss: 0.584306, lr: 0.00301 lambd: 0.96259\n",
            "\n",
            "Test set: Average loss: 1.0297, Accuracy: 16292/20000 (81%)\n",
            "\n",
            "Domains: Test set:  Accuracy: 10283/20000 (51%)\n",
            "\n",
            "Train Epoch:               5 [0/60000 (0%)]\tLoss: 0.327285, lr: 0.00299 lambd: 0.96403\n",
            "Train Epoch:               5 [6400/60000 (11%)]\tLoss: 0.635122, lr: 0.00294 lambd: 0.96761\n",
            "Train Epoch:               5 [12800/60000 (21%)]\tLoss: 0.287451, lr: 0.00290 lambd: 0.97084\n",
            "Train Epoch:               5 [19200/60000 (32%)]\tLoss: 0.498895, lr: 0.00285 lambd: 0.97375\n",
            "Train Epoch:               5 [25600/60000 (43%)]\tLoss: 0.369578, lr: 0.00281 lambd: 0.97637\n",
            "Train Epoch:               5 [32000/60000 (53%)]\tLoss: 0.196417, lr: 0.00277 lambd: 0.97874\n",
            "Train Epoch:               5 [38400/60000 (64%)]\tLoss: 0.343430, lr: 0.00273 lambd: 0.98087\n",
            "Train Epoch:               5 [44800/60000 (75%)]\tLoss: 0.293070, lr: 0.00269 lambd: 0.98279\n",
            "Train Epoch:               5 [51200/60000 (85%)]\tLoss: 0.126336, lr: 0.00266 lambd: 0.98452\n",
            "Train Epoch:               5 [57600/60000 (96%)]\tLoss: 0.376839, lr: 0.00262 lambd: 0.98607\n",
            "\n",
            "Test set: Average loss: 0.7829, Accuracy: 16771/20000 (84%)\n",
            "\n",
            "Domains: Test set:  Accuracy: 12761/20000 (64%)\n",
            "\n",
            "Train Epoch:               6 [0/60000 (0%)]\tLoss: 0.281798, lr: 0.00261 lambd: 0.98661\n",
            "Train Epoch:               6 [6400/60000 (11%)]\tLoss: 0.164743, lr: 0.00257 lambd: 0.98796\n",
            "Train Epoch:               6 [12800/60000 (21%)]\tLoss: 0.287482, lr: 0.00254 lambd: 0.98917\n",
            "Train Epoch:               6 [19200/60000 (32%)]\tLoss: 0.183563, lr: 0.00251 lambd: 0.99026\n",
            "Train Epoch:               6 [25600/60000 (43%)]\tLoss: 0.097183, lr: 0.00248 lambd: 0.99124\n",
            "Train Epoch:               6 [32000/60000 (53%)]\tLoss: 0.232857, lr: 0.00245 lambd: 0.99213\n",
            "Train Epoch:               6 [38400/60000 (64%)]\tLoss: 0.124225, lr: 0.00242 lambd: 0.99292\n",
            "Train Epoch:               6 [44800/60000 (75%)]\tLoss: 0.163123, lr: 0.00239 lambd: 0.99363\n",
            "Train Epoch:               6 [51200/60000 (85%)]\tLoss: 0.206674, lr: 0.00236 lambd: 0.99428\n",
            "Train Epoch:               6 [57600/60000 (96%)]\tLoss: 0.270118, lr: 0.00233 lambd: 0.99485\n"
          ],
          "name": "stdout"
        },
        {
          "output_type": "stream",
          "text": [
            "Exception ignored in: <bound method _DataLoaderIter.__del__ of <torch.utils.data.dataloader._DataLoaderIter object at 0x7f8f5d7807f0>>\n",
            "Traceback (most recent call last):\n",
            "  File \"/usr/local/lib/python3.6/dist-packages/torch/utils/data/dataloader.py\", line 399, in __del__\n",
            "    self._shutdown_workers()\n",
            "  File \"/usr/local/lib/python3.6/dist-packages/torch/utils/data/dataloader.py\", line 378, in _shutdown_workers\n",
            "    self.worker_result_queue.get()\n",
            "  File \"/usr/lib/python3.6/multiprocessing/queues.py\", line 337, in get\n",
            "    return _ForkingPickler.loads(res)\n",
            "  File \"/usr/local/lib/python3.6/dist-packages/torch/multiprocessing/reductions.py\", line 151, in rebuild_storage_fd\n",
            "    fd = df.detach()\n",
            "  File \"/usr/lib/python3.6/multiprocessing/resource_sharer.py\", line 57, in detach\n",
            "    with _resource_sharer.get_connection(self._id) as conn:\n",
            "  File \"/usr/lib/python3.6/multiprocessing/resource_sharer.py\", line 87, in get_connection\n",
            "    c = Client(address, authkey=process.current_process().authkey)\n",
            "  File \"/usr/lib/python3.6/multiprocessing/connection.py\", line 493, in Client\n",
            "    answer_challenge(c, authkey)\n",
            "  File \"/usr/lib/python3.6/multiprocessing/connection.py\", line 737, in answer_challenge\n",
            "    response = connection.recv_bytes(256)        # reject large message\n",
            "  File \"/usr/lib/python3.6/multiprocessing/connection.py\", line 216, in recv_bytes\n",
            "    buf = self._recv_bytes(maxlength)\n",
            "  File \"/usr/lib/python3.6/multiprocessing/connection.py\", line 407, in _recv_bytes\n",
            "    buf = self._recv(4)\n",
            "  File \"/usr/lib/python3.6/multiprocessing/connection.py\", line 379, in _recv\n",
            "    chunk = read(handle, remaining)\n",
            "ConnectionResetError: [Errno 104] Connection reset by peer\n"
          ],
          "name": "stderr"
        },
        {
          "output_type": "stream",
          "text": [
            "\n",
            "Test set: Average loss: 0.7087, Accuracy: 16916/20000 (85%)\n",
            "\n",
            "Domains: Test set:  Accuracy: 13707/20000 (69%)\n",
            "\n",
            "Train Epoch:               7 [0/60000 (0%)]\tLoss: 0.281009, lr: 0.00232 lambd: 0.99505\n",
            "Train Epoch:               7 [6400/60000 (11%)]\tLoss: 0.382946, lr: 0.00230 lambd: 0.99555\n",
            "Train Epoch:               7 [12800/60000 (21%)]\tLoss: 0.337542, lr: 0.00227 lambd: 0.99600\n",
            "Train Epoch:               7 [19200/60000 (32%)]\tLoss: 0.370436, lr: 0.00225 lambd: 0.99641\n",
            "Train Epoch:               7 [25600/60000 (43%)]\tLoss: 0.272442, lr: 0.00222 lambd: 0.99677\n",
            "Train Epoch:               7 [32000/60000 (53%)]\tLoss: 0.207916, lr: 0.00220 lambd: 0.99710\n",
            "Train Epoch:               7 [38400/60000 (64%)]\tLoss: 0.154321, lr: 0.00218 lambd: 0.99739\n",
            "Train Epoch:               7 [44800/60000 (75%)]\tLoss: 0.264697, lr: 0.00215 lambd: 0.99765\n",
            "Train Epoch:               7 [51200/60000 (85%)]\tLoss: 0.231791, lr: 0.00213 lambd: 0.99789\n",
            "Train Epoch:               7 [57600/60000 (96%)]\tLoss: 0.153397, lr: 0.00211 lambd: 0.99810\n",
            "\n",
            "Test set: Average loss: 0.6135, Accuracy: 17055/20000 (85%)\n",
            "\n",
            "Domains: Test set:  Accuracy: 13773/20000 (69%)\n",
            "\n",
            "Train Epoch:               8 [0/60000 (0%)]\tLoss: 0.245350, lr: 0.00210 lambd: 0.99818\n",
            "Train Epoch:               8 [6400/60000 (11%)]\tLoss: 0.210235, lr: 0.00208 lambd: 0.99836\n",
            "Train Epoch:               8 [12800/60000 (21%)]\tLoss: 0.164919, lr: 0.00206 lambd: 0.99853\n",
            "Train Epoch:               8 [19200/60000 (32%)]\tLoss: 0.211437, lr: 0.00204 lambd: 0.99868\n",
            "Train Epoch:               8 [25600/60000 (43%)]\tLoss: 0.403391, lr: 0.00202 lambd: 0.99881\n",
            "Train Epoch:               8 [32000/60000 (53%)]\tLoss: 0.265055, lr: 0.00200 lambd: 0.99893\n",
            "Train Epoch:               8 [38400/60000 (64%)]\tLoss: 0.310531, lr: 0.00198 lambd: 0.99904\n",
            "Train Epoch:               8 [44800/60000 (75%)]\tLoss: 0.262582, lr: 0.00197 lambd: 0.99914\n",
            "Train Epoch:               8 [51200/60000 (85%)]\tLoss: 0.106727, lr: 0.00195 lambd: 0.99922\n",
            "Train Epoch:               8 [57600/60000 (96%)]\tLoss: 0.202269, lr: 0.00193 lambd: 0.99930\n",
            "\n",
            "Test set: Average loss: 0.5691, Accuracy: 17121/20000 (86%)\n",
            "\n",
            "Domains: Test set:  Accuracy: 13887/20000 (69%)\n",
            "\n",
            "Train Epoch:               9 [0/60000 (0%)]\tLoss: 0.100402, lr: 0.00192 lambd: 0.99933\n",
            "Train Epoch:               9 [6400/60000 (11%)]\tLoss: 0.191801, lr: 0.00191 lambd: 0.99940\n",
            "Train Epoch:               9 [12800/60000 (21%)]\tLoss: 0.093920, lr: 0.00189 lambd: 0.99946\n",
            "Train Epoch:               9 [19200/60000 (32%)]\tLoss: 0.249513, lr: 0.00187 lambd: 0.99951\n",
            "Train Epoch:               9 [25600/60000 (43%)]\tLoss: 0.207024, lr: 0.00186 lambd: 0.99956\n",
            "Train Epoch:               9 [32000/60000 (53%)]\tLoss: 0.280224, lr: 0.00184 lambd: 0.99961\n",
            "Train Epoch:               9 [38400/60000 (64%)]\tLoss: 0.396190, lr: 0.00183 lambd: 0.99965\n",
            "Train Epoch:               9 [44800/60000 (75%)]\tLoss: 0.141273, lr: 0.00181 lambd: 0.99968\n",
            "Train Epoch:               9 [51200/60000 (85%)]\tLoss: 0.144826, lr: 0.00180 lambd: 0.99971\n",
            "Train Epoch:               9 [57600/60000 (96%)]\tLoss: 0.321525, lr: 0.00178 lambd: 0.99974\n",
            "\n",
            "Test set: Average loss: 0.5987, Accuracy: 17094/20000 (85%)\n",
            "\n",
            "Domains: Test set:  Accuracy: 13711/20000 (69%)\n",
            "\n",
            "Train Epoch:               10 [0/60000 (0%)]\tLoss: 0.251618, lr: 0.00178 lambd: 0.99975\n",
            "Train Epoch:               10 [6400/60000 (11%)]\tLoss: 0.096432, lr: 0.00176 lambd: 0.99978\n",
            "Train Epoch:               10 [12800/60000 (21%)]\tLoss: 0.110221, lr: 0.00175 lambd: 0.99980\n",
            "Train Epoch:               10 [19200/60000 (32%)]\tLoss: 0.243372, lr: 0.00174 lambd: 0.99982\n",
            "Train Epoch:               10 [25600/60000 (43%)]\tLoss: 0.175063, lr: 0.00172 lambd: 0.99984\n",
            "Train Epoch:               10 [32000/60000 (53%)]\tLoss: 0.223292, lr: 0.00171 lambd: 0.99986\n",
            "Train Epoch:               10 [38400/60000 (64%)]\tLoss: 0.190295, lr: 0.00170 lambd: 0.99987\n",
            "Train Epoch:               10 [44800/60000 (75%)]\tLoss: 0.250897, lr: 0.00168 lambd: 0.99988\n",
            "Train Epoch:               10 [51200/60000 (85%)]\tLoss: 0.130142, lr: 0.00167 lambd: 0.99989\n",
            "Train Epoch:               10 [57600/60000 (96%)]\tLoss: 0.201643, lr: 0.00166 lambd: 0.99991\n",
            "\n",
            "Test set: Average loss: 0.6271, Accuracy: 16963/20000 (85%)\n",
            "\n",
            "Domains: Test set:  Accuracy: 13961/20000 (70%)\n",
            "\n"
          ],
          "name": "stdout"
        }
      ]
    },
    {
      "metadata": {
        "id": "-O0rF7gxWI50",
        "colab_type": "code",
        "colab": {}
      },
      "cell_type": "code",
      "source": [
        "def testDomainModel(model_f, model_c, device, test_loader):\n",
        "  model_f.eval()\n",
        "  model_c.eval()\n",
        "  test_loss = 0\n",
        "  correct = 0\n",
        "  with torch.no_grad():\n",
        "    for data, labels in test_loader:\n",
        "      data, labels = data.to(device), labels.to(device)\n",
        "      output = model_c(model_f(data))\n",
        "      test_loss += criterion(output, labels, reduction='sum').item()\n",
        "      pred = output.max(1, keepdim=True)[1].long() \n",
        "      correct += pred.eq(labels.view_as(pred)).sum().item()\n",
        "\n",
        "  test_loss /= len(test_loader.dataset)\n",
        "  print('\\nTest set: Average loss: {:.4f}, Accuracy: {}/{} ({:.0f}%)\\n'.format(\n",
        "      test_loss, correct, len(test_loader.dataset),\n",
        "      100. * correct / len(test_loader.dataset)))"
      ],
      "execution_count": 0,
      "outputs": []
    },
    {
      "metadata": {
        "id": "nHeW62laD_yC",
        "colab_type": "code",
        "colab": {
          "base_uri": "https://localhost:8080/",
          "height": 68
        },
        "outputId": "5b0ef166-d06b-4c72-ecf0-5968cb129259"
      },
      "cell_type": "code",
      "source": [
        "testDomainModel(model_f, model_c, device, test_loader)"
      ],
      "execution_count": 116,
      "outputs": [
        {
          "output_type": "stream",
          "text": [
            "\n",
            "Test set: Average loss: 0.0668, Accuracy: 9810/10000 (98%)\n",
            "\n"
          ],
          "name": "stdout"
        }
      ]
    },
    {
      "metadata": {
        "id": "ZnYCgnpvEUtO",
        "colab_type": "code",
        "colab": {
          "base_uri": "https://localhost:8080/",
          "height": 384
        },
        "outputId": "708262fe-8370-4ca0-d8dd-0775deea3b78"
      },
      "cell_type": "code",
      "source": [
        "printIncorrect(lambda x: model_c(model_f(x)), test_set)"
      ],
      "execution_count": 117,
      "outputs": [
        {
          "output_type": "display_data",
          "data": {
            "image/png": "[encoded data removed]",
            "text/plain": [
              "<matplotlib.figure.Figure at 0x7f8f5d7b5c50>"
            ]
          },
          "metadata": {
            "tags": []
          }
        }
      ]
    },
    {
      "metadata": {
        "id": "NJ1ewETAEJfY",
        "colab_type": "code",
        "colab": {
          "base_uri": "https://localhost:8080/",
          "height": 68
        },
        "outputId": "49e9bf37-e55d-4efb-8aa8-d737a5745fc7"
      },
      "cell_type": "code",
      "source": [
        "testDomainModel(model_f, model_c, device, mnist_m_test_loader)"
      ],
      "execution_count": 118,
      "outputs": [
        {
          "output_type": "stream",
          "text": [
            "\n",
            "Test set: Average loss: 1.1875, Accuracy: 7153/10000 (72%)\n",
            "\n"
          ],
          "name": "stdout"
        }
      ]
    },
    {
      "metadata": {
        "id": "JInRMFesEf2F",
        "colab_type": "code",
        "colab": {
          "base_uri": "https://localhost:8080/",
          "height": 384
        },
        "outputId": "96acd5b2-1193-471d-97be-b21300521329"
      },
      "cell_type": "code",
      "source": [
        "printIncorrect(lambda x: model_c(model_f(x)), mnist_m_test)"
      ],
      "execution_count": 119,
      "outputs": [
        {
          "output_type": "display_data",
          "data": {
            "image/png": "[encoded data removed]",
            "text/plain": [
              "<matplotlib.figure.Figure at 0x7f8f5d7b5b38>"
            ]
          },
          "metadata": {
            "tags": []
          }
        }
      ]
    },
    {
      "metadata": {
        "id": "0iHLLO8BLgH8",
        "colab_type": "code",
        "colab": {}
      },
      "cell_type": "code",
      "source": [
        ""
      ],
      "execution_count": 0,
      "outputs": []
    }
  ]
}
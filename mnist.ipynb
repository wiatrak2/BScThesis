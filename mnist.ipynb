{
  "nbformat": 4,
  "nbformat_minor": 0,
  "metadata": {
    "colab": {
      "name": "mnist.ipynb",
      "version": "0.3.2",
      "provenance": [],
      "collapsed_sections": [],
      "toc_visible": true,
      "include_colab_link": true
    },
    "kernelspec": {
      "name": "python3",
      "display_name": "Python 3"
    },
    "accelerator": "GPU"
  },
  "cells": [
    {
      "cell_type": "markdown",
      "metadata": {
        "id": "view-in-github",
        "colab_type": "text"
      },
      "source": [
        "[View in Colaboratory](https://colab.research.google.com/github/wiatrak2/BScThesis/blob/master/mnist.ipynb)"
      ]
    },
    {
      "metadata": {
        "id": "6HZnglZEZtG4",
        "colab_type": "code",
        "colab": {}
      },
      "cell_type": "code",
      "source": [
        "!pip3 install torch torchvision"
      ],
      "execution_count": 0,
      "outputs": []
    },
    {
      "metadata": {
        "id": "rXP4GwZHZYLk",
        "colab_type": "code",
        "colab": {}
      },
      "cell_type": "code",
      "source": [
        "import numpy as np\n",
        "import torch\n",
        "import torch.nn as nn\n",
        "import torch.nn.functional as F\n",
        "import torch.optim as optim"
      ],
      "execution_count": 0,
      "outputs": []
    },
    {
      "metadata": {
        "id": "UNfT9MQmZcBu",
        "colab_type": "code",
        "colab": {}
      },
      "cell_type": "code",
      "source": [
        "import torchvision\n",
        "import torchvision.transforms as transforms"
      ],
      "execution_count": 0,
      "outputs": []
    },
    {
      "metadata": {
        "id": "bO_GcetxEshC",
        "colab_type": "code",
        "colab": {}
      },
      "cell_type": "code",
      "source": [
        "batch_size=64\n",
        "num_workers=1"
      ],
      "execution_count": 0,
      "outputs": []
    },
    {
      "metadata": {
        "id": "EJEy7VzQjnRo",
        "colab_type": "code",
        "colab": {}
      },
      "cell_type": "code",
      "source": [
        "def convertMnist(img):\n",
        "  img = img.squeeze().numpy()\n",
        "  img = np.array([img, img, img])\n",
        "  return torch.from_numpy(img)"
      ],
      "execution_count": 0,
      "outputs": []
    },
    {
      "metadata": {
        "id": "wV2owoYODr6X",
        "colab_type": "code",
        "colab": {
          "base_uri": "https://localhost:8080/",
          "height": 119
        },
        "outputId": "e15f9267-5071-4a27-da57-0da6e81a9bc2"
      },
      "cell_type": "code",
      "source": [
        "transform=transforms.Compose([\n",
        "                           transforms.ToTensor(),\n",
        "                           transforms.Normalize((0.1307,), (0.3081,)),\n",
        "                           transforms.Lambda(convertMnist)\n",
        "                       ])\n",
        "\n",
        "train_set = torchvision.datasets.MNIST(root='./data', train=True, download=True,\n",
        "                                     transform=transform)\n",
        "train_loader = torch.utils.data.DataLoader(train_set, batch_size=batch_size,\n",
        "                                         shuffle=True, num_workers=num_workers)\n",
        "\n",
        "test_set = torchvision.datasets.MNIST(root='./data', train=False, download=True,\n",
        "                                     transform=transform)\n",
        "test_loader = torch.utils.data.DataLoader(test_set, batch_size=batch_size,\n",
        "                                         shuffle=False, num_workers=num_workers)\n"
      ],
      "execution_count": 6,
      "outputs": [
        {
          "output_type": "stream",
          "text": [
            "Downloading http://yann.lecun.com/exdb/mnist/train-images-idx3-ubyte.gz\n",
            "Downloading http://yann.lecun.com/exdb/mnist/train-labels-idx1-ubyte.gz\n",
            "Downloading http://yann.lecun.com/exdb/mnist/t10k-images-idx3-ubyte.gz\n",
            "Downloading http://yann.lecun.com/exdb/mnist/t10k-labels-idx1-ubyte.gz\n",
            "Processing...\n",
            "Done!\n"
          ],
          "name": "stdout"
        }
      ]
    },
    {
      "metadata": {
        "id": "Pzv8RO1sg9pB",
        "colab_type": "code",
        "colab": {}
      },
      "cell_type": "code",
      "source": [
        "def printMnist3D(image):\n",
        "  image = image.numpy()\n",
        "  image = image * 0.3081 + 0.1307\n",
        "  plt.imshow(image.transpose(1,2,0), cmap='gray')"
      ],
      "execution_count": 0,
      "outputs": []
    },
    {
      "metadata": {
        "id": "Gv4Fi3GAGh3j",
        "colab_type": "code",
        "colab": {
          "base_uri": "https://localhost:8080/",
          "height": 364
        },
        "outputId": "bb0c1f43-31d5-4451-b0ce-8332773416fa"
      },
      "cell_type": "code",
      "source": [
        "import matplotlib.pyplot as plt\n",
        "\n",
        "trainiter = iter(train_loader)\n",
        "images, labels = trainiter.next()\n",
        "\n",
        "sample = images[0]\n",
        "printMnist3D(sample)\n",
        "print(labels[0].item())"
      ],
      "execution_count": 8,
      "outputs": [
        {
          "output_type": "stream",
          "text": [
            "9\n"
          ],
          "name": "stdout"
        },
        {
          "output_type": "display_data",
          "data": {
            "image/png": "[encoded data removed]",
            "text/plain": [
              "<matplotlib.figure.Figure at 0x7f0608de72b0>"
            ]
          },
          "metadata": {
            "tags": []
          }
        }
      ]
    },
    {
      "metadata": {
        "id": "pdFSLoXpFpUV",
        "colab_type": "code",
        "colab": {}
      },
      "cell_type": "code",
      "source": [
        "class MnistNET(nn.Module):\n",
        "  def __init__(self):\n",
        "    super(MnistNET, self).__init__()\n",
        "    self.conv1 = nn.Conv2d(3, 10, kernel_size=5)\n",
        "    self.conv2 = nn.Conv2d(10, 20, kernel_size=5)\n",
        "    self.conv2_drop = nn.Dropout2d()\n",
        "    self.fc1 = nn.Linear(320, 50)\n",
        "    self.fc2 = nn.Linear(50, 10)\n",
        "  def forward(self, x):\n",
        "    x = F.leaky_relu(F.max_pool2d(self.conv1(x), 2))\n",
        "    x = F.leaky_relu(F.max_pool2d(self.conv2_drop(self.conv2(x)), 2))\n",
        "    x = x.view(-1, 320)\n",
        "    x = F.leaky_relu(self.fc1(x))\n",
        "    x = F.dropout(x, training=self.training)\n",
        "    x = self.fc2(x)\n",
        "    return F.log_softmax(x, dim=1)    \n",
        "  "
      ],
      "execution_count": 0,
      "outputs": []
    },
    {
      "metadata": {
        "id": "nrfYSBracTNj",
        "colab_type": "code",
        "colab": {}
      },
      "cell_type": "code",
      "source": [
        "criterion = F.nll_loss"
      ],
      "execution_count": 0,
      "outputs": []
    },
    {
      "metadata": {
        "id": "1FTNw092conE",
        "colab_type": "code",
        "colab": {}
      },
      "cell_type": "code",
      "source": [
        "log_interval = 100\n",
        "epochs = 10\n",
        "use_cuda = True"
      ],
      "execution_count": 0,
      "outputs": []
    },
    {
      "metadata": {
        "id": "lgY552Rjboh7",
        "colab_type": "code",
        "colab": {}
      },
      "cell_type": "code",
      "source": [
        "def train(model, device, train_loader, optimizer, epoch):\n",
        "  model.train()\n",
        "  for batch_idx, (data, target) in enumerate(train_loader):\n",
        "    data, target = data.to(device), target.to(device)\n",
        "    optimizer.zero_grad()\n",
        "    output = model(data)\n",
        "    loss = criterion(output, target)\n",
        "    loss.backward()\n",
        "    optimizer.step()\n",
        "    if batch_idx % log_interval == 0:\n",
        "        print('Train Epoch: {} [{}/{} ({:.0f}%)]\\tLoss: {:.6f}'.format(\n",
        "            epoch, batch_idx * len(data), len(train_loader.dataset),\n",
        "            100. * batch_idx / len(train_loader), loss.item()))"
      ],
      "execution_count": 0,
      "outputs": []
    },
    {
      "metadata": {
        "id": "fLWongQbczXS",
        "colab_type": "code",
        "colab": {}
      },
      "cell_type": "code",
      "source": [
        "def test(model, device, test_loader):\n",
        "  model.eval()\n",
        "  test_loss = 0\n",
        "  correct = 0\n",
        "  with torch.no_grad():\n",
        "    for data, target in test_loader:\n",
        "      data, target = data.to(device), target.to(device)\n",
        "      output = model(data)\n",
        "      test_loss += criterion(output, target, reduction='sum').item()\n",
        "      pred = output.max(1, keepdim=True)[1] \n",
        "      correct += pred.eq(target.view_as(pred)).sum().item()\n",
        "\n",
        "  test_loss /= len(test_loader.dataset)\n",
        "  print('\\nTest set: Average loss: {:.4f}, Accuracy: {}/{} ({:.0f}%)\\n'.format(\n",
        "      test_loss, correct, len(test_loader.dataset),\n",
        "      100. * correct / len(test_loader.dataset)))"
      ],
      "execution_count": 0,
      "outputs": []
    },
    {
      "metadata": {
        "id": "FzAkntIwdUCM",
        "colab_type": "code",
        "colab": {}
      },
      "cell_type": "code",
      "source": [
        "use_cuda = use_cuda and torch.cuda.is_available()\n",
        "device = torch.device(\"cuda\" if use_cuda else \"cpu\")"
      ],
      "execution_count": 0,
      "outputs": []
    },
    {
      "metadata": {
        "id": "8y1y2YJ0dt9i",
        "colab_type": "code",
        "colab": {}
      },
      "cell_type": "code",
      "source": [
        "lr = 0.01\n",
        "momentum=0.5"
      ],
      "execution_count": 0,
      "outputs": []
    },
    {
      "metadata": {
        "id": "dnJSFyF_dfL6",
        "colab_type": "code",
        "colab": {}
      },
      "cell_type": "code",
      "source": [
        "model = MnistNET().to(device)\n",
        "optimizer = optim.SGD(model.parameters(), lr=lr, momentum=momentum)"
      ],
      "execution_count": 0,
      "outputs": []
    },
    {
      "metadata": {
        "id": "3xyJMdhKd4d2",
        "colab_type": "code",
        "colab": {
          "base_uri": "https://localhost:8080/",
          "height": 2227
        },
        "outputId": "eabbfbb5-c712-4ce4-d652-de1414a2b084"
      },
      "cell_type": "code",
      "source": [
        "for epoch in range(1, epochs+1):\n",
        "  train(model, device, train_loader, optimizer, epoch)\n",
        "  test(model, device, test_loader)"
      ],
      "execution_count": 17,
      "outputs": [
        {
          "output_type": "stream",
          "text": [
            "Train Epoch: 1 [0/60000 (0%)]\tLoss: 2.320119\n",
            "Train Epoch: 1 [6400/60000 (11%)]\tLoss: 1.660195\n",
            "Train Epoch: 1 [12800/60000 (21%)]\tLoss: 0.915756\n",
            "Train Epoch: 1 [19200/60000 (32%)]\tLoss: 0.992511\n",
            "Train Epoch: 1 [25600/60000 (43%)]\tLoss: 0.889326\n",
            "Train Epoch: 1 [32000/60000 (53%)]\tLoss: 0.459806\n",
            "Train Epoch: 1 [38400/60000 (64%)]\tLoss: 0.679200\n",
            "Train Epoch: 1 [44800/60000 (75%)]\tLoss: 0.385138\n",
            "Train Epoch: 1 [51200/60000 (85%)]\tLoss: 0.556799\n",
            "Train Epoch: 1 [57600/60000 (96%)]\tLoss: 0.236365\n",
            "\n",
            "Test set: Average loss: 0.1757, Accuracy: 9462/10000 (95%)\n",
            "\n",
            "Train Epoch: 2 [0/60000 (0%)]\tLoss: 0.522431\n",
            "Train Epoch: 2 [6400/60000 (11%)]\tLoss: 0.517711\n",
            "Train Epoch: 2 [12800/60000 (21%)]\tLoss: 0.215499\n",
            "Train Epoch: 2 [19200/60000 (32%)]\tLoss: 0.301063\n",
            "Train Epoch: 2 [25600/60000 (43%)]\tLoss: 0.294683\n",
            "Train Epoch: 2 [32000/60000 (53%)]\tLoss: 0.287156\n",
            "Train Epoch: 2 [38400/60000 (64%)]\tLoss: 0.399494\n",
            "Train Epoch: 2 [44800/60000 (75%)]\tLoss: 0.313966\n",
            "Train Epoch: 2 [51200/60000 (85%)]\tLoss: 0.367107\n",
            "Train Epoch: 2 [57600/60000 (96%)]\tLoss: 0.222576\n",
            "\n",
            "Test set: Average loss: 0.1096, Accuracy: 9651/10000 (97%)\n",
            "\n",
            "Train Epoch: 3 [0/60000 (0%)]\tLoss: 0.536976\n",
            "Train Epoch: 3 [6400/60000 (11%)]\tLoss: 0.228113\n",
            "Train Epoch: 3 [12800/60000 (21%)]\tLoss: 0.334750\n",
            "Train Epoch: 3 [19200/60000 (32%)]\tLoss: 0.304106\n",
            "Train Epoch: 3 [25600/60000 (43%)]\tLoss: 0.429340\n",
            "Train Epoch: 3 [32000/60000 (53%)]\tLoss: 0.267767\n",
            "Train Epoch: 3 [38400/60000 (64%)]\tLoss: 0.416476\n",
            "Train Epoch: 3 [44800/60000 (75%)]\tLoss: 0.222329\n",
            "Train Epoch: 3 [51200/60000 (85%)]\tLoss: 0.175414\n",
            "Train Epoch: 3 [57600/60000 (96%)]\tLoss: 0.292116\n",
            "\n",
            "Test set: Average loss: 0.0908, Accuracy: 9714/10000 (97%)\n",
            "\n",
            "Train Epoch: 4 [0/60000 (0%)]\tLoss: 0.272794\n",
            "Train Epoch: 4 [6400/60000 (11%)]\tLoss: 0.184000\n",
            "Train Epoch: 4 [12800/60000 (21%)]\tLoss: 0.267112\n",
            "Train Epoch: 4 [19200/60000 (32%)]\tLoss: 0.233131\n",
            "Train Epoch: 4 [25600/60000 (43%)]\tLoss: 0.606441\n",
            "Train Epoch: 4 [32000/60000 (53%)]\tLoss: 0.275191\n",
            "Train Epoch: 4 [38400/60000 (64%)]\tLoss: 0.338371\n",
            "Train Epoch: 4 [44800/60000 (75%)]\tLoss: 0.376681\n",
            "Train Epoch: 4 [51200/60000 (85%)]\tLoss: 0.190120\n",
            "Train Epoch: 4 [57600/60000 (96%)]\tLoss: 0.115926\n",
            "\n",
            "Test set: Average loss: 0.0812, Accuracy: 9740/10000 (97%)\n",
            "\n",
            "Train Epoch: 5 [0/60000 (0%)]\tLoss: 0.168119\n",
            "Train Epoch: 5 [6400/60000 (11%)]\tLoss: 0.291530\n",
            "Train Epoch: 5 [12800/60000 (21%)]\tLoss: 0.252723\n",
            "Train Epoch: 5 [19200/60000 (32%)]\tLoss: 0.182474\n",
            "Train Epoch: 5 [25600/60000 (43%)]\tLoss: 0.296324\n",
            "Train Epoch: 5 [32000/60000 (53%)]\tLoss: 0.181174\n",
            "Train Epoch: 5 [38400/60000 (64%)]\tLoss: 0.256066\n",
            "Train Epoch: 5 [44800/60000 (75%)]\tLoss: 0.319853\n",
            "Train Epoch: 5 [51200/60000 (85%)]\tLoss: 0.136498\n",
            "Train Epoch: 5 [57600/60000 (96%)]\tLoss: 0.199789\n",
            "\n",
            "Test set: Average loss: 0.0707, Accuracy: 9781/10000 (98%)\n",
            "\n",
            "Train Epoch: 6 [0/60000 (0%)]\tLoss: 0.129858\n",
            "Train Epoch: 6 [6400/60000 (11%)]\tLoss: 0.047579\n",
            "Train Epoch: 6 [12800/60000 (21%)]\tLoss: 0.230995\n",
            "Train Epoch: 6 [19200/60000 (32%)]\tLoss: 0.283066\n",
            "Train Epoch: 6 [25600/60000 (43%)]\tLoss: 0.306357\n",
            "Train Epoch: 6 [32000/60000 (53%)]\tLoss: 0.524621\n",
            "Train Epoch: 6 [38400/60000 (64%)]\tLoss: 0.126350\n",
            "Train Epoch: 6 [44800/60000 (75%)]\tLoss: 0.165706\n",
            "Train Epoch: 6 [51200/60000 (85%)]\tLoss: 0.171317\n",
            "Train Epoch: 6 [57600/60000 (96%)]\tLoss: 0.174433\n",
            "\n",
            "Test set: Average loss: 0.0652, Accuracy: 9787/10000 (98%)\n",
            "\n",
            "Train Epoch: 7 [0/60000 (0%)]\tLoss: 0.182001\n",
            "Train Epoch: 7 [6400/60000 (11%)]\tLoss: 0.108429\n",
            "Train Epoch: 7 [12800/60000 (21%)]\tLoss: 0.206202\n",
            "Train Epoch: 7 [19200/60000 (32%)]\tLoss: 0.217535\n",
            "Train Epoch: 7 [25600/60000 (43%)]\tLoss: 0.175758\n",
            "Train Epoch: 7 [32000/60000 (53%)]\tLoss: 0.209865\n",
            "Train Epoch: 7 [38400/60000 (64%)]\tLoss: 0.305992\n",
            "Train Epoch: 7 [44800/60000 (75%)]\tLoss: 0.205358\n",
            "Train Epoch: 7 [51200/60000 (85%)]\tLoss: 0.091808\n",
            "Train Epoch: 7 [57600/60000 (96%)]\tLoss: 0.298704\n",
            "\n",
            "Test set: Average loss: 0.0615, Accuracy: 9809/10000 (98%)\n",
            "\n",
            "Train Epoch: 8 [0/60000 (0%)]\tLoss: 0.112579\n",
            "Train Epoch: 8 [6400/60000 (11%)]\tLoss: 0.098689\n",
            "Train Epoch: 8 [12800/60000 (21%)]\tLoss: 0.328423\n",
            "Train Epoch: 8 [19200/60000 (32%)]\tLoss: 0.127003\n",
            "Train Epoch: 8 [25600/60000 (43%)]\tLoss: 0.193976\n",
            "Train Epoch: 8 [32000/60000 (53%)]\tLoss: 0.261315\n",
            "Train Epoch: 8 [38400/60000 (64%)]\tLoss: 0.231630\n",
            "Train Epoch: 8 [44800/60000 (75%)]\tLoss: 0.147700\n",
            "Train Epoch: 8 [51200/60000 (85%)]\tLoss: 0.075113\n",
            "Train Epoch: 8 [57600/60000 (96%)]\tLoss: 0.174010\n",
            "\n",
            "Test set: Average loss: 0.0621, Accuracy: 9806/10000 (98%)\n",
            "\n",
            "Train Epoch: 9 [0/60000 (0%)]\tLoss: 0.173063\n",
            "Train Epoch: 9 [6400/60000 (11%)]\tLoss: 0.335471\n",
            "Train Epoch: 9 [12800/60000 (21%)]\tLoss: 0.215725\n",
            "Train Epoch: 9 [19200/60000 (32%)]\tLoss: 0.172238\n",
            "Train Epoch: 9 [25600/60000 (43%)]\tLoss: 0.256325\n",
            "Train Epoch: 9 [32000/60000 (53%)]\tLoss: 0.081262\n",
            "Train Epoch: 9 [38400/60000 (64%)]\tLoss: 0.207126\n",
            "Train Epoch: 9 [44800/60000 (75%)]\tLoss: 0.121527\n",
            "Train Epoch: 9 [51200/60000 (85%)]\tLoss: 0.143435\n",
            "Train Epoch: 9 [57600/60000 (96%)]\tLoss: 0.065683\n",
            "\n",
            "Test set: Average loss: 0.0538, Accuracy: 9828/10000 (98%)\n",
            "\n",
            "Train Epoch: 10 [0/60000 (0%)]\tLoss: 0.105831\n",
            "Train Epoch: 10 [6400/60000 (11%)]\tLoss: 0.265943\n",
            "Train Epoch: 10 [12800/60000 (21%)]\tLoss: 0.112317\n",
            "Train Epoch: 10 [19200/60000 (32%)]\tLoss: 0.133371\n",
            "Train Epoch: 10 [25600/60000 (43%)]\tLoss: 0.167368\n",
            "Train Epoch: 10 [32000/60000 (53%)]\tLoss: 0.133358\n",
            "Train Epoch: 10 [38400/60000 (64%)]\tLoss: 0.151926\n",
            "Train Epoch: 10 [44800/60000 (75%)]\tLoss: 0.100563\n",
            "Train Epoch: 10 [51200/60000 (85%)]\tLoss: 0.148254\n",
            "Train Epoch: 10 [57600/60000 (96%)]\tLoss: 0.129585\n",
            "\n",
            "Test set: Average loss: 0.0501, Accuracy: 9833/10000 (98%)\n",
            "\n"
          ],
          "name": "stdout"
        }
      ]
    },
    {
      "metadata": {
        "id": "FZern7T4oSS5",
        "colab_type": "code",
        "colab": {
          "base_uri": "https://localhost:8080/",
          "height": 384
        },
        "outputId": "e5794072-72e3-4119-fe79-73848aae2885"
      },
      "cell_type": "code",
      "source": [
        "print_img = 6\n",
        "fig = plt.figure()\n",
        "for sample in test_set:\n",
        "  inp = sample[0].unsqueeze(0)\n",
        "  out = model(inp.to(device)).max(1)[1][0]\n",
        "  if out != sample[1].to(device):\n",
        "\n",
        "    plt.subplot(2,3,7 - print_img)\n",
        "    plt.tight_layout()\n",
        "    image = sample[0]\n",
        "    image = image.numpy()\n",
        "    image = image * 0.3081 + 0.1307\n",
        "    plt.imshow(image.transpose(1,2,0), cmap='gray')\n",
        "    plt.title(\"Ground Truth: {} Pred: {}\".format(sample[1], out))\n",
        "    plt.xticks([])\n",
        "    plt.yticks([])\n",
        "    \n",
        "    print_img -= 1\n",
        "    if print_img == 0: break\n",
        "    \n"
      ],
      "execution_count": 18,
      "outputs": [
        {
          "output_type": "display_data",
          "data": {
            "image/png": "[encoded data removed]",
            "text/plain": [
              "<matplotlib.figure.Figure at 0x7f0605684128>"
            ]
          },
          "metadata": {
            "tags": []
          }
        }
      ]
    },
    {
      "metadata": {
        "id": "xovDxj4lGDpa",
        "colab_type": "code",
        "colab": {
          "base_uri": "https://localhost:8080/",
          "height": 127
        },
        "outputId": "54c0fed7-3546-40f6-b2b5-5adf94c9a6c2"
      },
      "cell_type": "code",
      "source": [
        "from google.colab import drive\n",
        "drive.mount('/content/drive')"
      ],
      "execution_count": 19,
      "outputs": [
        {
          "output_type": "stream",
          "text": [
            "Go to this URL in a browser: https://accounts.google.com/o/oauth2/auth?client_id=947318989803-6bn6qk8qdgf4n4g3pfee6491hc0brc4i.apps.googleusercontent.com&redirect_uri=urn%3Aietf%3Awg%3Aoauth%3A2.0%3Aoob&scope=email%20https%3A%2F%2Fwww.googleapis.com%2Fauth%2Fdocs.test%20https%3A%2F%2Fwww.googleapis.com%2Fauth%2Fdrive%20https%3A%2F%2Fwww.googleapis.com%2Fauth%2Fdrive.photos.readonly%20https%3A%2F%2Fwww.googleapis.com%2Fauth%2Fpeopleapi.readonly&response_type=code\n",
            "\n",
            "Enter your authorization code:\n",
            "··········\n",
            "Mounted at /content/drive\n"
          ],
          "name": "stdout"
        }
      ]
    },
    {
      "metadata": {
        "id": "2T58UelKGYq6",
        "colab_type": "code",
        "colab": {}
      },
      "cell_type": "code",
      "source": [
        "!ls \"drive/My Drive\""
      ],
      "execution_count": 0,
      "outputs": []
    },
    {
      "metadata": {
        "id": "CtIbOwfLHECn",
        "colab_type": "code",
        "colab": {}
      },
      "cell_type": "code",
      "source": [
        "import pickle"
      ],
      "execution_count": 0,
      "outputs": []
    },
    {
      "metadata": {
        "id": "Q5QSJjOxUo55",
        "colab_type": "code",
        "colab": {}
      },
      "cell_type": "code",
      "source": [
        "class Mnist_M(torch.utils.data.Dataset):\n",
        "  \n",
        "  def __init__(self, train=True, transform=None):\n",
        "    \n",
        "    self.train = train\n",
        "    self.transform = transform\n",
        "    \n",
        "    with open('drive/My Drive/keras_mnistm.pkl', 'rb') as mnist_m:\n",
        "      mnist_m_data = pickle.load(mnist_m, encoding='bytes')\n",
        "    mnist_m_train_data = torch.ByteTensor(mnist_m_data[b'train'])\n",
        "    mnist_m_test_data = torch.ByteTensor(mnist_m_data[b'test'])\n",
        "    if train:\n",
        "      mnist_m_train_labels = torchvision.datasets.MNIST(\n",
        "          root='./data', train=True, download=True).train_labels\n",
        "      self.mnist_m_set = list(zip(mnist_m_train_data, mnist_m_train_labels))\n",
        "    else:\n",
        "      mnist_m_test_labels = torchvision.datasets.MNIST(\n",
        "          root='./data', train=False, download=True).test_labels\n",
        "      self.mnist_m_set = list(zip(mnist_m_test_data, mnist_m_test_labels))\n",
        "    self.len = len(self.mnist_m_set)\n",
        "  \n",
        "  def __len__(self):\n",
        "    return self.len\n",
        "  \n",
        "  def __getitem__(self, index):\n",
        "    label = self.mnist_m_set[index][1]\n",
        "    sample = self.mnist_m_set[index][0].permute(2,0,1).float()\n",
        "    sample = sample / 255\n",
        "    \n",
        "    if self.transform: \n",
        "      #sample = self.transform(sample)\n",
        "      sample = (sample - 0.1307) / 0.3081\n",
        "      \n",
        "    return (sample, label)"
      ],
      "execution_count": 0,
      "outputs": []
    },
    {
      "metadata": {
        "id": "_OTdSAPfbGx-",
        "colab_type": "code",
        "colab": {}
      },
      "cell_type": "code",
      "source": [
        "mnist_m_transform = transforms.Compose([\n",
        "                           transforms.Normalize((0.1307,), (0.3081,)),\n",
        "                       ])\n",
        "mnist_m_train = Mnist_M(transform=mnist_m_transform)\n",
        "mnist_m_test = Mnist_M(train=False,\n",
        "                     transform=mnist_m_transform)\n",
        "mnist_m_train_loader = torch.utils.data.DataLoader(mnist_m_train, \n",
        "                                                   batch_size=batch_size,\n",
        "                                         shuffle=True, num_workers=num_workers)\n",
        "mnist_m_test_loader = torch.utils.data.DataLoader(mnist_m_test,\n",
        "                                                  batch_size=batch_size,\n",
        "                                         shuffle=False, num_workers=num_workers)\n"
      ],
      "execution_count": 0,
      "outputs": []
    },
    {
      "metadata": {
        "id": "Kbe2O3dmdfGS",
        "colab_type": "code",
        "colab": {
          "base_uri": "https://localhost:8080/",
          "height": 364
        },
        "outputId": "9299ad1c-ff4b-4665-d265-8986f865bca2"
      },
      "cell_type": "code",
      "source": [
        "trainiter = iter(mnist_m_train_loader)\n",
        "images, labels = trainiter.next()\n",
        "printMnist3D(images[0])\n",
        "print(labels[0])"
      ],
      "execution_count": 24,
      "outputs": [
        {
          "output_type": "stream",
          "text": [
            "tensor(2)\n"
          ],
          "name": "stdout"
        },
        {
          "output_type": "display_data",
          "data": {
            "image/png": "[encoded data removed]",
            "text/plain": [
              "<matplotlib.figure.Figure at 0x7f0607eca3c8>"
            ]
          },
          "metadata": {
            "tags": []
          }
        }
      ]
    },
    {
      "metadata": {
        "id": "u6AGVJbXY3XK",
        "colab_type": "code",
        "colab": {
          "base_uri": "https://localhost:8080/",
          "height": 68
        },
        "outputId": "464dff46-46d1-400f-866d-554b711fa9f3"
      },
      "cell_type": "code",
      "source": [
        "test(model, device, mnist_m_test_loader)"
      ],
      "execution_count": 25,
      "outputs": [
        {
          "output_type": "stream",
          "text": [
            "\n",
            "Test set: Average loss: 1.3184, Accuracy: 5647/10000 (56%)\n",
            "\n"
          ],
          "name": "stdout"
        }
      ]
    },
    {
      "metadata": {
        "id": "ZEez9Cb7emPR",
        "colab_type": "code",
        "colab": {
          "base_uri": "https://localhost:8080/",
          "height": 384
        },
        "outputId": "244c0ee1-24d9-4364-d670-24b2c8661ea5"
      },
      "cell_type": "code",
      "source": [
        "print_img = 6\n",
        "fig = plt.figure()\n",
        "for sample in mnist_m_test:\n",
        "  inp = sample[0].unsqueeze(0)\n",
        "  out = model(inp.to(device)).max(1)[1][0]\n",
        "  if out != sample[1].to(device):\n",
        "\n",
        "    plt.subplot(2,3,7 - print_img)\n",
        "    plt.tight_layout()\n",
        "    image = sample[0]\n",
        "    image = image.numpy()\n",
        "    image = image * 0.3081 + 0.1307\n",
        "    plt.imshow(image.transpose(1,2,0), cmap='gray')\n",
        "    plt.title(\"Ground Truth: {} Pred: {}\".format(sample[1], out))\n",
        "    plt.xticks([])\n",
        "    plt.yticks([])\n",
        "    \n",
        "    print_img -= 1\n",
        "    if print_img == 0: break"
      ],
      "execution_count": 26,
      "outputs": [
        {
          "output_type": "display_data",
          "data": {
            "image/png": "[encoded data removed]",
            "text/plain": [
              "<matplotlib.figure.Figure at 0x7f0607f19c50>"
            ]
          },
          "metadata": {
            "tags": []
          }
        }
      ]
    },
    {
      "metadata": {
        "id": "in4wjnoU9lnb",
        "colab_type": "code",
        "colab": {}
      },
      "cell_type": "code",
      "source": [
        "class Mnist_Ext(torch.utils.data.Dataset):\n",
        "  def __init__(self, datasets):\n",
        "    self.datasets = datasets\n",
        "    self.lengths = [len(ds) for ds in datasets]\n",
        "    self.offsets = np.cumsum(self.lengths)\n",
        "    self.len = np.sum(self.lengths)\n",
        "    \n",
        "  def __len__(self):\n",
        "    return self.len\n",
        "  \n",
        "  def __getitem__(self, index):\n",
        "    for dset_num, dset_offset in enumerate(self.offsets):\n",
        "      if index < dset_offset:\n",
        "        index -= np.append([0], self.offsets)[dset_num]\n",
        "        sample, label = self.datasets[dset_num][index]\n",
        "        domain = torch.tensor(dset_num).float()\n",
        "        return (sample, (label, domain))\n",
        "  "
      ],
      "execution_count": 0,
      "outputs": []
    },
    {
      "metadata": {
        "id": "FHyl40CC_BF7",
        "colab_type": "code",
        "colab": {}
      },
      "cell_type": "code",
      "source": [
        "mnist_ext_train = Mnist_Ext([train_set, mnist_m_train])\n",
        "mnist_ext_test = Mnist_Ext([test_set, mnist_m_test])\n",
        "mnist_ext_train_loader = torch.utils.data.DataLoader(mnist_ext_train, \n",
        "                                                   batch_size=batch_size,\n",
        "                                         shuffle=True, num_workers=num_workers)\n",
        "mnist_ext_test_loader = torch.utils.data.DataLoader(mnist_ext_test, \n",
        "                                                   batch_size=batch_size,\n",
        "                                         shuffle=True, num_workers=num_workers)\n",
        "\n"
      ],
      "execution_count": 0,
      "outputs": []
    },
    {
      "metadata": {
        "id": "dUsdgDM_EtJ5",
        "colab_type": "code",
        "colab": {
          "base_uri": "https://localhost:8080/",
          "height": 364
        },
        "outputId": "7ac0a375-362b-4dc3-e056-39bb49d9834b"
      },
      "cell_type": "code",
      "source": [
        "trainiter = iter(mnist_ext_train_loader)\n",
        "images, labels = trainiter.next()\n",
        "labels = torch.tensor(list(zip(labels[0], labels[1])))\n",
        "printMnist3D(images[0])\n",
        "print(labels[0])"
      ],
      "execution_count": 123,
      "outputs": [
        {
          "output_type": "stream",
          "text": [
            "tensor([3., 1.])\n"
          ],
          "name": "stdout"
        },
        {
          "output_type": "display_data",
          "data": {
            "image/png": "[encoded data removed]",
            "text/plain": [
              "<matplotlib.figure.Figure at 0x7f0607f00c18>"
            ]
          },
          "metadata": {
            "tags": []
          }
        }
      ]
    },
    {
      "metadata": {
        "id": "a2ehvBCle7iq",
        "colab_type": "code",
        "colab": {}
      },
      "cell_type": "code",
      "source": [
        "class GradReverse(torch.autograd.Function):\n",
        "    @staticmethod\n",
        "    def forward(ctx, x):\n",
        "        return x.view_as(x)\n",
        "\n",
        "    @staticmethod\n",
        "    def backward(ctx, grad_output):\n",
        "        return grad_output.neg()\n",
        "\n",
        "def grad_reverse(x):\n",
        "    return GradReverse.apply(x)\n",
        "  "
      ],
      "execution_count": 0,
      "outputs": []
    },
    {
      "metadata": {
        "id": "I3LNIeZbx-Gi",
        "colab_type": "code",
        "colab": {}
      },
      "cell_type": "code",
      "source": [
        "class MnistDomain(nn.Module):\n",
        "  def __init__(self):\n",
        "    super(MnistDomain, self).__init__()\n",
        "    self.fc1 = nn.Linear(320, 100)\n",
        "    self.fc2 = nn.Linear(100, 1)\n",
        "  def forward(self, x):\n",
        "    x = grad_reverse(x)\n",
        "    x = F.leaky_relu(self.fc1(x))\n",
        "    x = F.dropout(x, training=self.training)\n",
        "    x = self.fc2(x)\n",
        "    return torch.sigmoid(x)\n",
        "    "
      ],
      "execution_count": 0,
      "outputs": []
    },
    {
      "metadata": {
        "id": "ltFDl3rN6-_u",
        "colab_type": "code",
        "colab": {}
      },
      "cell_type": "code",
      "source": [
        "class MnistFeatureExtractor(nn.Module):\n",
        "  def __init__(self):\n",
        "    super(MnistFeatureExtractor, self).__init__()\n",
        "    self.conv1 = nn.Conv2d(3, 10, kernel_size=5)\n",
        "    self.conv2 = nn.Conv2d(10, 20, kernel_size=5)\n",
        "    self.conv2_drop = nn.Dropout2d()\n",
        "  def forward(self, x):\n",
        "    x = F.leaky_relu(F.max_pool2d(self.conv1(x), 2))\n",
        "    x = F.leaky_relu(F.max_pool2d(self.conv2_drop(self.conv2(x)), 2))\n",
        "    return x.view(-1, 320) "
      ],
      "execution_count": 0,
      "outputs": []
    },
    {
      "metadata": {
        "id": "AGYgmKUvAwHz",
        "colab_type": "code",
        "colab": {}
      },
      "cell_type": "code",
      "source": [
        "class MnistClassPredictor(nn.Module):\n",
        "  def __init__(self):\n",
        "    super(MnistClassPredictor, self).__init__()\n",
        "    self.fc1 = nn.Linear(320, 50)\n",
        "    self.fc2 = nn.Linear(50, 10)\n",
        "  def forward(self, x):\n",
        "    x = F.leaky_relu(self.fc1(x))\n",
        "    x = F.dropout(x, training=self.training)\n",
        "    x = self.fc2(x)\n",
        "    return F.log_softmax(x, dim=1)    "
      ],
      "execution_count": 0,
      "outputs": []
    },
    {
      "metadata": {
        "id": "z11N2hmNOkEe",
        "colab_type": "code",
        "colab": {}
      },
      "cell_type": "code",
      "source": [
        "criterion = F.nll_loss\n",
        "criterion_domain = F.binary_cross_entropy"
      ],
      "execution_count": 0,
      "outputs": []
    },
    {
      "metadata": {
        "id": "iRz3kir3A_Aa",
        "colab_type": "code",
        "colab": {}
      },
      "cell_type": "code",
      "source": [
        "def trainWithDomain(model_f, model_c, model_d, device, train_loader_class, \n",
        "                    train_loader_domain, optim_f, optim_c, optim_d, epoch):\n",
        "  model_f.train()\n",
        "  model_c.train()\n",
        "  model_d.train()\n",
        "  domain_iter = iter(train_loader_domain)\n",
        "  for batch_idx, (data, labels) in enumerate(train_loader):\n",
        "    data = data.to(device)\n",
        "    labels = labels.to(device)\n",
        "    optim_f.zero_grad()\n",
        "    optim_c.zero_grad()\n",
        "    output = model_c(model_f(data))\n",
        "    loss = criterion(output, labels)\n",
        "    loss.backward()\n",
        "    optim_f.step()\n",
        "    optim_c.step()\n",
        "    data, (_, domains) = domain_iter.next()\n",
        "    data, domains = data.to(device), domains.unsqueeze(1).to(device)\n",
        "    optim_f.zero_grad()\n",
        "    optim_d.zero_grad()\n",
        "    output = model_d(model_f(data))\n",
        "    loss_domain = criterion_domain(output, domains)\n",
        "    loss_domain.backward()\n",
        "    optim_f.step()\n",
        "    optim_d.step()\n",
        "    \n",
        "    if batch_idx % log_interval == 0:\n",
        "        print('Train Epoch: {} [{}/{} ({:.0f}%)]\\tLoss: {:.6f}'.format(\n",
        "            epoch, batch_idx * len(data), len(train_loader.dataset),\n",
        "            100. * batch_idx / len(train_loader), loss.item()))"
      ],
      "execution_count": 0,
      "outputs": []
    },
    {
      "metadata": {
        "id": "q3m1CsTvC10c",
        "colab_type": "code",
        "colab": {}
      },
      "cell_type": "code",
      "source": [
        "def testWithDomain(model_f, model_c, device, test_loader):\n",
        "  model_f.eval()\n",
        "  model_c.eval()\n",
        "  test_loss = 0\n",
        "  correct = 0\n",
        "  with torch.no_grad():\n",
        "    for data, target in test_loader:\n",
        "      data = data.to(device)\n",
        "      labels, domains = target\n",
        "      labels, domains = labels.to(device), domains.to(device)\n",
        "      output = model_c(model_f(data))\n",
        "      test_loss += criterion(output, labels, reduction='sum').item()\n",
        "      pred = output.max(1, keepdim=True)[1] \n",
        "      correct += pred.eq(labels.view_as(pred)).sum().item()\n",
        "\n",
        "  test_loss /= len(test_loader.dataset)\n",
        "  print('\\nTest set: Average loss: {:.4f}, Accuracy: {}/{} ({:.0f}%)\\n'.format(\n",
        "      test_loss, correct, len(test_loader.dataset),\n",
        "      100. * correct / len(test_loader.dataset)))"
      ],
      "execution_count": 0,
      "outputs": []
    },
    {
      "metadata": {
        "id": "Gi495iqhDD0_",
        "colab_type": "code",
        "colab": {}
      },
      "cell_type": "code",
      "source": [
        "model_f = MnistFeatureExtractor().to(device)\n",
        "model_c = MnistClassPredictor().to(device)\n",
        "model_d = MnistDomain().to(device)\n",
        "optim_f = optim.SGD(model_f.parameters(), lr=lr, momentum=momentum)\n",
        "optim_c = optim.SGD(model_c.parameters(), lr=lr, momentum=momentum)\n",
        "optim_d = optim.SGD(model_d.parameters(), lr=lr, momentum=momentum)\n"
      ],
      "execution_count": 0,
      "outputs": []
    },
    {
      "metadata": {
        "id": "nqUVQnMRflGW",
        "colab_type": "code",
        "colab": {}
      },
      "cell_type": "code",
      "source": [
        "model_d(model_f(images[1].unsqueeze(0)))"
      ],
      "execution_count": 0,
      "outputs": []
    },
    {
      "metadata": {
        "id": "fp4hXCAwDpPh",
        "colab_type": "code",
        "colab": {
          "base_uri": "https://localhost:8080/",
          "height": 2652
        },
        "outputId": "c3eaa7b0-11cb-492e-cdbc-1b530d118782"
      },
      "cell_type": "code",
      "source": [
        "for epoch in range(1, epochs+1):\n",
        "  trainWithDomain(model_f, model_c, model_d, device,train_loader,\n",
        "                  mnist_ext_train_loader, optim_f, optim_c, optim_d, epoch)\n",
        "  testWithDomain(model_f, model_c, device, mnist_ext_test_loader)"
      ],
      "execution_count": 121,
      "outputs": [
        {
          "output_type": "stream",
          "text": [
            "Train Epoch: 1 [0/60000 (0%)]\tLoss: 0.514025\n",
            "Train Epoch: 1 [6400/60000 (11%)]\tLoss: 0.246221\n",
            "Train Epoch: 1 [12800/60000 (21%)]\tLoss: 0.277133\n",
            "Train Epoch: 1 [19200/60000 (32%)]\tLoss: 0.354218\n",
            "Train Epoch: 1 [25600/60000 (43%)]\tLoss: 0.295588\n",
            "Train Epoch: 1 [32000/60000 (53%)]\tLoss: 0.167516\n",
            "Train Epoch: 1 [38400/60000 (64%)]\tLoss: 0.636144\n",
            "Train Epoch: 1 [44800/60000 (75%)]\tLoss: 0.375276\n",
            "Train Epoch: 1 [51200/60000 (85%)]\tLoss: 0.313625\n",
            "Train Epoch: 1 [57600/60000 (96%)]\tLoss: 0.155462\n",
            "\n",
            "Test set: Average loss: 0.6131, Accuracy: 16887/20000 (84%)\n",
            "\n",
            "Train Epoch: 2 [0/60000 (0%)]\tLoss: 0.214132\n",
            "Train Epoch: 2 [6400/60000 (11%)]\tLoss: 0.277303\n",
            "Train Epoch: 2 [12800/60000 (21%)]\tLoss: 0.129505\n",
            "Train Epoch: 2 [19200/60000 (32%)]\tLoss: 0.187796\n",
            "Train Epoch: 2 [25600/60000 (43%)]\tLoss: 0.136601\n",
            "Train Epoch: 2 [32000/60000 (53%)]\tLoss: 0.253591\n",
            "Train Epoch: 2 [38400/60000 (64%)]\tLoss: 0.214731\n",
            "Train Epoch: 2 [44800/60000 (75%)]\tLoss: 0.257017\n",
            "Train Epoch: 2 [51200/60000 (85%)]\tLoss: 0.328507\n",
            "Train Epoch: 2 [57600/60000 (96%)]\tLoss: 0.216995\n",
            "\n",
            "Test set: Average loss: 0.6116, Accuracy: 16917/20000 (85%)\n",
            "\n",
            "Train Epoch: 3 [0/60000 (0%)]\tLoss: 0.266971\n",
            "Train Epoch: 3 [6400/60000 (11%)]\tLoss: 0.347347\n",
            "Train Epoch: 3 [12800/60000 (21%)]\tLoss: 0.196140\n",
            "Train Epoch: 3 [19200/60000 (32%)]\tLoss: 0.304434\n",
            "Train Epoch: 3 [25600/60000 (43%)]\tLoss: 0.145675\n",
            "Train Epoch: 3 [32000/60000 (53%)]\tLoss: 0.169697\n",
            "Train Epoch: 3 [38400/60000 (64%)]\tLoss: 0.145502\n",
            "Train Epoch: 3 [44800/60000 (75%)]\tLoss: 0.150107\n",
            "Train Epoch: 3 [51200/60000 (85%)]\tLoss: 0.297254\n",
            "Train Epoch: 3 [57600/60000 (96%)]\tLoss: 0.080869\n",
            "\n",
            "Test set: Average loss: 0.5311, Accuracy: 17075/20000 (85%)\n",
            "\n",
            "Train Epoch: 4 [0/60000 (0%)]\tLoss: 0.149022\n",
            "Train Epoch: 4 [6400/60000 (11%)]\tLoss: 0.260976\n",
            "Train Epoch: 4 [12800/60000 (21%)]\tLoss: 0.177105\n",
            "Train Epoch: 4 [19200/60000 (32%)]\tLoss: 0.205774\n",
            "Train Epoch: 4 [25600/60000 (43%)]\tLoss: 0.379040\n",
            "Train Epoch: 4 [32000/60000 (53%)]\tLoss: 0.120002\n",
            "Train Epoch: 4 [38400/60000 (64%)]\tLoss: 0.167265\n",
            "Train Epoch: 4 [44800/60000 (75%)]\tLoss: 0.096443\n",
            "Train Epoch: 4 [51200/60000 (85%)]\tLoss: 0.239256\n",
            "Train Epoch: 4 [57600/60000 (96%)]\tLoss: 0.232015\n",
            "\n",
            "Test set: Average loss: 0.5498, Accuracy: 17131/20000 (86%)\n",
            "\n",
            "Train Epoch: 5 [0/60000 (0%)]\tLoss: 0.227902\n",
            "Train Epoch: 5 [6400/60000 (11%)]\tLoss: 0.206200\n",
            "Train Epoch: 5 [12800/60000 (21%)]\tLoss: 0.104379\n",
            "Train Epoch: 5 [19200/60000 (32%)]\tLoss: 0.184417\n",
            "Train Epoch: 5 [25600/60000 (43%)]\tLoss: 0.279947\n",
            "Train Epoch: 5 [32000/60000 (53%)]\tLoss: 0.191177\n",
            "Train Epoch: 5 [38400/60000 (64%)]\tLoss: 0.241733\n",
            "Train Epoch: 5 [44800/60000 (75%)]\tLoss: 0.200396\n",
            "Train Epoch: 5 [51200/60000 (85%)]\tLoss: 0.115211\n",
            "Train Epoch: 5 [57600/60000 (96%)]\tLoss: 0.158144\n",
            "\n",
            "Test set: Average loss: 0.5803, Accuracy: 17047/20000 (85%)\n",
            "\n",
            "Train Epoch: 6 [0/60000 (0%)]\tLoss: 0.093616\n",
            "Train Epoch: 6 [6400/60000 (11%)]\tLoss: 0.280985\n",
            "Train Epoch: 6 [12800/60000 (21%)]\tLoss: 0.175554\n",
            "Train Epoch: 6 [19200/60000 (32%)]\tLoss: 0.137872\n",
            "Train Epoch: 6 [25600/60000 (43%)]\tLoss: 0.151941\n",
            "Train Epoch: 6 [32000/60000 (53%)]\tLoss: 0.173015\n",
            "Train Epoch: 6 [38400/60000 (64%)]\tLoss: 0.056288\n",
            "Train Epoch: 6 [44800/60000 (75%)]\tLoss: 0.133854\n",
            "Train Epoch: 6 [51200/60000 (85%)]\tLoss: 0.365130\n",
            "Train Epoch: 6 [57600/60000 (96%)]\tLoss: 0.305752\n",
            "\n",
            "Test set: Average loss: 0.5414, Accuracy: 17171/20000 (86%)\n",
            "\n",
            "Train Epoch: 7 [0/60000 (0%)]\tLoss: 0.182514\n",
            "Train Epoch: 7 [6400/60000 (11%)]\tLoss: 0.161302\n",
            "Train Epoch: 7 [12800/60000 (21%)]\tLoss: 0.217693\n",
            "Train Epoch: 7 [19200/60000 (32%)]\tLoss: 0.290162\n",
            "Train Epoch: 7 [25600/60000 (43%)]\tLoss: 0.172064\n",
            "Train Epoch: 7 [32000/60000 (53%)]\tLoss: 0.176011\n",
            "Train Epoch: 7 [38400/60000 (64%)]\tLoss: 0.283950\n",
            "Train Epoch: 7 [44800/60000 (75%)]\tLoss: 0.314886\n",
            "Train Epoch: 7 [51200/60000 (85%)]\tLoss: 0.183626\n",
            "Train Epoch: 7 [57600/60000 (96%)]\tLoss: 0.071901\n",
            "\n",
            "Test set: Average loss: 0.5657, Accuracy: 16981/20000 (85%)\n",
            "\n",
            "Train Epoch: 8 [0/60000 (0%)]\tLoss: 0.121975\n",
            "Train Epoch: 8 [6400/60000 (11%)]\tLoss: 0.159967\n",
            "Train Epoch: 8 [12800/60000 (21%)]\tLoss: 0.428103\n",
            "Train Epoch: 8 [19200/60000 (32%)]\tLoss: 0.144173\n",
            "Train Epoch: 8 [25600/60000 (43%)]\tLoss: 0.145426\n",
            "Train Epoch: 8 [32000/60000 (53%)]\tLoss: 0.172866\n",
            "Train Epoch: 8 [38400/60000 (64%)]\tLoss: 0.396139\n",
            "Train Epoch: 8 [44800/60000 (75%)]\tLoss: 0.266070\n",
            "Train Epoch: 8 [51200/60000 (85%)]\tLoss: 0.137357\n",
            "Train Epoch: 8 [57600/60000 (96%)]\tLoss: 0.259771\n",
            "\n",
            "Test set: Average loss: 0.4891, Accuracy: 17329/20000 (87%)\n",
            "\n",
            "Train Epoch: 9 [0/60000 (0%)]\tLoss: 0.121199\n",
            "Train Epoch: 9 [6400/60000 (11%)]\tLoss: 0.095850\n",
            "Train Epoch: 9 [12800/60000 (21%)]\tLoss: 0.113069\n",
            "Train Epoch: 9 [19200/60000 (32%)]\tLoss: 0.225484\n",
            "Train Epoch: 9 [25600/60000 (43%)]\tLoss: 0.224295\n",
            "Train Epoch: 9 [32000/60000 (53%)]\tLoss: 0.132349\n",
            "Train Epoch: 9 [38400/60000 (64%)]\tLoss: 0.439417\n",
            "Train Epoch: 9 [44800/60000 (75%)]\tLoss: 0.451192\n",
            "Train Epoch: 9 [51200/60000 (85%)]\tLoss: 0.142774\n",
            "Train Epoch: 9 [57600/60000 (96%)]\tLoss: 0.196136\n"
          ],
          "name": "stdout"
        },
        {
          "output_type": "stream",
          "text": [
            "Exception ignored in: <bound method _DataLoaderIter.__del__ of <torch.utils.data.dataloader._DataLoaderIter object at 0x7f05c62e27b8>>\n",
            "Traceback (most recent call last):\n",
            "  File \"/usr/local/lib/python3.6/dist-packages/torch/utils/data/dataloader.py\", line 399, in __del__\n",
            "    self._shutdown_workers()\n",
            "  File \"/usr/local/lib/python3.6/dist-packages/torch/utils/data/dataloader.py\", line 378, in _shutdown_workers\n",
            "    self.worker_result_queue.get()\n",
            "  File \"/usr/lib/python3.6/multiprocessing/queues.py\", line 337, in get\n",
            "    return _ForkingPickler.loads(res)\n",
            "  File \"/usr/local/lib/python3.6/dist-packages/torch/multiprocessing/reductions.py\", line 151, in rebuild_storage_fd\n",
            "    fd = df.detach()\n",
            "  File \"/usr/lib/python3.6/multiprocessing/resource_sharer.py\", line 57, in detach\n",
            "    with _resource_sharer.get_connection(self._id) as conn:\n",
            "  File \"/usr/lib/python3.6/multiprocessing/resource_sharer.py\", line 87, in get_connection\n",
            "    c = Client(address, authkey=process.current_process().authkey)\n",
            "  File \"/usr/lib/python3.6/multiprocessing/connection.py\", line 494, in Client\n",
            "    deliver_challenge(c, authkey)\n",
            "  File \"/usr/lib/python3.6/multiprocessing/connection.py\", line 722, in deliver_challenge\n",
            "    response = connection.recv_bytes(256)        # reject large message\n",
            "  File \"/usr/lib/python3.6/multiprocessing/connection.py\", line 216, in recv_bytes\n",
            "    buf = self._recv_bytes(maxlength)\n",
            "  File \"/usr/lib/python3.6/multiprocessing/connection.py\", line 407, in _recv_bytes\n",
            "    buf = self._recv(4)\n",
            "  File \"/usr/lib/python3.6/multiprocessing/connection.py\", line 379, in _recv\n",
            "    chunk = read(handle, remaining)\n",
            "ConnectionResetError: [Errno 104] Connection reset by peer\n"
          ],
          "name": "stderr"
        },
        {
          "output_type": "stream",
          "text": [
            "\n",
            "Test set: Average loss: 0.4881, Accuracy: 17291/20000 (86%)\n",
            "\n",
            "Train Epoch: 10 [0/60000 (0%)]\tLoss: 0.131948\n",
            "Train Epoch: 10 [6400/60000 (11%)]\tLoss: 0.095247\n",
            "Train Epoch: 10 [12800/60000 (21%)]\tLoss: 0.202293\n",
            "Train Epoch: 10 [19200/60000 (32%)]\tLoss: 0.164696\n",
            "Train Epoch: 10 [25600/60000 (43%)]\tLoss: 0.220707\n",
            "Train Epoch: 10 [32000/60000 (53%)]\tLoss: 0.099386\n",
            "Train Epoch: 10 [38400/60000 (64%)]\tLoss: 0.078862\n",
            "Train Epoch: 10 [44800/60000 (75%)]\tLoss: 0.223349\n",
            "Train Epoch: 10 [51200/60000 (85%)]\tLoss: 0.230283\n",
            "Train Epoch: 10 [57600/60000 (96%)]\tLoss: 0.197928\n",
            "\n",
            "Test set: Average loss: 0.4653, Accuracy: 17482/20000 (87%)\n",
            "\n"
          ],
          "name": "stdout"
        }
      ]
    },
    {
      "metadata": {
        "id": "-O0rF7gxWI50",
        "colab_type": "code",
        "colab": {}
      },
      "cell_type": "code",
      "source": [
        "def testDomainModel(model_f, model_c, device, test_loader):\n",
        "  model_f.eval()\n",
        "  model_c.eval()\n",
        "  test_loss = 0\n",
        "  correct = 0\n",
        "  with torch.no_grad():\n",
        "    for data, labels in test_loader:\n",
        "      data, labels = data.to(device), labels.to(device)\n",
        "      output = model_c(model_f(data))\n",
        "      test_loss += criterion(output, labels, reduction='sum').item()\n",
        "      pred = output.max(1, keepdim=True)[1] \n",
        "      correct += pred.eq(labels.view_as(pred)).sum().item()\n",
        "\n",
        "  test_loss /= len(test_loader.dataset)\n",
        "  print('\\nTest set: Average loss: {:.4f}, Accuracy: {}/{} ({:.0f}%)\\n'.format(\n",
        "      test_loss, correct, len(test_loader.dataset),\n",
        "      100. * correct / len(test_loader.dataset)))"
      ],
      "execution_count": 0,
      "outputs": []
    },
    {
      "metadata": {
        "id": "nHeW62laD_yC",
        "colab_type": "code",
        "colab": {
          "base_uri": "https://localhost:8080/",
          "height": 68
        },
        "outputId": "e85fc779-f533-4055-aa6b-3220be46fc97"
      },
      "cell_type": "code",
      "source": [
        "testDomainModel(model_f, model_c, device, test_loader)"
      ],
      "execution_count": 125,
      "outputs": [
        {
          "output_type": "stream",
          "text": [
            "\n",
            "Test set: Average loss: 0.0597, Accuracy: 9810/10000 (98%)\n",
            "\n"
          ],
          "name": "stdout"
        }
      ]
    },
    {
      "metadata": {
        "id": "ZnYCgnpvEUtO",
        "colab_type": "code",
        "colab": {
          "base_uri": "https://localhost:8080/",
          "height": 384
        },
        "outputId": "bb5c7465-a7fb-4c21-b9ea-5ad0f08a7145"
      },
      "cell_type": "code",
      "source": [
        "print_img = 6\n",
        "fig = plt.figure()\n",
        "for sample in test_set:\n",
        "  inp = sample[0].unsqueeze(0)\n",
        "  out = model_c(model_f(inp.to(device))).max(1)[1][0]\n",
        "  if out != sample[1].to(device):\n",
        "\n",
        "    plt.subplot(2,3,7 - print_img)\n",
        "    plt.tight_layout()\n",
        "    image = sample[0]\n",
        "    image = image.numpy()\n",
        "    image = image * 0.3081 + 0.1307\n",
        "    plt.imshow(image.transpose(1,2,0), cmap='gray')\n",
        "    plt.title(\"Ground Truth: {} Pred: {}\".format(sample[1], out))\n",
        "    plt.xticks([])\n",
        "    plt.yticks([])\n",
        "    \n",
        "    print_img -= 1\n",
        "    if print_img == 0: break\n",
        "    "
      ],
      "execution_count": 129,
      "outputs": [
        {
          "output_type": "display_data",
          "data": {
            "image/png": "[encoded data removed]",
            "text/plain": [
              "<matplotlib.figure.Figure at 0x7f05a0742dd8>"
            ]
          },
          "metadata": {
            "tags": []
          }
        }
      ]
    },
    {
      "metadata": {
        "id": "NJ1ewETAEJfY",
        "colab_type": "code",
        "colab": {
          "base_uri": "https://localhost:8080/",
          "height": 68
        },
        "outputId": "26b2e983-3ab4-4771-b246-724451bd73c9"
      },
      "cell_type": "code",
      "source": [
        "testDomainModel(model_f, model_c, device, mnist_m_test_loader)"
      ],
      "execution_count": 126,
      "outputs": [
        {
          "output_type": "stream",
          "text": [
            "\n",
            "Test set: Average loss: 0.8710, Accuracy: 7672/10000 (77%)\n",
            "\n"
          ],
          "name": "stdout"
        }
      ]
    },
    {
      "metadata": {
        "id": "JInRMFesEf2F",
        "colab_type": "code",
        "colab": {
          "base_uri": "https://localhost:8080/",
          "height": 384
        },
        "outputId": "c893db17-71ee-4784-db99-c4e87f4defdd"
      },
      "cell_type": "code",
      "source": [
        "print_img = 6\n",
        "fig = plt.figure()\n",
        "for sample in mnist_m_test:\n",
        "  inp = sample[0].unsqueeze(0)\n",
        "  out = model_c(model_f(inp.to(device))).max(1)[1][0]\n",
        "  if out != sample[1].to(device):\n",
        "\n",
        "    plt.subplot(2,3,7 - print_img)\n",
        "    plt.tight_layout()\n",
        "    image = sample[0]\n",
        "    image = image.numpy()\n",
        "    image = image * 0.3081 + 0.1307\n",
        "    plt.imshow(image.transpose(1,2,0), cmap='gray')\n",
        "    plt.title(\"Ground Truth: {} Pred: {}\".format(sample[1], out))\n",
        "    plt.xticks([])\n",
        "    plt.yticks([])\n",
        "    \n",
        "    print_img -= 1\n",
        "    if print_img == 0: break"
      ],
      "execution_count": 130,
      "outputs": [
        {
          "output_type": "display_data",
          "data": {
            "image/png": "[encoded data removed]",
            "text/plain": [
              "<matplotlib.figure.Figure at 0x7f05a0806198>"
            ]
          },
          "metadata": {
            "tags": []
          }
        }
      ]
    },
    {
      "metadata": {
        "id": "Ohq1ooijEuM6",
        "colab_type": "code",
        "colab": {}
      },
      "cell_type": "code",
      "source": [
        ""
      ],
      "execution_count": 0,
      "outputs": []
    }
  ]
}
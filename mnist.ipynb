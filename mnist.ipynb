{
  "nbformat": 4,
  "nbformat_minor": 0,
  "metadata": {
    "colab": {
      "name": "mnist.ipynb",
      "version": "0.3.2",
      "provenance": [],
      "collapsed_sections": [],
      "toc_visible": true,
      "include_colab_link": true
    },
    "kernelspec": {
      "name": "python3",
      "display_name": "Python 3"
    },
    "accelerator": "GPU"
  },
  "cells": [
    {
      "cell_type": "markdown",
      "metadata": {
        "id": "view-in-github",
        "colab_type": "text"
      },
      "source": [
        "[View in Colaboratory](https://colab.research.google.com/github/wiatrak2/BScThesis/blob/master/mnist.ipynb)"
      ]
    },
    {
      "metadata": {
        "id": "6HZnglZEZtG4",
        "colab_type": "code",
        "colab": {
          "base_uri": "https://localhost:8080/",
          "height": 133
        },
        "outputId": "33560558-46d1-4d06-da88-8f6beaf41bf9"
      },
      "cell_type": "code",
      "source": [
        "!pip3 install torch torchvision"
      ],
      "execution_count": 81,
      "outputs": [
        {
          "output_type": "stream",
          "text": [
            "Requirement already satisfied: torch in /usr/local/lib/python3.6/dist-packages (0.4.1)\n",
            "Requirement already satisfied: torchvision in /usr/local/lib/python3.6/dist-packages (0.2.1)\n",
            "Requirement already satisfied: six in /usr/local/lib/python3.6/dist-packages (from torchvision) (1.11.0)\n",
            "Requirement already satisfied: pillow>=4.1.1 in /usr/local/lib/python3.6/dist-packages (from torchvision) (5.3.0)\n",
            "Requirement already satisfied: numpy in /usr/local/lib/python3.6/dist-packages (from torchvision) (1.14.6)\n"
          ],
          "name": "stdout"
        }
      ]
    },
    {
      "metadata": {
        "id": "rXP4GwZHZYLk",
        "colab_type": "code",
        "colab": {}
      },
      "cell_type": "code",
      "source": [
        "import numpy as np\n",
        "import torch\n",
        "import torch.nn as nn\n",
        "import torch.nn.functional as F\n",
        "import torch.optim as optim"
      ],
      "execution_count": 0,
      "outputs": []
    },
    {
      "metadata": {
        "id": "UNfT9MQmZcBu",
        "colab_type": "code",
        "colab": {}
      },
      "cell_type": "code",
      "source": [
        "import torchvision\n",
        "import torchvision.transforms as transforms"
      ],
      "execution_count": 0,
      "outputs": []
    },
    {
      "metadata": {
        "id": "bO_GcetxEshC",
        "colab_type": "code",
        "colab": {}
      },
      "cell_type": "code",
      "source": [
        "batch_size=64\n",
        "num_workers=1"
      ],
      "execution_count": 0,
      "outputs": []
    },
    {
      "metadata": {
        "id": "EJEy7VzQjnRo",
        "colab_type": "code",
        "colab": {}
      },
      "cell_type": "code",
      "source": [
        "def convertMnist(img):\n",
        "  img = img.squeeze().numpy()\n",
        "  img = np.array([img, img, img])\n",
        "  return torch.from_numpy(img)"
      ],
      "execution_count": 0,
      "outputs": []
    },
    {
      "metadata": {
        "id": "wV2owoYODr6X",
        "colab_type": "code",
        "colab": {}
      },
      "cell_type": "code",
      "source": [
        "transform=transforms.Compose([\n",
        "                           transforms.ToTensor(),\n",
        "                           transforms.Normalize((0.1307,), (0.3081,)),\n",
        "                           transforms.Lambda(convertMnist)\n",
        "                       ])\n",
        "\n",
        "train_set = torchvision.datasets.MNIST(root='./data', train=True, download=True,\n",
        "                                     transform=transform)\n",
        "train_loader = torch.utils.data.DataLoader(train_set, batch_size=batch_size,\n",
        "                                         shuffle=True, num_workers=num_workers)\n",
        "\n",
        "test_set = torchvision.datasets.MNIST(root='./data', train=False, download=True,\n",
        "                                     transform=transform)\n",
        "test_loader = torch.utils.data.DataLoader(test_set, batch_size=batch_size,\n",
        "                                         shuffle=False, num_workers=num_workers)\n"
      ],
      "execution_count": 0,
      "outputs": []
    },
    {
      "metadata": {
        "id": "Pzv8RO1sg9pB",
        "colab_type": "code",
        "colab": {}
      },
      "cell_type": "code",
      "source": [
        "def printMnist3D(image):\n",
        "  image = image.numpy()\n",
        "  image = image * 0.3081 + 0.1307\n",
        "  plt.imshow(image.transpose(1,2,0), cmap='gray')"
      ],
      "execution_count": 0,
      "outputs": []
    },
    {
      "metadata": {
        "id": "Gv4Fi3GAGh3j",
        "colab_type": "code",
        "colab": {
          "base_uri": "https://localhost:8080/",
          "height": 364
        },
        "outputId": "3cf48d62-9d0c-4af2-bfaa-a7b30973c50a"
      },
      "cell_type": "code",
      "source": [
        "import matplotlib.pyplot as plt\n",
        "\n",
        "trainiter = iter(train_loader)\n",
        "images, labels = trainiter.next()\n",
        "\n",
        "sample = images[0]\n",
        "printMnist3D(sample)\n",
        "print(labels[0].item())"
      ],
      "execution_count": 88,
      "outputs": [
        {
          "output_type": "stream",
          "text": [
            "0\n"
          ],
          "name": "stdout"
        },
        {
          "output_type": "display_data",
          "data": {
            "image/png": "[encoded data removed]",
            "text/plain": [
              "<matplotlib.figure.Figure at 0x7f1b6579cfd0>"
            ]
          },
          "metadata": {
            "tags": []
          }
        }
      ]
    },
    {
      "metadata": {
        "id": "pdFSLoXpFpUV",
        "colab_type": "code",
        "colab": {}
      },
      "cell_type": "code",
      "source": [
        "class MnistNET(nn.Module):\n",
        "  def __init__(self):\n",
        "    super(MnistNET, self).__init__()\n",
        "    self.conv1 = nn.Conv2d(3, 10, kernel_size=5)\n",
        "    self.conv2 = nn.Conv2d(10, 20, kernel_size=5)\n",
        "    self.conv2_drop = nn.Dropout2d()\n",
        "    self.fc1 = nn.Linear(320, 50)\n",
        "    self.fc2 = nn.Linear(50, 10)\n",
        "  def forward(self, x):\n",
        "    x = F.leaky_relu(F.max_pool2d(self.conv1(x), 2))\n",
        "    x = F.leaky_relu(F.max_pool2d(self.conv2_drop(self.conv2(x)), 2))\n",
        "    x = x.view(-1, 320)\n",
        "    x = F.leaky_relu(self.fc1(x))\n",
        "    x = F.dropout(x, training=self.training)\n",
        "    x = self.fc2(x)\n",
        "    return F.log_softmax(x, dim=1)    \n",
        "  "
      ],
      "execution_count": 0,
      "outputs": []
    },
    {
      "metadata": {
        "id": "nrfYSBracTNj",
        "colab_type": "code",
        "colab": {}
      },
      "cell_type": "code",
      "source": [
        "criterion = F.nll_loss"
      ],
      "execution_count": 0,
      "outputs": []
    },
    {
      "metadata": {
        "id": "1FTNw092conE",
        "colab_type": "code",
        "colab": {}
      },
      "cell_type": "code",
      "source": [
        "log_interval = 100\n",
        "epochs = 5\n",
        "use_cuda = True"
      ],
      "execution_count": 0,
      "outputs": []
    },
    {
      "metadata": {
        "id": "lgY552Rjboh7",
        "colab_type": "code",
        "colab": {}
      },
      "cell_type": "code",
      "source": [
        "def train(model, device, train_loader, optimizer, epoch):\n",
        "  model.train()\n",
        "  for batch_idx, (data, target) in enumerate(train_loader):\n",
        "    data, target = data.to(device), target.to(device)\n",
        "    optimizer.zero_grad()\n",
        "    output = model(data)\n",
        "    loss = criterion(output, target)\n",
        "    loss.backward()\n",
        "    optimizer.step()\n",
        "    if batch_idx % log_interval == 0:\n",
        "        print('Train Epoch: {} [{}/{} ({:.0f}%)]\\tLoss: {:.6f}'.format(\n",
        "            epoch, batch_idx * len(data), len(train_loader.dataset),\n",
        "            100. * batch_idx / len(train_loader), loss.item()))"
      ],
      "execution_count": 0,
      "outputs": []
    },
    {
      "metadata": {
        "id": "fLWongQbczXS",
        "colab_type": "code",
        "colab": {}
      },
      "cell_type": "code",
      "source": [
        "def test(model, device, test_loader):\n",
        "  model.eval()\n",
        "  test_loss = 0\n",
        "  correct = 0\n",
        "  with torch.no_grad():\n",
        "    for data, target in test_loader:\n",
        "      data, target = data.to(device), target.to(device)\n",
        "      output = model(data)\n",
        "      test_loss += criterion(output, target, reduction='sum').item()\n",
        "      pred = output.max(1, keepdim=True)[1] \n",
        "      correct += pred.eq(target.view_as(pred)).sum().item()\n",
        "\n",
        "  test_loss /= len(test_loader.dataset)\n",
        "  print('\\nTest set: Average loss: {:.4f}, Accuracy: {}/{} ({:.0f}%)\\n'.format(\n",
        "      test_loss, correct, len(test_loader.dataset),\n",
        "      100. * correct / len(test_loader.dataset)))"
      ],
      "execution_count": 0,
      "outputs": []
    },
    {
      "metadata": {
        "id": "FzAkntIwdUCM",
        "colab_type": "code",
        "colab": {}
      },
      "cell_type": "code",
      "source": [
        "use_cuda = use_cuda and torch.cuda.is_available()\n",
        "device = torch.device(\"cuda\" if use_cuda else \"cpu\")"
      ],
      "execution_count": 0,
      "outputs": []
    },
    {
      "metadata": {
        "id": "8y1y2YJ0dt9i",
        "colab_type": "code",
        "colab": {}
      },
      "cell_type": "code",
      "source": [
        "lr = 0.01\n",
        "momentum=0.9"
      ],
      "execution_count": 0,
      "outputs": []
    },
    {
      "metadata": {
        "id": "dnJSFyF_dfL6",
        "colab_type": "code",
        "colab": {}
      },
      "cell_type": "code",
      "source": [
        "model = MnistNET().to(device)\n",
        "optimizer = optim.SGD(model.parameters(), lr=lr, momentum=momentum)"
      ],
      "execution_count": 0,
      "outputs": []
    },
    {
      "metadata": {
        "id": "3xyJMdhKd4d2",
        "colab_type": "code",
        "colab": {
          "base_uri": "https://localhost:8080/",
          "height": 1122
        },
        "outputId": "2feacb8f-3633-4513-ca52-be45fc5c1c88"
      },
      "cell_type": "code",
      "source": [
        "for epoch in range(1, epochs+1):\n",
        "  train(model, device, train_loader, optimizer, epoch)\n",
        "  test(model, device, test_loader)"
      ],
      "execution_count": 97,
      "outputs": [
        {
          "output_type": "stream",
          "text": [
            "Train Epoch: 1 [0/60000 (0%)]\tLoss: 2.351737\n",
            "Train Epoch: 1 [6400/60000 (11%)]\tLoss: 0.728377\n",
            "Train Epoch: 1 [12800/60000 (21%)]\tLoss: 0.440051\n",
            "Train Epoch: 1 [19200/60000 (32%)]\tLoss: 0.515165\n",
            "Train Epoch: 1 [25600/60000 (43%)]\tLoss: 0.328663\n",
            "Train Epoch: 1 [32000/60000 (53%)]\tLoss: 0.448558\n",
            "Train Epoch: 1 [38400/60000 (64%)]\tLoss: 0.328686\n",
            "Train Epoch: 1 [44800/60000 (75%)]\tLoss: 0.248726\n",
            "Train Epoch: 1 [51200/60000 (85%)]\tLoss: 0.188571\n",
            "Train Epoch: 1 [57600/60000 (96%)]\tLoss: 0.342227\n",
            "\n",
            "Test set: Average loss: 0.0963, Accuracy: 9702/10000 (97%)\n",
            "\n",
            "Train Epoch: 2 [0/60000 (0%)]\tLoss: 0.271865\n",
            "Train Epoch: 2 [6400/60000 (11%)]\tLoss: 0.183371\n",
            "Train Epoch: 2 [12800/60000 (21%)]\tLoss: 0.149252\n",
            "Train Epoch: 2 [19200/60000 (32%)]\tLoss: 0.280538\n",
            "Train Epoch: 2 [25600/60000 (43%)]\tLoss: 0.282320\n",
            "Train Epoch: 2 [32000/60000 (53%)]\tLoss: 0.401330\n",
            "Train Epoch: 2 [38400/60000 (64%)]\tLoss: 0.253120\n",
            "Train Epoch: 2 [44800/60000 (75%)]\tLoss: 0.377230\n",
            "Train Epoch: 2 [51200/60000 (85%)]\tLoss: 0.067913\n",
            "Train Epoch: 2 [57600/60000 (96%)]\tLoss: 0.282614\n",
            "\n",
            "Test set: Average loss: 0.0635, Accuracy: 9806/10000 (98%)\n",
            "\n",
            "Train Epoch: 3 [0/60000 (0%)]\tLoss: 0.113073\n",
            "Train Epoch: 3 [6400/60000 (11%)]\tLoss: 0.152448\n",
            "Train Epoch: 3 [12800/60000 (21%)]\tLoss: 0.208941\n",
            "Train Epoch: 3 [19200/60000 (32%)]\tLoss: 0.115015\n",
            "Train Epoch: 3 [25600/60000 (43%)]\tLoss: 0.111702\n",
            "Train Epoch: 3 [32000/60000 (53%)]\tLoss: 0.117985\n",
            "Train Epoch: 3 [38400/60000 (64%)]\tLoss: 0.128371\n",
            "Train Epoch: 3 [44800/60000 (75%)]\tLoss: 0.044701\n",
            "Train Epoch: 3 [51200/60000 (85%)]\tLoss: 0.373564\n",
            "Train Epoch: 3 [57600/60000 (96%)]\tLoss: 0.299988\n",
            "\n",
            "Test set: Average loss: 0.0643, Accuracy: 9804/10000 (98%)\n",
            "\n",
            "Train Epoch: 4 [0/60000 (0%)]\tLoss: 0.147640\n",
            "Train Epoch: 4 [6400/60000 (11%)]\tLoss: 0.121971\n",
            "Train Epoch: 4 [12800/60000 (21%)]\tLoss: 0.170572\n",
            "Train Epoch: 4 [19200/60000 (32%)]\tLoss: 0.196050\n",
            "Train Epoch: 4 [25600/60000 (43%)]\tLoss: 0.105209\n",
            "Train Epoch: 4 [32000/60000 (53%)]\tLoss: 0.105930\n",
            "Train Epoch: 4 [38400/60000 (64%)]\tLoss: 0.296378\n",
            "Train Epoch: 4 [44800/60000 (75%)]\tLoss: 0.186552\n",
            "Train Epoch: 4 [51200/60000 (85%)]\tLoss: 0.194614\n",
            "Train Epoch: 4 [57600/60000 (96%)]\tLoss: 0.229123\n",
            "\n",
            "Test set: Average loss: 0.0637, Accuracy: 9814/10000 (98%)\n",
            "\n",
            "Train Epoch: 5 [0/60000 (0%)]\tLoss: 0.087860\n",
            "Train Epoch: 5 [6400/60000 (11%)]\tLoss: 0.196640\n",
            "Train Epoch: 5 [12800/60000 (21%)]\tLoss: 0.050359\n",
            "Train Epoch: 5 [19200/60000 (32%)]\tLoss: 0.367267\n",
            "Train Epoch: 5 [25600/60000 (43%)]\tLoss: 0.337070\n",
            "Train Epoch: 5 [32000/60000 (53%)]\tLoss: 0.198275\n",
            "Train Epoch: 5 [38400/60000 (64%)]\tLoss: 0.165278\n",
            "Train Epoch: 5 [44800/60000 (75%)]\tLoss: 0.124289\n",
            "Train Epoch: 5 [51200/60000 (85%)]\tLoss: 0.158967\n",
            "Train Epoch: 5 [57600/60000 (96%)]\tLoss: 0.068122\n",
            "\n",
            "Test set: Average loss: 0.0510, Accuracy: 9837/10000 (98%)\n",
            "\n"
          ],
          "name": "stdout"
        }
      ]
    },
    {
      "metadata": {
        "id": "FZern7T4oSS5",
        "colab_type": "code",
        "colab": {}
      },
      "cell_type": "code",
      "source": [
        "def printIncorrect(model, set):\n",
        "  print_img = 6\n",
        "  fig = plt.figure()\n",
        "  for sample in set:\n",
        "    inp = sample[0].unsqueeze(0)\n",
        "    out = model(inp.to(device)).max(1)[1][0]\n",
        "    if out != sample[1].to(device):\n",
        "\n",
        "      plt.subplot(2,3,7 - print_img)\n",
        "      plt.tight_layout()\n",
        "      image = sample[0]\n",
        "      image = image.numpy()\n",
        "      image = image * 0.3081 + 0.1307\n",
        "      plt.imshow(image.transpose(1,2,0), cmap='gray')\n",
        "      plt.title(\"Ground Truth: {} Pred: {}\".format(sample[1], out))\n",
        "      plt.xticks([])\n",
        "      plt.yticks([])\n",
        "\n",
        "      print_img -= 1\n",
        "      if print_img == 0: break\n",
        "\n"
      ],
      "execution_count": 0,
      "outputs": []
    },
    {
      "metadata": {
        "id": "hiaxEEMwHNRU",
        "colab_type": "code",
        "colab": {
          "base_uri": "https://localhost:8080/",
          "height": 384
        },
        "outputId": "2d458b22-51c3-457e-b0f8-7549179fcd94"
      },
      "cell_type": "code",
      "source": [
        "printIncorrect(model, test_set)"
      ],
      "execution_count": 99,
      "outputs": [
        {
          "output_type": "display_data",
          "data": {
            "image/png": "[encoded data removed]",
            "text/plain": [
              "<matplotlib.figure.Figure at 0x7f1b8af5f9b0>"
            ]
          },
          "metadata": {
            "tags": []
          }
        }
      ]
    },
    {
      "metadata": {
        "id": "xovDxj4lGDpa",
        "colab_type": "code",
        "colab": {
          "base_uri": "https://localhost:8080/",
          "height": 34
        },
        "outputId": "ed1367b4-ad65-4912-ea17-9f7904f4754d"
      },
      "cell_type": "code",
      "source": [
        "from google.colab import drive\n",
        "drive.mount('/content/drive')"
      ],
      "execution_count": 100,
      "outputs": [
        {
          "output_type": "stream",
          "text": [
            "Mounted at /content/drive\n"
          ],
          "name": "stdout"
        }
      ]
    },
    {
      "metadata": {
        "id": "2T58UelKGYq6",
        "colab_type": "code",
        "colab": {}
      },
      "cell_type": "code",
      "source": [
        "!ls \"drive/My Drive\""
      ],
      "execution_count": 0,
      "outputs": []
    },
    {
      "metadata": {
        "id": "CtIbOwfLHECn",
        "colab_type": "code",
        "colab": {}
      },
      "cell_type": "code",
      "source": [
        "import pickle"
      ],
      "execution_count": 0,
      "outputs": []
    },
    {
      "metadata": {
        "id": "Q5QSJjOxUo55",
        "colab_type": "code",
        "colab": {}
      },
      "cell_type": "code",
      "source": [
        "class Mnist_M(torch.utils.data.Dataset):\n",
        "  \n",
        "  def __init__(self, train=True, transform=None):\n",
        "    \n",
        "    self.train = train\n",
        "    self.transform = transform\n",
        "    \n",
        "    with open('drive/My Drive/keras_mnistm.pkl', 'rb') as mnist_m:\n",
        "      mnist_m_data = pickle.load(mnist_m, encoding='bytes')\n",
        "    mnist_m_train_data = torch.ByteTensor(mnist_m_data[b'train'])\n",
        "    mnist_m_test_data = torch.ByteTensor(mnist_m_data[b'test'])\n",
        "    if train:\n",
        "      mnist_m_train_labels = torchvision.datasets.MNIST(\n",
        "          root='./data', train=True, download=True).train_labels\n",
        "      self.mnist_m_set = list(zip(mnist_m_train_data, mnist_m_train_labels))\n",
        "    else:\n",
        "      mnist_m_test_labels = torchvision.datasets.MNIST(\n",
        "          root='./data', train=False, download=True).test_labels\n",
        "      self.mnist_m_set = list(zip(mnist_m_test_data, mnist_m_test_labels))\n",
        "    self.len = len(self.mnist_m_set)\n",
        "  \n",
        "  def __len__(self):\n",
        "    return self.len\n",
        "  \n",
        "  def __getitem__(self, index):\n",
        "    label = self.mnist_m_set[index][1]\n",
        "    sample = self.mnist_m_set[index][0].permute(2,0,1).float()\n",
        "    sample = sample / 255\n",
        "    \n",
        "    if self.transform: \n",
        "      #sample = self.transform(sample)\n",
        "      sample = (sample - 0.1307) / 0.3081\n",
        "      \n",
        "    return (sample, label)"
      ],
      "execution_count": 0,
      "outputs": []
    },
    {
      "metadata": {
        "id": "_OTdSAPfbGx-",
        "colab_type": "code",
        "colab": {}
      },
      "cell_type": "code",
      "source": [
        "mnist_m_transform = transforms.Compose([\n",
        "                           transforms.Normalize((0.1307,), (0.3081,)),\n",
        "                       ])\n",
        "mnist_m_train = Mnist_M(transform=mnist_m_transform)\n",
        "mnist_m_test = Mnist_M(train=False,\n",
        "                     transform=mnist_m_transform)\n",
        "mnist_m_train_loader = torch.utils.data.DataLoader(mnist_m_train, \n",
        "                                                   batch_size=batch_size,\n",
        "                                         shuffle=True, num_workers=num_workers)\n",
        "mnist_m_test_loader = torch.utils.data.DataLoader(mnist_m_test,\n",
        "                                                  batch_size=batch_size,\n",
        "                                         shuffle=False, num_workers=num_workers)\n"
      ],
      "execution_count": 0,
      "outputs": []
    },
    {
      "metadata": {
        "id": "Kbe2O3dmdfGS",
        "colab_type": "code",
        "colab": {
          "base_uri": "https://localhost:8080/",
          "height": 364
        },
        "outputId": "f12a8121-a458-45d3-ba8f-db80f6e1a389"
      },
      "cell_type": "code",
      "source": [
        "trainiter = iter(mnist_m_train_loader)\n",
        "images, labels = trainiter.next()\n",
        "printMnist3D(images[0])\n",
        "print(labels[0])"
      ],
      "execution_count": 105,
      "outputs": [
        {
          "output_type": "stream",
          "text": [
            "tensor(6)\n"
          ],
          "name": "stdout"
        },
        {
          "output_type": "display_data",
          "data": {
            "image/png": "[encoded data removed]",
            "text/plain": [
              "<matplotlib.figure.Figure at 0x7f1b65660ef0>"
            ]
          },
          "metadata": {
            "tags": []
          }
        }
      ]
    },
    {
      "metadata": {
        "id": "u6AGVJbXY3XK",
        "colab_type": "code",
        "colab": {
          "base_uri": "https://localhost:8080/",
          "height": 68
        },
        "outputId": "dea9b50b-4ee1-44de-c970-ee1ed5d21cea"
      },
      "cell_type": "code",
      "source": [
        "test(model, device, mnist_m_test_loader)"
      ],
      "execution_count": 106,
      "outputs": [
        {
          "output_type": "stream",
          "text": [
            "\n",
            "Test set: Average loss: 1.4686, Accuracy: 5143/10000 (51%)\n",
            "\n"
          ],
          "name": "stdout"
        }
      ]
    },
    {
      "metadata": {
        "id": "ZEez9Cb7emPR",
        "colab_type": "code",
        "colab": {
          "base_uri": "https://localhost:8080/",
          "height": 384
        },
        "outputId": "5ca07f66-8999-43b4-deec-20cd8314cf1e"
      },
      "cell_type": "code",
      "source": [
        "printIncorrect(model, mnist_m_test)"
      ],
      "execution_count": 107,
      "outputs": [
        {
          "output_type": "display_data",
          "data": {
            "image/png": "[encoded data removed]",
            "text/plain": [
              "<matplotlib.figure.Figure at 0x7f1bcd8f4a90>"
            ]
          },
          "metadata": {
            "tags": []
          }
        }
      ]
    },
    {
      "metadata": {
        "id": "in4wjnoU9lnb",
        "colab_type": "code",
        "colab": {}
      },
      "cell_type": "code",
      "source": [
        "class Mnist_Ext(torch.utils.data.Dataset):\n",
        "  def __init__(self, datasets):\n",
        "    self.datasets = datasets\n",
        "    self.lengths = [len(ds) for ds in datasets]\n",
        "    self.offsets = np.cumsum(self.lengths)\n",
        "    self.len = np.sum(self.lengths)\n",
        "    \n",
        "  def __len__(self):\n",
        "    return self.len\n",
        "  \n",
        "  def __getitem__(self, index):\n",
        "    for dset_num, dset_offset in enumerate(self.offsets):\n",
        "      if index < dset_offset:\n",
        "        index -= np.append([0], self.offsets)[dset_num]\n",
        "        sample, label = self.datasets[dset_num][index]\n",
        "        domain = torch.tensor(dset_num).float()\n",
        "        return (sample, (label, domain))\n",
        "  "
      ],
      "execution_count": 0,
      "outputs": []
    },
    {
      "metadata": {
        "id": "FHyl40CC_BF7",
        "colab_type": "code",
        "colab": {}
      },
      "cell_type": "code",
      "source": [
        "mnist_ext_train = Mnist_Ext([train_set, mnist_m_train])\n",
        "mnist_ext_test = Mnist_Ext([test_set, mnist_m_test])\n",
        "mnist_ext_train_loader = torch.utils.data.DataLoader(mnist_ext_train, \n",
        "                                                   batch_size=batch_size,\n",
        "                                         shuffle=True, num_workers=num_workers)\n",
        "mnist_ext_test_loader = torch.utils.data.DataLoader(mnist_ext_test, \n",
        "                                                   batch_size=batch_size,\n",
        "                                         shuffle=True, num_workers=num_workers)\n",
        "\n"
      ],
      "execution_count": 0,
      "outputs": []
    },
    {
      "metadata": {
        "id": "dUsdgDM_EtJ5",
        "colab_type": "code",
        "colab": {
          "base_uri": "https://localhost:8080/",
          "height": 364
        },
        "outputId": "5a006bf4-d517-4856-ba35-ef3a36305d93"
      },
      "cell_type": "code",
      "source": [
        "trainiter = iter(mnist_ext_train_loader)\n",
        "images, labels = trainiter.next()\n",
        "labels = torch.tensor(list(zip(labels[0], labels[1])))\n",
        "printMnist3D(images[0])\n",
        "print(labels[0])"
      ],
      "execution_count": 110,
      "outputs": [
        {
          "output_type": "stream",
          "text": [
            "tensor([0., 1.])\n"
          ],
          "name": "stdout"
        },
        {
          "output_type": "display_data",
          "data": {
            "image/png": "[encoded data removed]",
            "text/plain": [
              "<matplotlib.figure.Figure at 0x7f1b6566ac50>"
            ]
          },
          "metadata": {
            "tags": []
          }
        }
      ]
    },
    {
      "metadata": {
        "id": "L8-yi_xpUm3t",
        "colab_type": "code",
        "colab": {
          "base_uri": "https://localhost:8080/",
          "height": 34
        },
        "outputId": "32ee36b7-2ff6-4e60-ed9a-6dd583839dbf"
      },
      "cell_type": "code",
      "source": [
        "train_loader.dataset.__len__()"
      ],
      "execution_count": 111,
      "outputs": [
        {
          "output_type": "execute_result",
          "data": {
            "text/plain": [
              "60000"
            ]
          },
          "metadata": {
            "tags": []
          },
          "execution_count": 111
        }
      ]
    },
    {
      "metadata": {
        "id": "a2ehvBCle7iq",
        "colab_type": "code",
        "colab": {}
      },
      "cell_type": "code",
      "source": [
        "class GradReverse(torch.autograd.Function):\n",
        "    def __init__(self, lambd=1.):\n",
        "      self.lambd = lambd\n",
        "    \n",
        "    def forward(self, x):\n",
        "        return x.view_as(x)\n",
        "\n",
        "    def backward(self, grad_output):\n",
        "        return (grad_output * -self.lambd)\n",
        "\n",
        "def grad_reverse(x, lambd):\n",
        "    return GradReverse(lambd)(x)"
      ],
      "execution_count": 0,
      "outputs": []
    },
    {
      "metadata": {
        "id": "I3LNIeZbx-Gi",
        "colab_type": "code",
        "colab": {}
      },
      "cell_type": "code",
      "source": [
        "class MnistDomain(nn.Module):\n",
        "  def __init__(self):\n",
        "    super(MnistDomain, self).__init__()\n",
        "    self.fc1 = nn.Linear(320, 100)\n",
        "    self.fc2 = nn.Linear(100, 1)\n",
        "\n",
        "  def forward(self, x, lambd=1.):\n",
        "    x = grad_reverse(x, lambd)\n",
        "    x = F.leaky_relu(self.fc1(x))\n",
        "    x = F.dropout(x, training=self.training)\n",
        "    x = self.fc2(x)\n",
        "    return torch.sigmoid(x)\n",
        "    "
      ],
      "execution_count": 0,
      "outputs": []
    },
    {
      "metadata": {
        "id": "ltFDl3rN6-_u",
        "colab_type": "code",
        "colab": {}
      },
      "cell_type": "code",
      "source": [
        "class MnistFeatureExtractor(nn.Module):\n",
        "  def __init__(self):\n",
        "    super(MnistFeatureExtractor, self).__init__()\n",
        "    self.conv1 = nn.Conv2d(3, 10, kernel_size=5)\n",
        "    self.conv2 = nn.Conv2d(10, 20, kernel_size=5)\n",
        "    self.conv2_drop = nn.Dropout2d()\n",
        "  def forward(self, x):\n",
        "    x = F.leaky_relu(F.max_pool2d(self.conv1(x), 2))\n",
        "    x = F.leaky_relu(F.max_pool2d(self.conv2_drop(self.conv2(x)), 2))\n",
        "    return x.view(-1, 320) "
      ],
      "execution_count": 0,
      "outputs": []
    },
    {
      "metadata": {
        "id": "AGYgmKUvAwHz",
        "colab_type": "code",
        "colab": {}
      },
      "cell_type": "code",
      "source": [
        "class MnistClassPredictor(nn.Module):\n",
        "  def __init__(self):\n",
        "    super(MnistClassPredictor, self).__init__()\n",
        "    self.fc1 = nn.Linear(320, 50)\n",
        "    self.fc2 = nn.Linear(50, 10)\n",
        "  def forward(self, x):\n",
        "    x = F.leaky_relu(self.fc1(x))\n",
        "    x = F.dropout(x, training=self.training)\n",
        "    x = self.fc2(x)\n",
        "    return F.log_softmax(x, dim=1)    "
      ],
      "execution_count": 0,
      "outputs": []
    },
    {
      "metadata": {
        "id": "z11N2hmNOkEe",
        "colab_type": "code",
        "colab": {}
      },
      "cell_type": "code",
      "source": [
        "criterion = F.nll_loss\n",
        "criterion_domain = F.binary_cross_entropy"
      ],
      "execution_count": 0,
      "outputs": []
    },
    {
      "metadata": {
        "id": "iRz3kir3A_Aa",
        "colab_type": "code",
        "colab": {}
      },
      "cell_type": "code",
      "source": [
        "def trainWithDomain(model_f, model_c, model_d, device, train_loader_class, \n",
        "                    train_loader_domain, optim_f, optim_c, optim_d, \n",
        "                    epoch, epochs, use_lambd=True, train_domain=True):\n",
        "  model_f.train()\n",
        "  model_c.train()\n",
        "  model_d.train()\n",
        "  if train_domain:\n",
        "    domain_iter = iter(train_loader_domain)\n",
        "  lambd = -1.\n",
        "  batch_num = len(train_loader.dataset) / train_loader.batch_size\n",
        "  for batch_idx, (data, labels) in enumerate(train_loader):\n",
        "    \n",
        "    p = ((epoch-1) * batch_num + batch_idx) / (epochs * batch_num)\n",
        "    lr = 0.01 / (1. + 10. * p)**0.75\n",
        "    optim_f.lr = lr\n",
        "    optim_c.lr = lr\n",
        "    optim_d.lr = lr\n",
        "    \n",
        "    data = data.to(device)\n",
        "    labels = labels.to(device)\n",
        "    optim_f.zero_grad()\n",
        "    optim_c.zero_grad()\n",
        "    output = model_c(model_f(data))\n",
        "    loss = criterion(output, labels)\n",
        "    loss.backward()\n",
        "    \n",
        "    optim_f.step()\n",
        "    optim_c.step()\n",
        "    if train_domain:\n",
        "      data, (_, domains) = domain_iter.next()\n",
        "      data, domains = data.to(device), domains.unsqueeze(1).to(device)\n",
        "      optim_f.zero_grad()\n",
        "      optim_d.zero_grad()\n",
        "      \n",
        "      if use_lambd:\n",
        "        lambd = 2. / (1. + np.exp(-10. * p)) - 1.   \n",
        "      else:\n",
        "        lambd = 1.\n",
        "      output = model_d(model_f(data), lambd)\n",
        "      loss_domain = criterion_domain(output, domains)\n",
        "      loss_domain.backward()\n",
        "      optim_f.step()\n",
        "      optim_d.step()\n",
        "    \n",
        "    if batch_idx % log_interval == 0:\n",
        "        print('Train Epoch: \\\n",
        "              {} [{}/{} ({:.0f}%)]\\tLoss: {:.6f}, lr: {:.5f} lambd: {:.5f}'\n",
        "            .format(epoch, batch_idx * len(data), len(train_loader.dataset),\n",
        "            100. * batch_idx / len(train_loader), loss.item(), lr, lambd))"
      ],
      "execution_count": 0,
      "outputs": []
    },
    {
      "metadata": {
        "id": "q3m1CsTvC10c",
        "colab_type": "code",
        "colab": {}
      },
      "cell_type": "code",
      "source": [
        "def testWithDomain(model_f, model_c, model_d, device, test_loader):\n",
        "  model_f.eval()\n",
        "  model_c.eval()\n",
        "  test_loss = 0\n",
        "  correct = 0\n",
        "  domainsCorrect = 0\n",
        "  with torch.no_grad():\n",
        "    for data, target in test_loader:\n",
        "      data = data.to(device)\n",
        "      labels, domains = target\n",
        "      labels, domains = labels.to(device), domains.to(device)\n",
        "      output = model_c(model_f(data))\n",
        "      test_loss += criterion(output, labels, reduction='sum').item()\n",
        "      pred = output.max(1, keepdim=True)[1] \n",
        "      correct += pred.eq(labels.view_as(pred)).sum().item()\n",
        "      \n",
        "      domainsOut = model_d(model_f(data))\n",
        "      domainsPred = (domainsOut >= 0.5).float()\n",
        "      domainsCorrect += domainsPred.eq(domains.view_as(domainsPred)).sum().item()\n",
        "      \n",
        "  test_loss /= len(test_loader.dataset)\n",
        "  print('\\nTest set: Average loss: {:.4f}, Accuracy: {}/{} ({:.0f}%)'.format(\n",
        "      test_loss, correct, len(test_loader.dataset),\n",
        "      100. * correct / len(test_loader.dataset)))\n",
        "  print('\\nDomains: Test set:  Accuracy: {}/{} ({:.0f}%)\\n'.format(\n",
        "      domainsCorrect, len(test_loader.dataset),\n",
        "      100. * domainsCorrect / len(test_loader.dataset)))"
      ],
      "execution_count": 0,
      "outputs": []
    },
    {
      "metadata": {
        "id": "Gi495iqhDD0_",
        "colab_type": "code",
        "colab": {}
      },
      "cell_type": "code",
      "source": [
        "model_f = MnistFeatureExtractor().to(device)\n",
        "model_c = MnistClassPredictor().to(device)\n",
        "model_d = MnistDomain().to(device)\n",
        "optim_f = optim.SGD(model_f.parameters(), lr=lr, momentum=momentum)\n",
        "optim_c = optim.SGD(model_c.parameters(), lr=lr, momentum=momentum)\n",
        "optim_d = optim.SGD(model_d.parameters(), lr=lr, momentum=momentum)\n"
      ],
      "execution_count": 0,
      "outputs": []
    },
    {
      "metadata": {
        "id": "_omFSxWaOm8i",
        "colab_type": "code",
        "colab": {}
      },
      "cell_type": "code",
      "source": [
        "epochs=10"
      ],
      "execution_count": 0,
      "outputs": []
    },
    {
      "metadata": {
        "id": "fp4hXCAwDpPh",
        "colab_type": "code",
        "colab": {
          "base_uri": "https://localhost:8080/",
          "height": 3706
        },
        "outputId": "d0ea3c51-d98f-48e8-ca51-a4548c6b0b44"
      },
      "cell_type": "code",
      "source": [
        "for epoch in range(1, epochs+1):\n",
        "  trainWithDomain(model_f, model_c, model_d, device,train_loader,\n",
        "                  mnist_ext_train_loader, optim_f, optim_c,\n",
        "                  optim_d, epoch, epochs, train_domain=True)\n",
        "  testWithDomain(model_f, model_c, model_d, device, mnist_ext_test_loader)"
      ],
      "execution_count": 184,
      "outputs": [
        {
          "output_type": "stream",
          "text": [
            "Train Epoch:               1 [0/60000 (0%)]\tLoss: 0.089207, lr: 0.01000 lambd: 0.00000\n",
            "Train Epoch:               1 [6400/60000 (11%)]\tLoss: 0.175256, lr: 0.00927 lambd: 0.05328\n",
            "Train Epoch:               1 [12800/60000 (21%)]\tLoss: 0.097764, lr: 0.00865 lambd: 0.10626\n",
            "Train Epoch:               1 [19200/60000 (32%)]\tLoss: 0.142625, lr: 0.00812 lambd: 0.15865\n",
            "Train Epoch:               1 [25600/60000 (43%)]\tLoss: 0.081595, lr: 0.00766 lambd: 0.21015\n",
            "Train Epoch:               1 [32000/60000 (53%)]\tLoss: 0.129095, lr: 0.00726 lambd: 0.26052\n",
            "Train Epoch:               1 [38400/60000 (64%)]\tLoss: 0.117008, lr: 0.00690 lambd: 0.30951\n",
            "Train Epoch:               1 [44800/60000 (75%)]\tLoss: 0.137979, lr: 0.00658 lambd: 0.35690\n",
            "Train Epoch:               1 [51200/60000 (85%)]\tLoss: 0.072297, lr: 0.00630 lambd: 0.40253\n",
            "Train Epoch:               1 [57600/60000 (96%)]\tLoss: 0.128579, lr: 0.00604 lambd: 0.44624\n",
            "\n",
            "Test set: Average loss: 0.6925, Accuracy: 15501/20000 (78%)\n",
            "\n",
            "Domains: Test set:  Accuracy: 15996/20000 (80%)\n",
            "\n",
            "Train Epoch:               2 [0/60000 (0%)]\tLoss: 0.382987, lr: 0.00595 lambd: 0.46212\n",
            "Train Epoch:               2 [6400/60000 (11%)]\tLoss: 0.184501, lr: 0.00572 lambd: 0.50301\n",
            "Train Epoch:               2 [12800/60000 (21%)]\tLoss: 0.315442, lr: 0.00551 lambd: 0.54178\n",
            "Train Epoch:               2 [19200/60000 (32%)]\tLoss: 0.295751, lr: 0.00532 lambd: 0.57836\n",
            "Train Epoch:               2 [25600/60000 (43%)]\tLoss: 0.450133, lr: 0.00514 lambd: 0.61276\n",
            "Train Epoch:               2 [32000/60000 (53%)]\tLoss: 0.401240, lr: 0.00498 lambd: 0.64499\n",
            "Train Epoch:               2 [38400/60000 (64%)]\tLoss: 0.160530, lr: 0.00483 lambd: 0.67507\n",
            "Train Epoch:               2 [44800/60000 (75%)]\tLoss: 0.239901, lr: 0.00469 lambd: 0.70306\n",
            "Train Epoch:               2 [51200/60000 (85%)]\tLoss: 0.347972, lr: 0.00455 lambd: 0.72904\n",
            "Train Epoch:               2 [57600/60000 (96%)]\tLoss: 0.167682, lr: 0.00443 lambd: 0.75307\n"
          ],
          "name": "stdout"
        },
        {
          "output_type": "stream",
          "text": [
            "Exception ignored in: <bound method _DataLoaderIter.__del__ of <torch.utils.data.dataloader._DataLoaderIter object at 0x7f1b76f80d30>>\n",
            "Traceback (most recent call last):\n",
            "  File \"/usr/local/lib/python3.6/dist-packages/torch/utils/data/dataloader.py\", line 399, in __del__\n",
            "    self._shutdown_workers()\n",
            "  File \"/usr/local/lib/python3.6/dist-packages/torch/utils/data/dataloader.py\", line 378, in _shutdown_workers\n",
            "    self.worker_result_queue.get()\n",
            "  File \"/usr/lib/python3.6/multiprocessing/queues.py\", line 337, in get\n",
            "    return _ForkingPickler.loads(res)\n",
            "  File \"/usr/local/lib/python3.6/dist-packages/torch/multiprocessing/reductions.py\", line 151, in rebuild_storage_fd\n",
            "    fd = df.detach()\n",
            "  File \"/usr/lib/python3.6/multiprocessing/resource_sharer.py\", line 57, in detach\n",
            "    with _resource_sharer.get_connection(self._id) as conn:\n",
            "  File \"/usr/lib/python3.6/multiprocessing/resource_sharer.py\", line 87, in get_connection\n",
            "    c = Client(address, authkey=process.current_process().authkey)\n",
            "  File \"/usr/lib/python3.6/multiprocessing/connection.py\", line 494, in Client\n",
            "    deliver_challenge(c, authkey)\n",
            "  File \"/usr/lib/python3.6/multiprocessing/connection.py\", line 722, in deliver_challenge\n",
            "    response = connection.recv_bytes(256)        # reject large message\n",
            "  File \"/usr/lib/python3.6/multiprocessing/connection.py\", line 216, in recv_bytes\n",
            "    buf = self._recv_bytes(maxlength)\n",
            "  File \"/usr/lib/python3.6/multiprocessing/connection.py\", line 407, in _recv_bytes\n",
            "    buf = self._recv(4)\n",
            "  File \"/usr/lib/python3.6/multiprocessing/connection.py\", line 379, in _recv\n",
            "    chunk = read(handle, remaining)\n",
            "ConnectionResetError: [Errno 104] Connection reset by peer\n"
          ],
          "name": "stderr"
        },
        {
          "output_type": "stream",
          "text": [
            "\n",
            "Test set: Average loss: 0.7220, Accuracy: 16231/20000 (81%)\n",
            "\n",
            "Domains: Test set:  Accuracy: 11761/20000 (59%)\n",
            "\n",
            "Train Epoch:               3 [0/60000 (0%)]\tLoss: 0.123557, lr: 0.00439 lambd: 0.76159\n",
            "Train Epoch:               3 [6400/60000 (11%)]\tLoss: 0.132181, lr: 0.00427 lambd: 0.78310\n",
            "Train Epoch:               3 [12800/60000 (21%)]\tLoss: 0.139301, lr: 0.00417 lambd: 0.80288\n",
            "Train Epoch:               3 [19200/60000 (32%)]\tLoss: 0.338563, lr: 0.00407 lambd: 0.82104\n",
            "Train Epoch:               3 [25600/60000 (43%)]\tLoss: 0.166207, lr: 0.00397 lambd: 0.83768\n",
            "Train Epoch:               3 [32000/60000 (53%)]\tLoss: 0.343082, lr: 0.00388 lambd: 0.85289\n",
            "Train Epoch:               3 [38400/60000 (64%)]\tLoss: 0.258004, lr: 0.00379 lambd: 0.86678\n",
            "Train Epoch:               3 [44800/60000 (75%)]\tLoss: 0.238090, lr: 0.00371 lambd: 0.87945\n",
            "Train Epoch:               3 [51200/60000 (85%)]\tLoss: 0.126953, lr: 0.00364 lambd: 0.89098\n",
            "Train Epoch:               3 [57600/60000 (96%)]\tLoss: 0.161749, lr: 0.00356 lambd: 0.90147\n"
          ],
          "name": "stdout"
        },
        {
          "output_type": "stream",
          "text": [
            "Exception ignored in: <bound method _DataLoaderIter.__del__ of <torch.utils.data.dataloader._DataLoaderIter object at 0x7f1b76df3b38>>\n",
            "Traceback (most recent call last):\n",
            "  File \"/usr/local/lib/python3.6/dist-packages/torch/utils/data/dataloader.py\", line 399, in __del__\n",
            "    self._shutdown_workers()\n",
            "  File \"/usr/local/lib/python3.6/dist-packages/torch/utils/data/dataloader.py\", line 378, in _shutdown_workers\n",
            "    self.worker_result_queue.get()\n",
            "  File \"/usr/lib/python3.6/multiprocessing/queues.py\", line 337, in get\n",
            "    return _ForkingPickler.loads(res)\n",
            "  File \"/usr/local/lib/python3.6/dist-packages/torch/multiprocessing/reductions.py\", line 151, in rebuild_storage_fd\n",
            "    fd = df.detach()\n",
            "  File \"/usr/lib/python3.6/multiprocessing/resource_sharer.py\", line 58, in detach\n",
            "    return reduction.recv_handle(conn)\n",
            "  File \"/usr/lib/python3.6/multiprocessing/reduction.py\", line 182, in recv_handle\n",
            "    return recvfds(s, 1)[0]\n",
            "  File \"/usr/lib/python3.6/multiprocessing/reduction.py\", line 155, in recvfds\n",
            "    raise EOFError\n",
            "EOFError: \n"
          ],
          "name": "stderr"
        },
        {
          "output_type": "stream",
          "text": [
            "\n",
            "Test set: Average loss: 0.6812, Accuracy: 16885/20000 (84%)\n",
            "\n",
            "Domains: Test set:  Accuracy: 12741/20000 (64%)\n",
            "\n",
            "Train Epoch:               4 [0/60000 (0%)]\tLoss: 0.239329, lr: 0.00354 lambd: 0.90515\n",
            "Train Epoch:               4 [6400/60000 (11%)]\tLoss: 0.223743, lr: 0.00347 lambd: 0.91433\n",
            "Train Epoch:               4 [12800/60000 (21%)]\tLoss: 0.436369, lr: 0.00340 lambd: 0.92267\n",
            "Train Epoch:               4 [19200/60000 (32%)]\tLoss: 0.129723, lr: 0.00334 lambd: 0.93022\n",
            "Train Epoch:               4 [25600/60000 (43%)]\tLoss: 0.206140, lr: 0.00328 lambd: 0.93706\n",
            "Train Epoch:               4 [32000/60000 (53%)]\tLoss: 0.184717, lr: 0.00322 lambd: 0.94324\n",
            "Train Epoch:               4 [38400/60000 (64%)]\tLoss: 0.237637, lr: 0.00316 lambd: 0.94884\n",
            "Train Epoch:               4 [44800/60000 (75%)]\tLoss: 0.279665, lr: 0.00311 lambd: 0.95390\n",
            "Train Epoch:               4 [51200/60000 (85%)]\tLoss: 0.310842, lr: 0.00306 lambd: 0.95846\n",
            "Train Epoch:               4 [57600/60000 (96%)]\tLoss: 0.142008, lr: 0.00301 lambd: 0.96259\n",
            "\n",
            "Test set: Average loss: 0.6098, Accuracy: 16890/20000 (84%)\n",
            "\n",
            "Domains: Test set:  Accuracy: 13593/20000 (68%)\n",
            "\n",
            "Train Epoch:               5 [0/60000 (0%)]\tLoss: 0.095540, lr: 0.00299 lambd: 0.96403\n",
            "Train Epoch:               5 [6400/60000 (11%)]\tLoss: 0.163437, lr: 0.00294 lambd: 0.96761\n",
            "Train Epoch:               5 [12800/60000 (21%)]\tLoss: 0.320046, lr: 0.00290 lambd: 0.97084\n",
            "Train Epoch:               5 [19200/60000 (32%)]\tLoss: 0.425567, lr: 0.00285 lambd: 0.97375\n",
            "Train Epoch:               5 [25600/60000 (43%)]\tLoss: 0.163236, lr: 0.00281 lambd: 0.97637\n",
            "Train Epoch:               5 [32000/60000 (53%)]\tLoss: 0.375860, lr: 0.00277 lambd: 0.97874\n",
            "Train Epoch:               5 [38400/60000 (64%)]\tLoss: 0.449602, lr: 0.00273 lambd: 0.98087\n",
            "Train Epoch:               5 [44800/60000 (75%)]\tLoss: 0.201025, lr: 0.00269 lambd: 0.98279\n",
            "Train Epoch:               5 [51200/60000 (85%)]\tLoss: 0.029802, lr: 0.00266 lambd: 0.98452\n",
            "Train Epoch:               5 [57600/60000 (96%)]\tLoss: 0.085270, lr: 0.00262 lambd: 0.98607\n",
            "\n",
            "Test set: Average loss: 0.5799, Accuracy: 16907/20000 (85%)\n",
            "\n",
            "Domains: Test set:  Accuracy: 12811/20000 (64%)\n",
            "\n",
            "Train Epoch:               6 [0/60000 (0%)]\tLoss: 0.184435, lr: 0.00261 lambd: 0.98661\n",
            "Train Epoch:               6 [6400/60000 (11%)]\tLoss: 0.153009, lr: 0.00257 lambd: 0.98796\n",
            "Train Epoch:               6 [12800/60000 (21%)]\tLoss: 0.227774, lr: 0.00254 lambd: 0.98917\n",
            "Train Epoch:               6 [19200/60000 (32%)]\tLoss: 0.207852, lr: 0.00251 lambd: 0.99026\n",
            "Train Epoch:               6 [25600/60000 (43%)]\tLoss: 0.300307, lr: 0.00248 lambd: 0.99124\n",
            "Train Epoch:               6 [32000/60000 (53%)]\tLoss: 0.126430, lr: 0.00245 lambd: 0.99213\n",
            "Train Epoch:               6 [38400/60000 (64%)]\tLoss: 0.115108, lr: 0.00242 lambd: 0.99292\n",
            "Train Epoch:               6 [44800/60000 (75%)]\tLoss: 0.402581, lr: 0.00239 lambd: 0.99363\n",
            "Train Epoch:               6 [51200/60000 (85%)]\tLoss: 0.240936, lr: 0.00236 lambd: 0.99428\n",
            "Train Epoch:               6 [57600/60000 (96%)]\tLoss: 0.045494, lr: 0.00233 lambd: 0.99485\n",
            "\n",
            "Test set: Average loss: 0.5029, Accuracy: 17020/20000 (85%)\n",
            "\n",
            "Domains: Test set:  Accuracy: 12973/20000 (65%)\n",
            "\n",
            "Train Epoch:               7 [0/60000 (0%)]\tLoss: 0.063002, lr: 0.00232 lambd: 0.99505\n",
            "Train Epoch:               7 [6400/60000 (11%)]\tLoss: 0.143461, lr: 0.00230 lambd: 0.99555\n",
            "Train Epoch:               7 [12800/60000 (21%)]\tLoss: 0.055614, lr: 0.00227 lambd: 0.99600\n",
            "Train Epoch:               7 [19200/60000 (32%)]\tLoss: 0.178007, lr: 0.00225 lambd: 0.99641\n",
            "Train Epoch:               7 [25600/60000 (43%)]\tLoss: 0.111730, lr: 0.00222 lambd: 0.99677\n",
            "Train Epoch:               7 [32000/60000 (53%)]\tLoss: 0.399827, lr: 0.00220 lambd: 0.99710\n",
            "Train Epoch:               7 [38400/60000 (64%)]\tLoss: 0.382536, lr: 0.00218 lambd: 0.99739\n",
            "Train Epoch:               7 [44800/60000 (75%)]\tLoss: 0.092513, lr: 0.00215 lambd: 0.99765\n",
            "Train Epoch:               7 [51200/60000 (85%)]\tLoss: 0.130855, lr: 0.00213 lambd: 0.99789\n",
            "Train Epoch:               7 [57600/60000 (96%)]\tLoss: 0.113186, lr: 0.00211 lambd: 0.99810\n"
          ],
          "name": "stdout"
        },
        {
          "output_type": "stream",
          "text": [
            "Exception ignored in: <bound method _DataLoaderIter.__del__ of <torch.utils.data.dataloader._DataLoaderIter object at 0x7f1b76f9a630>>\n",
            "Traceback (most recent call last):\n",
            "  File \"/usr/local/lib/python3.6/dist-packages/torch/utils/data/dataloader.py\", line 399, in __del__\n",
            "    self._shutdown_workers()\n",
            "  File \"/usr/local/lib/python3.6/dist-packages/torch/utils/data/dataloader.py\", line 378, in _shutdown_workers\n",
            "    self.worker_result_queue.get()\n",
            "  File \"/usr/lib/python3.6/multiprocessing/queues.py\", line 337, in get\n",
            "    return _ForkingPickler.loads(res)\n",
            "  File \"/usr/local/lib/python3.6/dist-packages/torch/multiprocessing/reductions.py\", line 151, in rebuild_storage_fd\n",
            "    fd = df.detach()\n",
            "  File \"/usr/lib/python3.6/multiprocessing/resource_sharer.py\", line 57, in detach\n",
            "    with _resource_sharer.get_connection(self._id) as conn:\n",
            "  File \"/usr/lib/python3.6/multiprocessing/resource_sharer.py\", line 87, in get_connection\n",
            "    c = Client(address, authkey=process.current_process().authkey)\n",
            "  File \"/usr/lib/python3.6/multiprocessing/connection.py\", line 493, in Client\n",
            "    answer_challenge(c, authkey)\n",
            "  File \"/usr/lib/python3.6/multiprocessing/connection.py\", line 732, in answer_challenge\n",
            "    message = connection.recv_bytes(256)         # reject large message\n",
            "  File \"/usr/lib/python3.6/multiprocessing/connection.py\", line 216, in recv_bytes\n",
            "    buf = self._recv_bytes(maxlength)\n",
            "  File \"/usr/lib/python3.6/multiprocessing/connection.py\", line 407, in _recv_bytes\n",
            "    buf = self._recv(4)\n",
            "  File \"/usr/lib/python3.6/multiprocessing/connection.py\", line 383, in _recv\n",
            "    raise EOFError\n",
            "EOFError: \n"
          ],
          "name": "stderr"
        },
        {
          "output_type": "stream",
          "text": [
            "\n",
            "Test set: Average loss: 0.5656, Accuracy: 16756/20000 (84%)\n",
            "\n",
            "Domains: Test set:  Accuracy: 12609/20000 (63%)\n",
            "\n",
            "Train Epoch:               8 [0/60000 (0%)]\tLoss: 0.232729, lr: 0.00210 lambd: 0.99818\n",
            "Train Epoch:               8 [6400/60000 (11%)]\tLoss: 0.209408, lr: 0.00208 lambd: 0.99836\n",
            "Train Epoch:               8 [12800/60000 (21%)]\tLoss: 0.322816, lr: 0.00206 lambd: 0.99853\n",
            "Train Epoch:               8 [19200/60000 (32%)]\tLoss: 0.398542, lr: 0.00204 lambd: 0.99868\n",
            "Train Epoch:               8 [25600/60000 (43%)]\tLoss: 0.261024, lr: 0.00202 lambd: 0.99881\n",
            "Train Epoch:               8 [32000/60000 (53%)]\tLoss: 0.102615, lr: 0.00200 lambd: 0.99893\n",
            "Train Epoch:               8 [38400/60000 (64%)]\tLoss: 0.119381, lr: 0.00198 lambd: 0.99904\n",
            "Train Epoch:               8 [44800/60000 (75%)]\tLoss: 0.115255, lr: 0.00197 lambd: 0.99914\n",
            "Train Epoch:               8 [51200/60000 (85%)]\tLoss: 0.056104, lr: 0.00195 lambd: 0.99922\n",
            "Train Epoch:               8 [57600/60000 (96%)]\tLoss: 0.071539, lr: 0.00193 lambd: 0.99930\n",
            "\n",
            "Test set: Average loss: 0.5503, Accuracy: 17063/20000 (85%)\n",
            "\n",
            "Domains: Test set:  Accuracy: 12502/20000 (63%)\n",
            "\n",
            "Train Epoch:               9 [0/60000 (0%)]\tLoss: 0.127657, lr: 0.00192 lambd: 0.99933\n",
            "Train Epoch:               9 [6400/60000 (11%)]\tLoss: 0.195493, lr: 0.00191 lambd: 0.99940\n",
            "Train Epoch:               9 [12800/60000 (21%)]\tLoss: 0.236727, lr: 0.00189 lambd: 0.99946\n",
            "Train Epoch:               9 [19200/60000 (32%)]\tLoss: 0.296226, lr: 0.00187 lambd: 0.99951\n",
            "Train Epoch:               9 [25600/60000 (43%)]\tLoss: 0.098221, lr: 0.00186 lambd: 0.99956\n",
            "Train Epoch:               9 [32000/60000 (53%)]\tLoss: 0.088472, lr: 0.00184 lambd: 0.99961\n",
            "Train Epoch:               9 [38400/60000 (64%)]\tLoss: 0.190231, lr: 0.00183 lambd: 0.99965\n",
            "Train Epoch:               9 [44800/60000 (75%)]\tLoss: 0.133806, lr: 0.00181 lambd: 0.99968\n",
            "Train Epoch:               9 [51200/60000 (85%)]\tLoss: 0.101862, lr: 0.00180 lambd: 0.99971\n",
            "Train Epoch:               9 [57600/60000 (96%)]\tLoss: 0.264344, lr: 0.00178 lambd: 0.99974\n",
            "\n",
            "Test set: Average loss: 0.5536, Accuracy: 16988/20000 (85%)\n",
            "\n",
            "Domains: Test set:  Accuracy: 13464/20000 (67%)\n",
            "\n",
            "Train Epoch:               10 [0/60000 (0%)]\tLoss: 0.060188, lr: 0.00178 lambd: 0.99975\n",
            "Train Epoch:               10 [6400/60000 (11%)]\tLoss: 0.342309, lr: 0.00176 lambd: 0.99978\n",
            "Train Epoch:               10 [12800/60000 (21%)]\tLoss: 0.071470, lr: 0.00175 lambd: 0.99980\n",
            "Train Epoch:               10 [19200/60000 (32%)]\tLoss: 0.394678, lr: 0.00174 lambd: 0.99982\n",
            "Train Epoch:               10 [25600/60000 (43%)]\tLoss: 0.092334, lr: 0.00172 lambd: 0.99984\n",
            "Train Epoch:               10 [32000/60000 (53%)]\tLoss: 0.115551, lr: 0.00171 lambd: 0.99986\n",
            "Train Epoch:               10 [38400/60000 (64%)]\tLoss: 0.170991, lr: 0.00170 lambd: 0.99987\n",
            "Train Epoch:               10 [44800/60000 (75%)]\tLoss: 0.101521, lr: 0.00168 lambd: 0.99988\n",
            "Train Epoch:               10 [51200/60000 (85%)]\tLoss: 0.164479, lr: 0.00167 lambd: 0.99989\n",
            "Train Epoch:               10 [57600/60000 (96%)]\tLoss: 0.078505, lr: 0.00166 lambd: 0.99991\n",
            "\n",
            "Test set: Average loss: 0.4876, Accuracy: 16847/20000 (84%)\n",
            "\n",
            "Domains: Test set:  Accuracy: 12979/20000 (65%)\n",
            "\n"
          ],
          "name": "stdout"
        }
      ]
    },
    {
      "metadata": {
        "id": "-O0rF7gxWI50",
        "colab_type": "code",
        "colab": {}
      },
      "cell_type": "code",
      "source": [
        "def testDomainModel(model_f, model_c, device, test_loader):\n",
        "  model_f.eval()\n",
        "  model_c.eval()\n",
        "  test_loss = 0\n",
        "  correct = 0\n",
        "  with torch.no_grad():\n",
        "    for data, labels in test_loader:\n",
        "      data, labels = data.to(device), labels.to(device)\n",
        "      output = model_c(model_f(data))\n",
        "      test_loss += criterion(output, labels, reduction='sum').item()\n",
        "      pred = output.max(1, keepdim=True)[1].long() \n",
        "      correct += pred.eq(labels.view_as(pred)).sum().item()\n",
        "\n",
        "  test_loss /= len(test_loader.dataset)\n",
        "  print('\\nTest set: Average loss: {:.4f}, Accuracy: {}/{} ({:.0f}%)\\n'.format(\n",
        "      test_loss, correct, len(test_loader.dataset),\n",
        "      100. * correct / len(test_loader.dataset)))"
      ],
      "execution_count": 0,
      "outputs": []
    },
    {
      "metadata": {
        "id": "nHeW62laD_yC",
        "colab_type": "code",
        "colab": {
          "base_uri": "https://localhost:8080/",
          "height": 68
        },
        "outputId": "f66665fc-756d-4c6e-a1cf-60d8e4461717"
      },
      "cell_type": "code",
      "source": [
        "testDomainModel(model_f, model_c, device, test_loader)"
      ],
      "execution_count": 186,
      "outputs": [
        {
          "output_type": "stream",
          "text": [
            "\n",
            "Test set: Average loss: 0.0541, Accuracy: 9822/10000 (98%)\n",
            "\n"
          ],
          "name": "stdout"
        }
      ]
    },
    {
      "metadata": {
        "id": "ZnYCgnpvEUtO",
        "colab_type": "code",
        "colab": {
          "base_uri": "https://localhost:8080/",
          "height": 384
        },
        "outputId": "81b64778-fe48-448b-8270-2f533661fb8c"
      },
      "cell_type": "code",
      "source": [
        "printIncorrect(lambda x: model_c(model_f(x)), test_set)"
      ],
      "execution_count": 187,
      "outputs": [
        {
          "output_type": "display_data",
          "data": {
            "image/png": "[encoded data removed]",
            "text/plain": [
              "<matplotlib.figure.Figure at 0x7f1b77090be0>"
            ]
          },
          "metadata": {
            "tags": []
          }
        }
      ]
    },
    {
      "metadata": {
        "id": "NJ1ewETAEJfY",
        "colab_type": "code",
        "colab": {
          "base_uri": "https://localhost:8080/",
          "height": 68
        },
        "outputId": "72e64912-3773-4a5a-c7f2-883e6d60c151"
      },
      "cell_type": "code",
      "source": [
        "testDomainModel(model_f, model_c, device, mnist_m_test_loader)"
      ],
      "execution_count": 188,
      "outputs": [
        {
          "output_type": "stream",
          "text": [
            "\n",
            "Test set: Average loss: 0.9210, Accuracy: 7025/10000 (70%)\n",
            "\n"
          ],
          "name": "stdout"
        }
      ]
    },
    {
      "metadata": {
        "id": "JInRMFesEf2F",
        "colab_type": "code",
        "colab": {
          "base_uri": "https://localhost:8080/",
          "height": 384
        },
        "outputId": "5feb1cf2-fc2c-41c7-a46d-85ea42e8f461"
      },
      "cell_type": "code",
      "source": [
        "printIncorrect(lambda x: model_c(model_f(x)), mnist_m_test)"
      ],
      "execution_count": 189,
      "outputs": [
        {
          "output_type": "display_data",
          "data": {
            "image/png": "[encoded data removed]",
            "text/plain": [
              "<matplotlib.figure.Figure at 0x7f1b7687d828>"
            ]
          },
          "metadata": {
            "tags": []
          }
        }
      ]
    },
    {
      "metadata": {
        "id": "0iHLLO8BLgH8",
        "colab_type": "code",
        "colab": {}
      },
      "cell_type": "code",
      "source": [
        "def trainDomain(model_f, model_d, device, train_loader, optimizer, epoch):\n",
        "  model_d.train()\n",
        "  model_f.eval()\n",
        "  for batch_idx, (data, (_, domains)) in enumerate(train_loader):\n",
        "    data, domains = data.to(device), domains.unsqueeze(1).to(device)\n",
        "    optimizer.zero_grad()\n",
        "    output = model_d(model_f(data))\n",
        "    loss = criterion_domain(output, domains)\n",
        "    loss.backward()\n",
        "    optimizer.step()\n",
        "    if batch_idx % log_interval == 0:\n",
        "        print('Train Epoch: {} [{}/{} ({:.0f}%)]\\tLoss: {:.6f}'.format(\n",
        "            epoch, batch_idx * len(data), len(train_loader.dataset),\n",
        "            100. * batch_idx / len(train_loader), loss.item()))\n",
        "  model_f.zero_grad()"
      ],
      "execution_count": 0,
      "outputs": []
    },
    {
      "metadata": {
        "id": "OtlG-edxrlM3",
        "colab_type": "code",
        "colab": {}
      },
      "cell_type": "code",
      "source": [
        "class Domain(nn.Module):\n",
        "  def __init__(self):\n",
        "    super(Domain, self).__init__()\n",
        "    self.fc1 = nn.Linear(320, 100)\n",
        "    self.fc2 = nn.Linear(100, 1)\n",
        "\n",
        "  def forward(self, x):\n",
        "    x = F.leaky_relu(self.fc1(x))\n",
        "    x = F.dropout(x, training=self.training)\n",
        "    x = self.fc2(x)\n",
        "    return torch.sigmoid(x)"
      ],
      "execution_count": 0,
      "outputs": []
    },
    {
      "metadata": {
        "id": "CtzINrcUtkFK",
        "colab_type": "code",
        "colab": {
          "base_uri": "https://localhost:8080/",
          "height": 4097
        },
        "outputId": "1c05a192-79c8-42c2-b0a3-005b342c8281"
      },
      "cell_type": "code",
      "source": [
        "domain_pred = Domain().to(device)\n",
        "lr = 0.01\n",
        "optim_domain = optim.SGD(domain_pred.parameters(), lr=lr, momentum=momentum)\n",
        "for epoch in range(1, epochs+1):\n",
        "  trainDomain(model_f, domain_pred, device, mnist_ext_train_loader, optim_domain, epoch)\n",
        "  testWithDomain(model_f, model_c, domain_pred, device, mnist_ext_test_loader)"
      ],
      "execution_count": 192,
      "outputs": [
        {
          "output_type": "stream",
          "text": [
            "Train Epoch: 1 [0/120000 (0%)]\tLoss: 0.765312\n",
            "Train Epoch: 1 [6400/120000 (5%)]\tLoss: 0.558754\n",
            "Train Epoch: 1 [12800/120000 (11%)]\tLoss: 0.360694\n",
            "Train Epoch: 1 [19200/120000 (16%)]\tLoss: 0.505778\n",
            "Train Epoch: 1 [25600/120000 (21%)]\tLoss: 0.286678\n",
            "Train Epoch: 1 [32000/120000 (27%)]\tLoss: 0.384054\n",
            "Train Epoch: 1 [38400/120000 (32%)]\tLoss: 0.455518\n",
            "Train Epoch: 1 [44800/120000 (37%)]\tLoss: 0.340341\n",
            "Train Epoch: 1 [51200/120000 (43%)]\tLoss: 0.362185\n",
            "Train Epoch: 1 [57600/120000 (48%)]\tLoss: 0.181215\n",
            "Train Epoch: 1 [64000/120000 (53%)]\tLoss: 0.282134\n",
            "Train Epoch: 1 [70400/120000 (59%)]\tLoss: 0.401666\n",
            "Train Epoch: 1 [76800/120000 (64%)]\tLoss: 0.290358\n",
            "Train Epoch: 1 [83200/120000 (69%)]\tLoss: 0.282727\n",
            "Train Epoch: 1 [89600/120000 (75%)]\tLoss: 0.415583\n",
            "Train Epoch: 1 [96000/120000 (80%)]\tLoss: 0.221683\n",
            "Train Epoch: 1 [102400/120000 (85%)]\tLoss: 0.145821\n",
            "Train Epoch: 1 [108800/120000 (91%)]\tLoss: 0.162805\n",
            "Train Epoch: 1 [115200/120000 (96%)]\tLoss: 0.322857\n",
            "\n",
            "Test set: Average loss: 0.4876, Accuracy: 16847/20000 (84%)\n",
            "\n",
            "Domains: Test set:  Accuracy: 18226/20000 (91%)\n",
            "\n",
            "Train Epoch: 2 [0/120000 (0%)]\tLoss: 0.227130\n",
            "Train Epoch: 2 [6400/120000 (5%)]\tLoss: 0.230439\n",
            "Train Epoch: 2 [12800/120000 (11%)]\tLoss: 0.259158\n",
            "Train Epoch: 2 [19200/120000 (16%)]\tLoss: 0.215112\n",
            "Train Epoch: 2 [25600/120000 (21%)]\tLoss: 0.144577\n",
            "Train Epoch: 2 [32000/120000 (27%)]\tLoss: 0.217174\n",
            "Train Epoch: 2 [38400/120000 (32%)]\tLoss: 0.229216\n",
            "Train Epoch: 2 [44800/120000 (37%)]\tLoss: 0.203755\n",
            "Train Epoch: 2 [51200/120000 (43%)]\tLoss: 0.307229\n",
            "Train Epoch: 2 [57600/120000 (48%)]\tLoss: 0.193631\n",
            "Train Epoch: 2 [64000/120000 (53%)]\tLoss: 0.200102\n",
            "Train Epoch: 2 [70400/120000 (59%)]\tLoss: 0.446760\n",
            "Train Epoch: 2 [76800/120000 (64%)]\tLoss: 0.449783\n",
            "Train Epoch: 2 [83200/120000 (69%)]\tLoss: 0.152920\n",
            "Train Epoch: 2 [89600/120000 (75%)]\tLoss: 0.159881\n",
            "Train Epoch: 2 [96000/120000 (80%)]\tLoss: 0.354953\n",
            "Train Epoch: 2 [102400/120000 (85%)]\tLoss: 0.178288\n",
            "Train Epoch: 2 [108800/120000 (91%)]\tLoss: 0.210600\n",
            "Train Epoch: 2 [115200/120000 (96%)]\tLoss: 0.179357\n",
            "\n",
            "Test set: Average loss: 0.4876, Accuracy: 16847/20000 (84%)\n",
            "\n",
            "Domains: Test set:  Accuracy: 18418/20000 (92%)\n",
            "\n",
            "Train Epoch: 3 [0/120000 (0%)]\tLoss: 0.138368\n",
            "Train Epoch: 3 [6400/120000 (5%)]\tLoss: 0.309077\n",
            "Train Epoch: 3 [12800/120000 (11%)]\tLoss: 0.298076\n",
            "Train Epoch: 3 [19200/120000 (16%)]\tLoss: 0.143610\n",
            "Train Epoch: 3 [25600/120000 (21%)]\tLoss: 0.160768\n",
            "Train Epoch: 3 [32000/120000 (27%)]\tLoss: 0.218687\n",
            "Train Epoch: 3 [38400/120000 (32%)]\tLoss: 0.172453\n",
            "Train Epoch: 3 [44800/120000 (37%)]\tLoss: 0.139737\n",
            "Train Epoch: 3 [51200/120000 (43%)]\tLoss: 0.222732\n",
            "Train Epoch: 3 [57600/120000 (48%)]\tLoss: 0.151113\n",
            "Train Epoch: 3 [64000/120000 (53%)]\tLoss: 0.077439\n",
            "Train Epoch: 3 [70400/120000 (59%)]\tLoss: 0.161276\n",
            "Train Epoch: 3 [76800/120000 (64%)]\tLoss: 0.130539\n",
            "Train Epoch: 3 [83200/120000 (69%)]\tLoss: 0.151375\n",
            "Train Epoch: 3 [89600/120000 (75%)]\tLoss: 0.185752\n",
            "Train Epoch: 3 [96000/120000 (80%)]\tLoss: 0.187820\n",
            "Train Epoch: 3 [102400/120000 (85%)]\tLoss: 0.215825\n",
            "Train Epoch: 3 [108800/120000 (91%)]\tLoss: 0.120934\n",
            "Train Epoch: 3 [115200/120000 (96%)]\tLoss: 0.118922\n",
            "\n",
            "Test set: Average loss: 0.4876, Accuracy: 16847/20000 (84%)\n",
            "\n",
            "Domains: Test set:  Accuracy: 18492/20000 (92%)\n",
            "\n",
            "Train Epoch: 4 [0/120000 (0%)]\tLoss: 0.192477\n",
            "Train Epoch: 4 [6400/120000 (5%)]\tLoss: 0.207058\n",
            "Train Epoch: 4 [12800/120000 (11%)]\tLoss: 0.100533\n",
            "Train Epoch: 4 [19200/120000 (16%)]\tLoss: 0.156834\n",
            "Train Epoch: 4 [25600/120000 (21%)]\tLoss: 0.241268\n",
            "Train Epoch: 4 [32000/120000 (27%)]\tLoss: 0.199885\n",
            "Train Epoch: 4 [38400/120000 (32%)]\tLoss: 0.190369\n",
            "Train Epoch: 4 [44800/120000 (37%)]\tLoss: 0.152157\n",
            "Train Epoch: 4 [51200/120000 (43%)]\tLoss: 0.130679\n",
            "Train Epoch: 4 [57600/120000 (48%)]\tLoss: 0.149525\n",
            "Train Epoch: 4 [64000/120000 (53%)]\tLoss: 0.142704\n",
            "Train Epoch: 4 [70400/120000 (59%)]\tLoss: 0.307089\n",
            "Train Epoch: 4 [76800/120000 (64%)]\tLoss: 0.127680\n",
            "Train Epoch: 4 [83200/120000 (69%)]\tLoss: 0.211477\n",
            "Train Epoch: 4 [89600/120000 (75%)]\tLoss: 0.139464\n",
            "Train Epoch: 4 [96000/120000 (80%)]\tLoss: 0.155827\n",
            "Train Epoch: 4 [102400/120000 (85%)]\tLoss: 0.117207\n",
            "Train Epoch: 4 [108800/120000 (91%)]\tLoss: 0.094913\n",
            "Train Epoch: 4 [115200/120000 (96%)]\tLoss: 0.085288\n",
            "\n",
            "Test set: Average loss: 0.4876, Accuracy: 16847/20000 (84%)\n",
            "\n",
            "Domains: Test set:  Accuracy: 18703/20000 (94%)\n",
            "\n",
            "Train Epoch: 5 [0/120000 (0%)]\tLoss: 0.234695\n",
            "Train Epoch: 5 [6400/120000 (5%)]\tLoss: 0.241786\n",
            "Train Epoch: 5 [12800/120000 (11%)]\tLoss: 0.160600\n",
            "Train Epoch: 5 [19200/120000 (16%)]\tLoss: 0.195149\n",
            "Train Epoch: 5 [25600/120000 (21%)]\tLoss: 0.101252\n",
            "Train Epoch: 5 [32000/120000 (27%)]\tLoss: 0.061759\n",
            "Train Epoch: 5 [38400/120000 (32%)]\tLoss: 0.112138\n",
            "Train Epoch: 5 [44800/120000 (37%)]\tLoss: 0.123642\n",
            "Train Epoch: 5 [51200/120000 (43%)]\tLoss: 0.066928\n",
            "Train Epoch: 5 [57600/120000 (48%)]\tLoss: 0.091437\n",
            "Train Epoch: 5 [64000/120000 (53%)]\tLoss: 0.116903\n",
            "Train Epoch: 5 [70400/120000 (59%)]\tLoss: 0.188579\n",
            "Train Epoch: 5 [76800/120000 (64%)]\tLoss: 0.146730\n",
            "Train Epoch: 5 [83200/120000 (69%)]\tLoss: 0.268671\n",
            "Train Epoch: 5 [89600/120000 (75%)]\tLoss: 0.219655\n",
            "Train Epoch: 5 [96000/120000 (80%)]\tLoss: 0.054830\n",
            "Train Epoch: 5 [102400/120000 (85%)]\tLoss: 0.097439\n",
            "Train Epoch: 5 [108800/120000 (91%)]\tLoss: 0.131699\n",
            "Train Epoch: 5 [115200/120000 (96%)]\tLoss: 0.095643\n",
            "\n",
            "Test set: Average loss: 0.4876, Accuracy: 16847/20000 (84%)\n",
            "\n",
            "Domains: Test set:  Accuracy: 18659/20000 (93%)\n",
            "\n",
            "Train Epoch: 6 [0/120000 (0%)]\tLoss: 0.071220\n",
            "Train Epoch: 6 [6400/120000 (5%)]\tLoss: 0.132373\n",
            "Train Epoch: 6 [12800/120000 (11%)]\tLoss: 0.194664\n",
            "Train Epoch: 6 [19200/120000 (16%)]\tLoss: 0.287544\n",
            "Train Epoch: 6 [25600/120000 (21%)]\tLoss: 0.090236\n",
            "Train Epoch: 6 [32000/120000 (27%)]\tLoss: 0.144675\n",
            "Train Epoch: 6 [38400/120000 (32%)]\tLoss: 0.152890\n",
            "Train Epoch: 6 [44800/120000 (37%)]\tLoss: 0.116003\n",
            "Train Epoch: 6 [51200/120000 (43%)]\tLoss: 0.120565\n",
            "Train Epoch: 6 [57600/120000 (48%)]\tLoss: 0.154901\n",
            "Train Epoch: 6 [64000/120000 (53%)]\tLoss: 0.150952\n",
            "Train Epoch: 6 [70400/120000 (59%)]\tLoss: 0.072344\n",
            "Train Epoch: 6 [76800/120000 (64%)]\tLoss: 0.192016\n",
            "Train Epoch: 6 [83200/120000 (69%)]\tLoss: 0.237609\n",
            "Train Epoch: 6 [89600/120000 (75%)]\tLoss: 0.440834\n",
            "Train Epoch: 6 [96000/120000 (80%)]\tLoss: 0.233323\n",
            "Train Epoch: 6 [102400/120000 (85%)]\tLoss: 0.130949\n",
            "Train Epoch: 6 [108800/120000 (91%)]\tLoss: 0.146435\n",
            "Train Epoch: 6 [115200/120000 (96%)]\tLoss: 0.090598\n",
            "\n",
            "Test set: Average loss: 0.4876, Accuracy: 16847/20000 (84%)\n",
            "\n",
            "Domains: Test set:  Accuracy: 18744/20000 (94%)\n",
            "\n",
            "Train Epoch: 7 [0/120000 (0%)]\tLoss: 0.288184\n",
            "Train Epoch: 7 [6400/120000 (5%)]\tLoss: 0.320837\n",
            "Train Epoch: 7 [12800/120000 (11%)]\tLoss: 0.194668\n",
            "Train Epoch: 7 [19200/120000 (16%)]\tLoss: 0.091601\n",
            "Train Epoch: 7 [25600/120000 (21%)]\tLoss: 0.168248\n",
            "Train Epoch: 7 [32000/120000 (27%)]\tLoss: 0.200033\n",
            "Train Epoch: 7 [38400/120000 (32%)]\tLoss: 0.165421\n",
            "Train Epoch: 7 [44800/120000 (37%)]\tLoss: 0.111215\n",
            "Train Epoch: 7 [51200/120000 (43%)]\tLoss: 0.247728\n",
            "Train Epoch: 7 [57600/120000 (48%)]\tLoss: 0.146776\n",
            "Train Epoch: 7 [64000/120000 (53%)]\tLoss: 0.051836\n",
            "Train Epoch: 7 [70400/120000 (59%)]\tLoss: 0.109036\n",
            "Train Epoch: 7 [76800/120000 (64%)]\tLoss: 0.157293\n",
            "Train Epoch: 7 [83200/120000 (69%)]\tLoss: 0.229409\n",
            "Train Epoch: 7 [89600/120000 (75%)]\tLoss: 0.129157\n",
            "Train Epoch: 7 [96000/120000 (80%)]\tLoss: 0.227735\n",
            "Train Epoch: 7 [102400/120000 (85%)]\tLoss: 0.055995\n",
            "Train Epoch: 7 [108800/120000 (91%)]\tLoss: 0.140625\n",
            "Train Epoch: 7 [115200/120000 (96%)]\tLoss: 0.117500\n",
            "\n",
            "Test set: Average loss: 0.4876, Accuracy: 16847/20000 (84%)\n",
            "\n",
            "Domains: Test set:  Accuracy: 18793/20000 (94%)\n",
            "\n",
            "Train Epoch: 8 [0/120000 (0%)]\tLoss: 0.105418\n",
            "Train Epoch: 8 [6400/120000 (5%)]\tLoss: 0.163085\n",
            "Train Epoch: 8 [12800/120000 (11%)]\tLoss: 0.108052\n",
            "Train Epoch: 8 [19200/120000 (16%)]\tLoss: 0.196992\n",
            "Train Epoch: 8 [25600/120000 (21%)]\tLoss: 0.110492\n",
            "Train Epoch: 8 [32000/120000 (27%)]\tLoss: 0.147203\n",
            "Train Epoch: 8 [38400/120000 (32%)]\tLoss: 0.087299\n",
            "Train Epoch: 8 [44800/120000 (37%)]\tLoss: 0.103802\n",
            "Train Epoch: 8 [51200/120000 (43%)]\tLoss: 0.175374\n",
            "Train Epoch: 8 [57600/120000 (48%)]\tLoss: 0.149905\n",
            "Train Epoch: 8 [64000/120000 (53%)]\tLoss: 0.241838\n",
            "Train Epoch: 8 [70400/120000 (59%)]\tLoss: 0.096025\n",
            "Train Epoch: 8 [76800/120000 (64%)]\tLoss: 0.160708\n",
            "Train Epoch: 8 [83200/120000 (69%)]\tLoss: 0.125401\n",
            "Train Epoch: 8 [89600/120000 (75%)]\tLoss: 0.064480\n",
            "Train Epoch: 8 [96000/120000 (80%)]\tLoss: 0.056097\n",
            "Train Epoch: 8 [102400/120000 (85%)]\tLoss: 0.192603\n",
            "Train Epoch: 8 [108800/120000 (91%)]\tLoss: 0.094972\n",
            "Train Epoch: 8 [115200/120000 (96%)]\tLoss: 0.083746\n",
            "\n",
            "Test set: Average loss: 0.4876, Accuracy: 16847/20000 (84%)\n",
            "\n",
            "Domains: Test set:  Accuracy: 18844/20000 (94%)\n",
            "\n",
            "Train Epoch: 9 [0/120000 (0%)]\tLoss: 0.103816\n",
            "Train Epoch: 9 [6400/120000 (5%)]\tLoss: 0.121993\n",
            "Train Epoch: 9 [12800/120000 (11%)]\tLoss: 0.108538\n",
            "Train Epoch: 9 [19200/120000 (16%)]\tLoss: 0.181183\n",
            "Train Epoch: 9 [25600/120000 (21%)]\tLoss: 0.096300\n",
            "Train Epoch: 9 [32000/120000 (27%)]\tLoss: 0.119081\n",
            "Train Epoch: 9 [38400/120000 (32%)]\tLoss: 0.190551\n",
            "Train Epoch: 9 [44800/120000 (37%)]\tLoss: 0.264939\n",
            "Train Epoch: 9 [51200/120000 (43%)]\tLoss: 0.138543\n",
            "Train Epoch: 9 [57600/120000 (48%)]\tLoss: 0.125607\n",
            "Train Epoch: 9 [64000/120000 (53%)]\tLoss: 0.065000\n",
            "Train Epoch: 9 [70400/120000 (59%)]\tLoss: 0.082025\n",
            "Train Epoch: 9 [76800/120000 (64%)]\tLoss: 0.178075\n",
            "Train Epoch: 9 [83200/120000 (69%)]\tLoss: 0.120386\n",
            "Train Epoch: 9 [89600/120000 (75%)]\tLoss: 0.163258\n",
            "Train Epoch: 9 [96000/120000 (80%)]\tLoss: 0.109601\n",
            "Train Epoch: 9 [102400/120000 (85%)]\tLoss: 0.192335\n",
            "Train Epoch: 9 [108800/120000 (91%)]\tLoss: 0.166127\n",
            "Train Epoch: 9 [115200/120000 (96%)]\tLoss: 0.160735\n",
            "\n",
            "Test set: Average loss: 0.4876, Accuracy: 16847/20000 (84%)\n",
            "\n",
            "Domains: Test set:  Accuracy: 18807/20000 (94%)\n",
            "\n",
            "Train Epoch: 10 [0/120000 (0%)]\tLoss: 0.163476\n",
            "Train Epoch: 10 [6400/120000 (5%)]\tLoss: 0.141188\n",
            "Train Epoch: 10 [12800/120000 (11%)]\tLoss: 0.095776\n",
            "Train Epoch: 10 [19200/120000 (16%)]\tLoss: 0.223134\n",
            "Train Epoch: 10 [25600/120000 (21%)]\tLoss: 0.097555\n",
            "Train Epoch: 10 [32000/120000 (27%)]\tLoss: 0.047124\n",
            "Train Epoch: 10 [38400/120000 (32%)]\tLoss: 0.099810\n",
            "Train Epoch: 10 [44800/120000 (37%)]\tLoss: 0.146237\n",
            "Train Epoch: 10 [51200/120000 (43%)]\tLoss: 0.091830\n",
            "Train Epoch: 10 [57600/120000 (48%)]\tLoss: 0.093017\n",
            "Train Epoch: 10 [64000/120000 (53%)]\tLoss: 0.099589\n",
            "Train Epoch: 10 [70400/120000 (59%)]\tLoss: 0.132993\n",
            "Train Epoch: 10 [76800/120000 (64%)]\tLoss: 0.216851\n",
            "Train Epoch: 10 [83200/120000 (69%)]\tLoss: 0.154646\n",
            "Train Epoch: 10 [89600/120000 (75%)]\tLoss: 0.043521\n",
            "Train Epoch: 10 [96000/120000 (80%)]\tLoss: 0.143358\n",
            "Train Epoch: 10 [102400/120000 (85%)]\tLoss: 0.122835\n",
            "Train Epoch: 10 [108800/120000 (91%)]\tLoss: 0.124920\n",
            "Train Epoch: 10 [115200/120000 (96%)]\tLoss: 0.126640\n",
            "\n",
            "Test set: Average loss: 0.4876, Accuracy: 16847/20000 (84%)\n",
            "\n",
            "Domains: Test set:  Accuracy: 18844/20000 (94%)\n",
            "\n"
          ],
          "name": "stdout"
        }
      ]
    },
    {
      "metadata": {
        "id": "NCwa9ZXMtqSP",
        "colab_type": "code",
        "colab": {
          "base_uri": "https://localhost:8080/",
          "height": 187
        },
        "outputId": "526d3a28-7ae1-4ce0-b5f9-b03ef66e038f"
      },
      "cell_type": "code",
      "source": [
        "testWithDomain(model_f, model_c, domain_pred, device, mnist_ext_test_loader)\n",
        "testWithDomain(model_f, model_c, model_d, device, mnist_ext_test_loader)"
      ],
      "execution_count": 193,
      "outputs": [
        {
          "output_type": "stream",
          "text": [
            "\n",
            "Test set: Average loss: 0.4876, Accuracy: 16847/20000 (84%)\n",
            "\n",
            "Domains: Test set:  Accuracy: 18846/20000 (94%)\n",
            "\n",
            "\n",
            "Test set: Average loss: 0.4876, Accuracy: 16847/20000 (84%)\n",
            "\n",
            "Domains: Test set:  Accuracy: 12978/20000 (65%)\n",
            "\n"
          ],
          "name": "stdout"
        }
      ]
    },
    {
      "metadata": {
        "id": "anF5jPafw2pB",
        "colab_type": "code",
        "colab": {}
      },
      "cell_type": "code",
      "source": [
        "class alwaysOne(nn.Module):\n",
        "  def __init__(self):\n",
        "    super(alwaysOne, self).__init__()\n",
        "    self.fc2 = nn.Linear(320, 1)\n",
        "\n",
        "  def forward(self, x):\n",
        "    return torch.ones(x.shape[0]).to(device)"
      ],
      "execution_count": 0,
      "outputs": []
    },
    {
      "metadata": {
        "id": "FHr7rWow5nSD",
        "colab_type": "code",
        "colab": {}
      },
      "cell_type": "code",
      "source": [
        "ones = alwaysOne().to(device)"
      ],
      "execution_count": 0,
      "outputs": []
    },
    {
      "metadata": {
        "id": "5BX3Lsrd5_7G",
        "colab_type": "code",
        "colab": {
          "base_uri": "https://localhost:8080/",
          "height": 102
        },
        "outputId": "546652ef-5bd1-4a58-f0e3-4920d4c9ff0b"
      },
      "cell_type": "code",
      "source": [
        "testWithDomain(model_f, model_c, ones, device, mnist_ext_test_loader)"
      ],
      "execution_count": 182,
      "outputs": [
        {
          "output_type": "stream",
          "text": [
            "\n",
            "Test set: Average loss: 0.8648, Accuracy: 13776/20000 (69%)\n",
            "\n",
            "Domains: Test set:  Accuracy: 10000/20000 (50%)\n",
            "\n"
          ],
          "name": "stdout"
        }
      ]
    },
    {
      "metadata": {
        "id": "678vUfiy6I1M",
        "colab_type": "code",
        "colab": {}
      },
      "cell_type": "code",
      "source": [
        ""
      ],
      "execution_count": 0,
      "outputs": []
    }
  ]
}